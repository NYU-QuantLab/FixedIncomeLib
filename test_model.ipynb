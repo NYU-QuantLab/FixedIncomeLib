{
 "cells": [
  {
   "cell_type": "markdown",
   "id": "7a8eee63",
   "metadata": {},
   "source": [
    "# Test Model Notebook\n",
    "\n",
    "This notebook exercises **all methods** of the `YieldCurve` model:\n",
    "- Instantiate a simple OIS (SOFR-1B) and IBOR (USD-LIBOR-BBA-3M) forward curve\n",
    "- Compute discount factors for both indices\n",
    "- Compute forward rates:\n",
    "  - OIS forward using literal dates\n",
    "  - IBOR forward (using the 3M tenor embedded in the index key)\n",
    "- Demonstrate OIS forward via `TermOrTerminationDate`\n"
   ]
  },
  {
   "cell_type": "code",
   "execution_count": 1,
   "id": "1242ff22",
   "metadata": {},
   "outputs": [],
   "source": [
    "import pandas as pd\n",
    "from yield_curve.yield_curve_model import YieldCurve\n",
    "from date.classes import TermOrTerminationDate"
   ]
  },
  {
   "cell_type": "code",
   "execution_count": null,
   "id": "89cb738f",
   "metadata": {},
   "outputs": [],
   "source": [
    "# Dummy data\n",
    "DUMMY_DATA_COLLECTION = [\n",
    "    ['SOFR-1B',           '1M',  0.0300],\n",
    "    ['SOFR-1B',           '3M',  0.0325],\n",
    "    ['SOFR-1B',           '6M',  0.0350],\n",
    "    ['SOFR-1B',           '1Y',  0.0375],\n",
    "    ['USD-LIBOR-BBA-3M',  '1M',  0.0400],\n",
    "    ['USD-LIBOR-BBA-3M',  '3M',  0.0425],\n",
    "    ['USD-LIBOR-BBA-3M',  '6M',  0.0450],\n",
    "    ['USD-LIBOR-BBA-3M',  '1Y',  0.0475],\n",
    "]\n",
    "\n",
    "DUMMY_BUILD_METHOD = [\n",
    "    {'TARGET': 'SOFR-1B',          'INTERPOLATION METHOD': 'PIECEWISE_CONSTANT'},\n",
    "    {'TARGET': 'USD-LIBOR-BBA-3M', 'INTERPOLATION METHOD': 'PIECEWISE_CONSTANT'},\n",
    "]"
   ]
  },
  {
   "cell_type": "code",
   "execution_count": null,
   "id": "d19d46cc",
   "metadata": {},
   "outputs": [
    {
     "name": "stdout",
     "output_type": "stream",
     "text": [
      "YieldCurve instantiated. Value Date: 2025-05-25\n"
     ]
    }
   ],
   "source": [
    "# YieldCurve model\n",
    "value_date = '2025-05-25'\n",
    "\n",
    "data_df = pd.DataFrame(\n",
    "    DUMMY_DATA_COLLECTION,\n",
    "    columns=['INDEX', 'AXIS1', 'VALUES']\n",
    ")\n",
    "build_methods = DUMMY_BUILD_METHOD\n",
    "\n",
    "model = YieldCurve(value_date, data_df, build_methods)\n",
    "print(\"YieldCurve instantiated. Value Date:\", model.valueDate.ISO())\n"
   ]
  },
  {
   "cell_type": "code",
   "execution_count": 4,
   "id": "6366ac32",
   "metadata": {},
   "outputs": [
    {
     "name": "stdout",
     "output_type": "stream",
     "text": [
      "DF(SOFR-1B → 2025-06-25):     0.997503\n",
      "DF(USD-LIBOR-BBA-3M → 2025-06-25): 0.996672\n"
     ]
    }
   ],
   "source": [
    "# discount factors\n",
    "df_sofr = model.discountFactor('SOFR-1B', '2025-06-25')\n",
    "df_libor = model.discountFactor('USD-LIBOR-BBA-3M', '2025-06-25')\n",
    "\n",
    "print(f\"DF(SOFR-1B → 2025-06-25):     {df_sofr:.6f}\")\n",
    "print(f\"DF(USD-LIBOR-BBA-3M → 2025-06-25): {df_libor:.6f}\")\n"
   ]
  },
  {
   "cell_type": "code",
   "execution_count": null,
   "id": "ff3c5a23",
   "metadata": {},
   "outputs": [
    {
     "name": "stdout",
     "output_type": "stream",
     "text": [
      "OIS forward SOFR 2025-06-25 → 2025-07-25: 0.032544\n",
      "IBOR forward USD-LIBOR-BBA-3M (3M) at 2025-06-25: 0.042594\n"
     ]
    }
   ],
   "source": [
    "# forward rates\n",
    "fwd_sofr = model.forward('SOFR-1B', '2025-06-25', '2025-07-25')\n",
    "fwd_libor = model.forward('USD-LIBOR-BBA-3M', '2025-06-25')\n",
    "\n",
    "print(f\"OIS forward SOFR 2025-06-25 → 2025-07-25: {fwd_sofr:.6f}\")\n",
    "print(f\"IBOR forward USD-LIBOR-BBA-3M (3M) at 2025-06-25: {fwd_libor:.6f}\")\n"
   ]
  },
  {
   "cell_type": "code",
   "execution_count": 6,
   "id": "482a9020",
   "metadata": {},
   "outputs": [
    {
     "name": "stdout",
     "output_type": "stream",
     "text": [
      "Forward SOFR via TermOrTerminationDate('1M'): 0.032544\n"
     ]
    }
   ],
   "source": [
    "#TermOrTerminationDate('1M')\n",
    "fwd_sofr_term = model.forward('SOFR-1B', '2025-06-25', TermOrTerminationDate('1M'))\n",
    "print(f\"Forward SOFR via TermOrTerminationDate('1M'): {fwd_sofr_term:.6f}\")\n"
   ]
  }
 ],
 "metadata": {
  "kernelspec": {
   "display_name": "Python 3",
   "language": "python",
   "name": "python3"
  },
  "language_info": {
   "codemirror_mode": {
    "name": "ipython",
    "version": 3
   },
   "file_extension": ".py",
   "mimetype": "text/x-python",
   "name": "python",
   "nbconvert_exporter": "python",
   "pygments_lexer": "ipython3",
   "version": "3.12.5"
  }
 },
 "nbformat": 4,
 "nbformat_minor": 5
}

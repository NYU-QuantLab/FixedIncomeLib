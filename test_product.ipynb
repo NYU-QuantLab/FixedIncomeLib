{
 "cells": [
  {
   "cell_type": "markdown",
   "id": "d946ef5a",
   "metadata": {},
   "source": [
    "# Test Product Notebook\n",
    "\n",
    "This notebook exercises **all Product classes** and their **corresponding visitor**:\n",
    "1. ProductBulletCashflow  → CashflowVisitor\n",
    "2. ProductIborCashflow    → IborCashflowVisitor\n",
    "3. ProductOvernightCashflow (via tenor & via date) → OvernightCashflowVisitor\n",
    "4. ProductFuture          → FutureVisitor\n",
    "5. ProductRfrFuture       → RfrFutureVisitor\n",
    "6. ProductIborSwap        → IborSwapVisitor\n",
    "7. ProductOvernightSwap   → OvernightSwapVisitor\n"
   ]
  },
  {
   "cell_type": "code",
   "execution_count": 1,
   "id": "c8026a8c",
   "metadata": {},
   "outputs": [],
   "source": [
    "import pandas as pd\n",
    "\n",
    "from product.linear_products import (\n",
    "    ProductBulletCashflow,\n",
    "    ProductIborCashflow,\n",
    "    ProductOvernightCashflow,\n",
    "    ProductFuture,\n",
    "    ProductRfrFuture,\n",
    "    ProductIborSwap,\n",
    "    ProductOvernightSwap,\n",
    ")\n",
    "\n",
    "from product.product_display_visitor import (\n",
    "    CashflowVisitor,\n",
    "    IborCashflowVisitor,\n",
    "    OvernightCashflowVisitor,\n",
    "    FutureVisitor,\n",
    "    RfrFutureVisitor,\n",
    "    IborSwapVisitor,\n",
    "    OvernightSwapVisitor,\n",
    ")\n"
   ]
  },
  {
   "cell_type": "code",
   "execution_count": 2,
   "id": "39db00ac",
   "metadata": {},
   "outputs": [
    {
     "name": "stdout",
     "output_type": "stream",
     "text": [
      "ProductBulletCashflow →\n",
      "         Attribute       Value\n",
      "0  TerminationDate  2025-12-31\n",
      "1         Currency         USD\n",
      "2         Notional     10000.0\n",
      "3      LongOrShort        Long \n",
      "\n"
     ]
    }
   ],
   "source": [
    "# ProductBulletCashflow\n",
    "bullet = ProductBulletCashflow(\n",
    "    '2025-12-31',  # terminationDate\n",
    "    'USD',         # currency\n",
    "    1e4,           # notional\n",
    "    'Long'         # longOrShort\n",
    ")\n",
    "print(\"ProductBulletCashflow →\")\n",
    "print(bullet.accept(CashflowVisitor()), \"\\n\")\n"
   ]
  },
  {
   "cell_type": "code",
   "execution_count": 3,
   "id": "11a8a36b",
   "metadata": {},
   "outputs": [
    {
     "name": "stdout",
     "output_type": "stream",
     "text": [
      "ProductIborCashflow →\n",
      "      Attribute                  Value\n",
      "0  AccrualStart             2025-06-01\n",
      "1    AccrualEnd             2025-09-01\n",
      "2         Index  USDLibor3M Actual/360\n",
      "3        Spread                  0.001\n",
      "4      Notional               500000.0\n",
      "5      Currency                    USD\n",
      "6   LongOrShort                  Short \n",
      "\n"
     ]
    }
   ],
   "source": [
    "# ProductIborCashflow\n",
    "ibor_cf = ProductIborCashflow(\n",
    "    startDate='2025-06-01',\n",
    "    endDate='2025-09-01',\n",
    "    index='USD-LIBOR-BBA-3M',\n",
    "    spread=0.0010,  # 10 bps\n",
    "    notional=5e5,\n",
    "    longOrShort='Short'\n",
    ")\n",
    "print(\"ProductIborCashflow →\")\n",
    "print(ibor_cf.accept(IborCashflowVisitor()), \"\\n\")\n"
   ]
  },
  {
   "cell_type": "code",
   "execution_count": 4,
   "id": "b02b48e2",
   "metadata": {},
   "outputs": [
    {
     "name": "stdout",
     "output_type": "stream",
     "text": [
      "ProductOvernightCashflow (tenor) →\n",
      "         Attribute              Value\n",
      "0    EffectiveDate         2025-06-01\n",
      "1  TerminationDate         2025-09-02\n",
      "2            Index  SOFRON Actual/360\n",
      "3           Spread             0.0005\n",
      "4         Notional           200000.0\n",
      "5         Currency                USD\n",
      "6       LongOrShrt               Long \n",
      "\n"
     ]
    }
   ],
   "source": [
    "# ProductOvernightCashflow via tenor\n",
    "ois_cf_tenor = ProductOvernightCashflow(\n",
    "    effectiveDate='2025-06-01',\n",
    "    termOrEnd='3M',\n",
    "    index='SOFR-1B',\n",
    "    spread=0.0005,\n",
    "    notional=2e5,\n",
    "    longOrShort='Long'\n",
    ")\n",
    "print(\"ProductOvernightCashflow (tenor) →\")\n",
    "print(ois_cf_tenor.accept(OvernightCashflowVisitor()), \"\\n\")\n"
   ]
  },
  {
   "cell_type": "code",
   "execution_count": 5,
   "id": "56ac819c",
   "metadata": {},
   "outputs": [
    {
     "name": "stdout",
     "output_type": "stream",
     "text": [
      "ProductOvernightCashflow (date) →\n",
      "         Attribute              Value\n",
      "0    EffectiveDate         2025-06-01\n",
      "1  TerminationDate         2025-12-01\n",
      "2            Index  SOFRON Actual/360\n",
      "3           Spread             0.0005\n",
      "4         Notional           200000.0\n",
      "5         Currency                USD\n",
      "6       LongOrShrt               Long \n",
      "\n"
     ]
    }
   ],
   "source": [
    "# ProductOvernightCashflow via explicit date\n",
    "ois_cf_date = ProductOvernightCashflow(\n",
    "    effectiveDate='2025-06-01',\n",
    "    termOrEnd='2025-12-01',\n",
    "    index='SOFR-1B',\n",
    "    spread=0.0005,\n",
    "    notional=2e5,\n",
    "    longOrShort='Long'\n",
    ")\n",
    "print(\"ProductOvernightCashflow (date) →\")\n",
    "print(ois_cf_date.accept(OvernightCashflowVisitor()), \"\\n\")\n"
   ]
  },
  {
   "cell_type": "code",
   "execution_count": 6,
   "id": "c8429efd",
   "metadata": {},
   "outputs": [
    {
     "name": "stdout",
     "output_type": "stream",
     "text": [
      "ProductFuture (IBOR) →\n",
      "        Attribute       Value\n",
      "0  ExpirationDate  2025-05-29\n",
      "1   EffectiveDate  2025-06-01\n",
      "2    MaturityDate  2025-09-02\n",
      "3        Currency         USD\n",
      "4        Notional    100000.0\n",
      "5          Strike        98.5\n",
      "6     LongOrShort        Long \n",
      "\n"
     ]
    }
   ],
   "source": [
    "# ProductFuture (IBOR-based)\n",
    "future = ProductFuture(\n",
    "    effectiveDate='2025-06-01',\n",
    "    index='USD-LIBOR-BBA-3M',\n",
    "    strike=98.50,\n",
    "    notional=1e5,\n",
    "    longOrShort='Long'\n",
    ")\n",
    "print(\"ProductFuture (IBOR) →\")\n",
    "print(future.accept(FutureVisitor()), \"\\n\")\n"
   ]
  },
  {
   "cell_type": "code",
   "execution_count": 7,
   "id": "bd285e19",
   "metadata": {},
   "outputs": [
    {
     "name": "stdout",
     "output_type": "stream",
     "text": [
      "ProductRfrFuture (OIS) →\n",
      "        Attribute       Value\n",
      "0  ExpirationDate  2025-06-02\n",
      "1    MaturityDate  2025-06-02\n",
      "2           Index     SOFR-1B\n",
      "3          Strike       99.75\n",
      "4        Notional    100000.0\n",
      "5        Currency         USD\n",
      "6     LongOrShort       Short \n",
      "\n"
     ]
    }
   ],
   "source": [
    "# ProductRfrFuture (OIS-based)\n",
    "rfr_fut = ProductRfrFuture(\n",
    "    effectiveDate='2025-06-01',\n",
    "    index='SOFR-1B',\n",
    "    strike=99.75,\n",
    "    notional=1e5,\n",
    "    longOrShort='Short'\n",
    ")\n",
    "print(\"ProductRfrFuture (OIS) →\")\n",
    "print(rfr_fut.accept(RfrFutureVisitor()), \"\\n\")\n"
   ]
  },
  {
   "cell_type": "code",
   "execution_count": 8,
   "id": "0e3bfc4d",
   "metadata": {},
   "outputs": [
    {
     "name": "stdout",
     "output_type": "stream",
     "text": [
      "ProductIborSwap →\n",
      "         Attribute             Value\n",
      "0    EffectiveDate        2025-06-01\n",
      "1  TerminationDate        2026-06-01\n",
      "2        FixedRate             0.045\n",
      "3            Index  USD-LIBOR-BBA-3M\n",
      "4         PayFixed              True\n",
      "5         Notional         2000000.0\n",
      "6         Currency               USD\n",
      "7      LongOrShort              Long \n",
      "\n"
     ]
    }
   ],
   "source": [
    "# ProductIborSwap (vanilla 1Y IBOR swap, pay fixed)\n",
    "ibor_swap = ProductIborSwap(\n",
    "    effectiveDate='2025-06-01',\n",
    "    maturity='1Y',\n",
    "    payFixed=True,\n",
    "    fixedRate=0.0450,              \n",
    "    floatingIndex='USD-LIBOR-BBA-3M',\n",
    "    notional=2e6,\n",
    "    longOrShort='Long'\n",
    ")\n",
    "print(\"ProductIborSwap →\")\n",
    "print(ibor_swap.accept(IborSwapVisitor()), \"\\n\")\n"
   ]
  },
  {
   "cell_type": "code",
   "execution_count": 9,
   "id": "54a6ff8d",
   "metadata": {},
   "outputs": [
    {
     "name": "stdout",
     "output_type": "stream",
     "text": [
      "ProductOvernightSwap →\n",
      "         Attribute       Value\n",
      "0    EffectiveDate  2025-06-01\n",
      "1  TerminationDate  2026-06-01\n",
      "2        FixedRate       0.015\n",
      "3            Index     SOFR-1B\n",
      "4         PayFixed       False\n",
      "5         Notional   1000000.0\n",
      "6         Currency         USD\n",
      "7      LongOrShort       Short \n",
      "\n"
     ]
    }
   ],
   "source": [
    "# ProductOvernightSwap (vanilla 1Y OIS swap, receive fixed)\n",
    "ois_swap = ProductOvernightSwap(\n",
    "    effectiveDate='2025-06-01',\n",
    "    maturity='1Y',\n",
    "    payFixed=False,\n",
    "    fixedRate=0.0150,             \n",
    "    overnightIndex='SOFR-1B',\n",
    "    notional=1e6,\n",
    "    longOrShort='Short'\n",
    ")\n",
    "print(\"ProductOvernightSwap →\")\n",
    "print(ois_swap.accept(OvernightSwapVisitor()), \"\\n\")\n"
   ]
  }
 ],
 "metadata": {
  "kernelspec": {
   "display_name": "Python 3",
   "language": "python",
   "name": "python3"
  },
  "language_info": {
   "codemirror_mode": {
    "name": "ipython",
    "version": 3
   },
   "file_extension": ".py",
   "mimetype": "text/x-python",
   "name": "python",
   "nbconvert_exporter": "python",
   "pygments_lexer": "ipython3",
   "version": "3.12.5"
  }
 },
 "nbformat": 4,
 "nbformat_minor": 5
}

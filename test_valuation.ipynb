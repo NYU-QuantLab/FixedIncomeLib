{
 "cells": [
  {
   "cell_type": "markdown",
   "id": "f3afdb13",
   "metadata": {},
   "source": [
    "# Test Valuation Notebook\n",
    "\n",
    "This notebook exercises **all ValuationEngine** classes:\n",
    "1. `ValuationEngineProductBulletCashflow`\n",
    "2. `ValuationEngineProductFuture`\n",
    "3. `ValuationEngineProductRfrFuture`\n",
    "4. `ValuationEngineProductIborSwap`\n",
    "5. `ValuationEngineProductOvernightSwap`\n",
    "\n",
    "We will:\n",
    "- Build the same dummy `YieldCurve` from test_model\n",
    "- Instantiate each product\n",
    "- Price it via its ValuationEngine\n"
   ]
  },
  {
   "cell_type": "code",
   "execution_count": 1,
   "id": "1a70b19e",
   "metadata": {},
   "outputs": [],
   "source": [
    "import pandas as pd\n",
    "\n",
    "from product.linear_products import (\n",
    "    ProductBulletCashflow,\n",
    "    ProductFuture,\n",
    "    ProductRfrFuture,\n",
    "    ProductIborSwap,\n",
    "    ProductOvernightSwap,\n",
    ")\n",
    "from yield_curve.yield_curve_model import YieldCurve\n",
    "from yield_curve.valuation_engine_yc import (\n",
    "    ValuationEngineProductBulletCashflow,\n",
    "    ValuationEngineProductFuture,\n",
    "    ValuationEngineProductRfrFuture,\n",
    "    ValuationEngineProductIborSwap,\n",
    "    ValuationEngineProductOvernightSwap\n",
    ")\n"
   ]
  },
  {
   "cell_type": "code",
   "execution_count": 2,
   "id": "baa8d46f",
   "metadata": {},
   "outputs": [
    {
     "name": "stdout",
     "output_type": "stream",
     "text": [
      "YieldCurve ready.\n",
      "\n"
     ]
    }
   ],
   "source": [
    "#YieldCurve\n",
    "DUMMY_DATA = [\n",
    "    ['SOFR-1B',           '1M',  0.0300],\n",
    "    ['SOFR-1B',           '3M',  0.0325],\n",
    "    ['SOFR-1B',           '6M',  0.0350],\n",
    "    ['SOFR-1B',           '1Y',  0.0375],\n",
    "    ['USD-LIBOR-BBA-3M',  '1M',  0.0400],\n",
    "    ['USD-LIBOR-BBA-3M',  '3M',  0.0425],\n",
    "    ['USD-LIBOR-BBA-3M',  '6M',  0.0450],\n",
    "    ['USD-LIBOR-BBA-3M',  '1Y',  0.0475],\n",
    "]\n",
    "DUMMY_BM = [\n",
    "    {'TARGET': 'SOFR-1B',          'INTERPOLATION METHOD': 'PIECEWISE_CONSTANT'},\n",
    "    {'TARGET': 'USD-LIBOR-BBA-3M', 'INTERPOLATION METHOD': 'PIECEWISE_CONSTANT'},\n",
    "]\n",
    "\n",
    "data_df = pd.DataFrame(DUMMY_DATA, columns=['INDEX', 'AXIS1', 'VALUES'])\n",
    "build_methods = DUMMY_BM\n",
    "model = YieldCurve('2025-05-25', data_df, build_methods)\n",
    "print(\"YieldCurve ready.\\n\")\n"
   ]
  },
  {
   "cell_type": "code",
   "execution_count": 3,
   "id": "18f50f5f",
   "metadata": {},
   "outputs": [
    {
     "name": "stdout",
     "output_type": "stream",
     "text": [
      "Bullet Cashflow PV → ['USD', np.float64(895460.9488260685)]\n"
     ]
    }
   ],
   "source": [
    "# ValuationEngineProductBulletCashflow\n",
    "bullet_cf = ProductBulletCashflow(\n",
    "    '2028-05-25',  # terminationDate\n",
    "    'USD',         # currency\n",
    "    1e6,           # notional\n",
    "    'Long'         # longOrShort\n",
    ")\n",
    "val_params_bullet = {'FUNDING INDEX': 'SOFR-1B'}\n",
    "vb = ValuationEngineProductBulletCashflow(model, val_params_bullet, bullet_cf)\n",
    "vb.calculateValue()\n",
    "print(\"Bullet Cashflow PV →\", vb.value)\n"
   ]
  },
  {
   "cell_type": "code",
   "execution_count": 4,
   "id": "9308d8e3",
   "metadata": {},
   "outputs": [
    {
     "name": "stdout",
     "output_type": "stream",
     "text": [
      "IBOR Future P&L → ['USD', np.float64(48770637.97967764)]\n"
     ]
    }
   ],
   "source": [
    "# ValuationEngineProductFuture (IBOR future)\n",
    "fut = ProductFuture(\n",
    "    effectiveDate='2025-06-01',\n",
    "    index='USD-LIBOR-BBA-3M',\n",
    "    strike=98.50,\n",
    "    notional=5e5,\n",
    "    longOrShort='Short'\n",
    ")\n",
    "vf = ValuationEngineProductFuture(model, {}, fut)\n",
    "vf.calculateValue()\n",
    "print(\"IBOR Future P&L →\", vf.value)\n"
   ]
  },
  {
   "cell_type": "code",
   "execution_count": 5,
   "id": "67eee95c",
   "metadata": {},
   "outputs": [
    {
     "name": "stdout",
     "output_type": "stream",
     "text": [
      "OIS Future P&L → ['USD', np.float64(nan)]\n"
     ]
    },
    {
     "name": "stderr",
     "output_type": "stream",
     "text": [
      "c:\\Users\\neels\\OneDrive\\Desktop\\Capstone_Project\\FixedIncomeLib\\yield_curve\\yield_curve_model.py:77: RuntimeWarning: invalid value encountered in scalar divide\n",
      "  return (dfStart / dfEnd - 1.) / accrued\n"
     ]
    }
   ],
   "source": [
    "# ValuationEngineProductRfrFuture (OIS future)\n",
    "rfr_fut = ProductRfrFuture(\n",
    "    effectiveDate='2025-06-01',\n",
    "    index='SOFR-1B',\n",
    "    strike=99.75,\n",
    "    notional=5e5,\n",
    "    longOrShort='Long'\n",
    ")\n",
    "vr = ValuationEngineProductRfrFuture(model, {}, rfr_fut)\n",
    "vr.calculateValue()\n",
    "print(\"OIS Future P&L →\", vr.value)"
   ]
  },
  {
   "cell_type": "code",
   "execution_count": 6,
   "id": "f0ae0b67",
   "metadata": {},
   "outputs": [
    {
     "name": "stdout",
     "output_type": "stream",
     "text": [
      "IBOR Swap PV → ['USD', np.float64(2365.2037001907593)]\n"
     ]
    }
   ],
   "source": [
    "# ValuationEngineProductIborSwap (vanilla IBOR swap)\n",
    "val_params_ibor_swap = {\n",
    "    'FIXED FREQUENCY': '6M',\n",
    "    'HOL CONV':       'NYC',\n",
    "    'BIZ CONV':       'MF',\n",
    "    'ACC BASIS':      'ACT/360'\n",
    "}\n",
    "ibor_swap = ProductIborSwap(\n",
    "    effectiveDate='2025-06-01',\n",
    "    maturity='1Y',\n",
    "    payFixed=True,\n",
    "    fixedRate=0.0450,\n",
    "    floatingIndex='USD-LIBOR-BBA-3M',\n",
    "    notional=2e6,\n",
    "    longOrShort='Long'\n",
    ")\n",
    "vis = ValuationEngineProductIborSwap(model, val_params_ibor_swap, ibor_swap)\n",
    "vis.calculateValue()\n",
    "print(\"IBOR Swap PV →\", vis.value)\n"
   ]
  },
  {
   "cell_type": "code",
   "execution_count": 7,
   "id": "0ac7eafe",
   "metadata": {},
   "outputs": [
    {
     "name": "stdout",
     "output_type": "stream",
     "text": [
      "OIS Swap PV → ['USD', np.float64(-21011.280852213244)]\n"
     ]
    }
   ],
   "source": [
    "# ValuationEngineProductOvernightSwap (vanilla OIS swap)\n",
    "val_params_ois_swap = {\n",
    "    'FIXED FREQUENCY': '1Y',\n",
    "    'HOL CONV':       'TARGET',\n",
    "    'BIZ CONV':       'MF',\n",
    "    'ACC BASIS':      '30/360'\n",
    "}\n",
    "ois_swap = ProductOvernightSwap(\n",
    "    effectiveDate='2025-06-01',\n",
    "    maturity='1Y',\n",
    "    payFixed=False,\n",
    "    fixedRate=0.0150,\n",
    "    overnightIndex='SOFR-1B',\n",
    "    notional=1e6,\n",
    "    longOrShort='Short'\n",
    ")\n",
    "vos = ValuationEngineProductOvernightSwap(model, val_params_ois_swap, ois_swap)\n",
    "vos.calculateValue()\n",
    "print(\"OIS Swap PV →\", vos.value)\n"
   ]
  }
 ],
 "metadata": {
  "kernelspec": {
   "display_name": "Python 3",
   "language": "python",
   "name": "python3"
  },
  "language_info": {
   "codemirror_mode": {
    "name": "ipython",
    "version": 3
   },
   "file_extension": ".py",
   "mimetype": "text/x-python",
   "name": "python",
   "nbconvert_exporter": "python",
   "pygments_lexer": "ipython3",
   "version": "3.12.5"
  }
 },
 "nbformat": 4,
 "nbformat_minor": 5
}

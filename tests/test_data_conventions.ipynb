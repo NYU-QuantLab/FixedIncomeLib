{
 "cells": [
  {
   "cell_type": "code",
   "execution_count": 1,
   "metadata": {},
   "outputs": [
    {
     "name": "stdout",
     "output_type": "stream",
     "text": [
      "Added to sys.path: c:\\Users\\Wanling Xie\\FixedIncomeLib\n"
     ]
    }
   ],
   "source": [
    "import sys, os\n",
    "\n",
    "# compute the parent of tests → FixedIncomeLib\n",
    "repo_root = os.path.abspath(os.path.join(os.getcwd(), \"..\"))\n",
    "if repo_root not in sys.path:\n",
    "    sys.path.insert(0, repo_root)\n",
    "\n",
    "print(\"Added to sys.path:\", repo_root)"
   ]
  },
  {
   "cell_type": "code",
   "execution_count": 2,
   "metadata": {},
   "outputs": [],
   "source": [
    "from abc import ABC\n",
    "import pandas as pd\n",
    "import json, os\n",
    "from typing import Dict, Any\n",
    "from apis.data_convention import displayDataConvention"
   ]
  },
  {
   "cell_type": "code",
   "execution_count": 3,
   "metadata": {},
   "outputs": [],
   "source": [
    "DATA_CONVENTION_MAP = {}\n",
    "\n",
    "class DataConvention(ABC):\n",
    "    def __init__(self, unique_name : str, data_type : str, content : dict):\n",
    "        super().__init__()\n",
    "        self.unique_name = unique_name.upper()\n",
    "        self.data_type = data_type.upper()\n",
    "        self.content = content\n",
    "        assert len(self.content) != 0\n",
    "    \n",
    "    @property\n",
    "    def name(self):\n",
    "        return self.unique_name\n",
    "    \n",
    "    @property\n",
    "    def conv_type(self):\n",
    "        return self.data_type\n",
    "    \n",
    "    def register_data_conv(self):\n",
    "        convention_map = DATA_CONVENTION_MAP.get(self.data_type)\n",
    "        if convention_map is None:\n",
    "            raise KeyError(f\"Unknown data_type: {self.data_type}\")\n",
    "        return convention_map(self.unique_name, self.content)\n",
    "    \n",
    "\n",
    "class DataConventionRFRFuture(DataConvention):\n",
    "\n",
    "    data_type = 'RFR FUTURE'\n",
    "\n",
    "    def __init__(self, unique_name, content):\n",
    "    \n",
    "        if len(content) != 7:\n",
    "            raise ValueError(f\"{unique_name}: content should have 7 fields, got {len(content)}\")\n",
    "\n",
    "        self.index = None\n",
    "        self.accrual_basis = None\n",
    "        self.accrual_period = None\n",
    "        self.payment_offset = None\n",
    "        self.payment_biz_day_conv = None\n",
    "        self.payment_hol_conv = None\n",
    "        self.contractual_notional = None\n",
    "        \n",
    "        upper_content = {k.upper(): v for k,v in content.items()}\n",
    "        for k, v in upper_content.items():\n",
    "            if k.upper() == \"INDEX\": \n",
    "                self.index = v\n",
    "            elif k == \"ACCRUAL_BASIS\":\n",
    "                self.accrual_basis = v\n",
    "            elif k == \"ACCRUAL_PERIOD\":\n",
    "                self.accrual_period = v\n",
    "            elif k == \"PAYMENT_OFFSET\":\n",
    "                self.payment_offset = v\n",
    "            elif k == \"PAYMENT_BIZ_DAY_CONV\":\n",
    "                self.payment_biz_day_conv = v\n",
    "            elif k == \"PAYMENT_HOL_CONV\":\n",
    "                self.payment_hol_conv = v\n",
    "            elif k == \"CONTRACTUAL_NOTIONAL\":\n",
    "                self.contractual_notional = float(v)\n",
    "\n",
    "        super().__init__(unique_name, DataConventionRFRFuture.data_type, self.__dict__.copy())\n",
    "\n",
    "DATA_CONVENTION_MAP[DataConventionRFRFuture.data_type] = DataConventionRFRFuture\n",
    "\n",
    "class DataConventionRFRSwap(DataConvention):\n",
    "\n",
    "    data_type = 'RFR SWAP'\n",
    "\n",
    "    def __init__(self, unique_name, content):\n",
    "        if len(content) != 8:\n",
    "            raise ValueError(f\"{unique_name}: content should have 8 fields, got {len(content)}\")\n",
    "\n",
    "        self.index = None\n",
    "        self.accrual_basis = None\n",
    "        self.accrual_period = None\n",
    "        self.payment_offset = None\n",
    "        self.payment_biz_day_conv = None\n",
    "        self.payment_hol_conv = None\n",
    "        self.ois_compounding = None\n",
    "        self.contractual_notional = None\n",
    "        \n",
    "        upper_content = {k.upper(): v for k,v in content.items()}\n",
    "        for k, v in upper_content.items():\n",
    "            if k.upper() == \"INDEX\": \n",
    "                self.index = v\n",
    "            elif k == \"ACCRUAL_BASIS\":\n",
    "                self.accrual_basis = v\n",
    "            elif k == \"ACCRUAL_PERIOD\":\n",
    "                self.accrual_period = v\n",
    "            elif k == \"PAYMENT_OFFSET\":\n",
    "                self.payment_offset = v\n",
    "            elif k == \"PAYMENT_BIZ_DAY_CONV\":\n",
    "                self.payment_biz_day_conv = v\n",
    "            elif k == \"PAYMENT_HOL_CONV\":\n",
    "                self.payment_hol_conv = v\n",
    "            elif k == \"OIS_COMPOUNDING\":\n",
    "                self.ois_compounding = v\n",
    "            elif k == \"CONTRACTUAL_NOTIONAL\":\n",
    "                self.contractual_notional = float(v)\n",
    "                \n",
    "        super().__init__(unique_name, DataConventionRFRSwap.data_type, self.__dict__.copy())\n",
    "\n",
    "DATA_CONVENTION_MAP[DataConventionRFRSwap.data_type] = DataConventionRFRSwap"
   ]
  },
  {
   "cell_type": "code",
   "execution_count": 4,
   "metadata": {},
   "outputs": [],
   "source": [
    "class DataConventionRegistry:\n",
    "\n",
    "    _instance = None\n",
    "\n",
    "    def __new__(cls, *args, **kwargs):\n",
    "        if cls._instance is None:\n",
    "            obj = super().__new__(cls)\n",
    "            obj._map = {}\n",
    "            default_path = r\"C:\\Users\\Wanling Xie\\FixedIncomeLib\\conventions\\data_convention_registry.json\"\n",
    "            if os.path.exists(default_path):\n",
    "                obj.load_json(default_path)\n",
    "            cls._instance = obj\n",
    "        return cls._instance\n",
    "    \n",
    "    def insert(self, conv: DataConvention) -> None:\n",
    "        key = conv.unique_name.upper()\n",
    "        if key in self._map: raise ValueError(f\"duplicate unique_name '{conv.unique_name}'\")\n",
    "        self._map[key] = conv\n",
    "\n",
    "    def get(self, unique_name: str) -> DataConvention:\n",
    "        try: return self._map[unique_name.upper()]\n",
    "        except KeyError as e: raise KeyError(f\"no entry for '{unique_name}'\") from e\n",
    "    \n",
    "    def erase(self, unique_name: str) -> None:\n",
    "        key = unique_name.upper()\n",
    "        if key not in self._map:\n",
    "            raise KeyError(f\"No entry for '{unique_name}'\")\n",
    "        removed = self._map.pop(key)\n",
    "\n",
    "    def load_json(self, path: str) -> None:\n",
    "        with open(path, \"r\", encoding=\"utf-8\") as f:\n",
    "            raw: Dict[str, Dict[str, Any]] = json.load(f)\n",
    "            for unique_name, payload in raw.items():\n",
    "                data_type = payload['kind']\n",
    "                payload.pop('kind')\n",
    "                self.insert(DATA_CONVENTION_MAP[data_type](unique_name, payload))\n",
    "    \n",
    "    def list_all_convs(self):\n",
    "        return self._map"
   ]
  },
  {
   "cell_type": "markdown",
   "metadata": {},
   "source": [
    "### Display DataConvention using dict input"
   ]
  },
  {
   "cell_type": "code",
   "execution_count": 5,
   "metadata": {},
   "outputs": [],
   "source": [
    "test_content = {\n",
    "    \"index\": \"SOFR-1B\",\n",
    "    \"accrual_basis\": \"ACT/360\",\n",
    "    \"accrual_period\": \"3M\",\n",
    "    \"payment_offset\": \"2B\",\n",
    "    \"payment_biz_day_conv\": \"F\",\n",
    "    \"payment_hol_conv\": \"USGS\",\n",
    "    \"contractual_notional\" : 1000000\n",
    "}\n",
    "conv = DataConventionRFRFuture(\"SOFR-FUTURE-3M\", test_content)"
   ]
  },
  {
   "cell_type": "code",
   "execution_count": 6,
   "metadata": {},
   "outputs": [
    {
     "data": {
      "text/html": [
       "<div>\n",
       "<style scoped>\n",
       "    .dataframe tbody tr th:only-of-type {\n",
       "        vertical-align: middle;\n",
       "    }\n",
       "\n",
       "    .dataframe tbody tr th {\n",
       "        vertical-align: top;\n",
       "    }\n",
       "\n",
       "    .dataframe thead th {\n",
       "        text-align: right;\n",
       "    }\n",
       "</style>\n",
       "<table border=\"1\" class=\"dataframe\">\n",
       "  <thead>\n",
       "    <tr style=\"text-align: right;\">\n",
       "      <th></th>\n",
       "      <th>Field</th>\n",
       "      <th>Value</th>\n",
       "    </tr>\n",
       "  </thead>\n",
       "  <tbody>\n",
       "    <tr>\n",
       "      <th>0</th>\n",
       "      <td>unique_name</td>\n",
       "      <td>SOFR-FUTURE-3M</td>\n",
       "    </tr>\n",
       "    <tr>\n",
       "      <th>1</th>\n",
       "      <td>data_type</td>\n",
       "      <td>RFR FUTURE</td>\n",
       "    </tr>\n",
       "    <tr>\n",
       "      <th>2</th>\n",
       "      <td>index</td>\n",
       "      <td>SOFR-1B</td>\n",
       "    </tr>\n",
       "    <tr>\n",
       "      <th>3</th>\n",
       "      <td>accrual_basis</td>\n",
       "      <td>ACT/360</td>\n",
       "    </tr>\n",
       "    <tr>\n",
       "      <th>4</th>\n",
       "      <td>accrual_period</td>\n",
       "      <td>3M</td>\n",
       "    </tr>\n",
       "    <tr>\n",
       "      <th>5</th>\n",
       "      <td>payment_offset</td>\n",
       "      <td>2B</td>\n",
       "    </tr>\n",
       "    <tr>\n",
       "      <th>6</th>\n",
       "      <td>payment_biz_day_conv</td>\n",
       "      <td>F</td>\n",
       "    </tr>\n",
       "    <tr>\n",
       "      <th>7</th>\n",
       "      <td>payment_hol_conv</td>\n",
       "      <td>USGS</td>\n",
       "    </tr>\n",
       "    <tr>\n",
       "      <th>8</th>\n",
       "      <td>contractual_notional</td>\n",
       "      <td>1000000.0</td>\n",
       "    </tr>\n",
       "  </tbody>\n",
       "</table>\n",
       "</div>"
      ],
      "text/plain": [
       "                  Field           Value\n",
       "0           unique_name  SOFR-FUTURE-3M\n",
       "1             data_type      RFR FUTURE\n",
       "2                 index         SOFR-1B\n",
       "3         accrual_basis         ACT/360\n",
       "4        accrual_period              3M\n",
       "5        payment_offset              2B\n",
       "6  payment_biz_day_conv               F\n",
       "7      payment_hol_conv            USGS\n",
       "8  contractual_notional       1000000.0"
      ]
     },
     "execution_count": 6,
     "metadata": {},
     "output_type": "execute_result"
    }
   ],
   "source": [
    "displayDataConvention(conv)"
   ]
  },
  {
   "cell_type": "markdown",
   "metadata": {},
   "source": [
    "### DataConventionRegister: Register, List, Insert, Get, Erase"
   ]
  },
  {
   "cell_type": "code",
   "execution_count": 7,
   "metadata": {},
   "outputs": [
    {
     "data": {
      "text/plain": [
       "<__main__.DataConventionRFRFuture at 0x1712c793770>"
      ]
     },
     "execution_count": 7,
     "metadata": {},
     "output_type": "execute_result"
    }
   ],
   "source": [
    "conv.register_data_conv()"
   ]
  },
  {
   "cell_type": "code",
   "execution_count": 8,
   "metadata": {},
   "outputs": [
    {
     "data": {
      "text/plain": [
       "{'USD-SOFR-OIS': <__main__.DataConventionRFRSwap at 0x1712ef39a90>,\n",
       " 'SOFR-FUTURE-3M': <__main__.DataConventionRFRFuture at 0x1712ef207a0>}"
      ]
     },
     "execution_count": 8,
     "metadata": {},
     "output_type": "execute_result"
    }
   ],
   "source": [
    "DataConventionRegistry().list_all_convs()"
   ]
  },
  {
   "cell_type": "code",
   "execution_count": 9,
   "metadata": {},
   "outputs": [],
   "source": [
    "DataConventionRegistry().erase('USD-SOFR-OIS')"
   ]
  },
  {
   "cell_type": "code",
   "execution_count": 10,
   "metadata": {},
   "outputs": [
    {
     "data": {
      "text/plain": [
       "{'SOFR-FUTURE-3M': <__main__.DataConventionRFRFuture at 0x1712ef207a0>}"
      ]
     },
     "execution_count": 10,
     "metadata": {},
     "output_type": "execute_result"
    }
   ],
   "source": [
    "DataConventionRegistry().list_all_convs()"
   ]
  },
  {
   "cell_type": "code",
   "execution_count": 11,
   "metadata": {},
   "outputs": [
    {
     "data": {
      "text/plain": [
       "<__main__.DataConventionRFRFuture at 0x1712ef207a0>"
      ]
     },
     "execution_count": 11,
     "metadata": {},
     "output_type": "execute_result"
    }
   ],
   "source": [
    "DataConventionRegistry().get(\"SOFR-FUTURE-3M\")"
   ]
  },
  {
   "cell_type": "code",
   "execution_count": 12,
   "metadata": {},
   "outputs": [
    {
     "data": {
      "text/html": [
       "<div>\n",
       "<style scoped>\n",
       "    .dataframe tbody tr th:only-of-type {\n",
       "        vertical-align: middle;\n",
       "    }\n",
       "\n",
       "    .dataframe tbody tr th {\n",
       "        vertical-align: top;\n",
       "    }\n",
       "\n",
       "    .dataframe thead th {\n",
       "        text-align: right;\n",
       "    }\n",
       "</style>\n",
       "<table border=\"1\" class=\"dataframe\">\n",
       "  <thead>\n",
       "    <tr style=\"text-align: right;\">\n",
       "      <th></th>\n",
       "      <th>Field</th>\n",
       "      <th>Value</th>\n",
       "    </tr>\n",
       "  </thead>\n",
       "  <tbody>\n",
       "    <tr>\n",
       "      <th>0</th>\n",
       "      <td>unique_name</td>\n",
       "      <td>SOFR-FUTURE-3M</td>\n",
       "    </tr>\n",
       "    <tr>\n",
       "      <th>1</th>\n",
       "      <td>data_type</td>\n",
       "      <td>RFR FUTURE</td>\n",
       "    </tr>\n",
       "    <tr>\n",
       "      <th>2</th>\n",
       "      <td>index</td>\n",
       "      <td>SOFR-1B</td>\n",
       "    </tr>\n",
       "    <tr>\n",
       "      <th>3</th>\n",
       "      <td>accrual_basis</td>\n",
       "      <td>ACT/360</td>\n",
       "    </tr>\n",
       "    <tr>\n",
       "      <th>4</th>\n",
       "      <td>accrual_period</td>\n",
       "      <td>3M</td>\n",
       "    </tr>\n",
       "    <tr>\n",
       "      <th>5</th>\n",
       "      <td>payment_offset</td>\n",
       "      <td>2B</td>\n",
       "    </tr>\n",
       "    <tr>\n",
       "      <th>6</th>\n",
       "      <td>payment_biz_day_conv</td>\n",
       "      <td>F</td>\n",
       "    </tr>\n",
       "    <tr>\n",
       "      <th>7</th>\n",
       "      <td>payment_hol_conv</td>\n",
       "      <td>USGS</td>\n",
       "    </tr>\n",
       "    <tr>\n",
       "      <th>8</th>\n",
       "      <td>contractual_notional</td>\n",
       "      <td>1000000.0</td>\n",
       "    </tr>\n",
       "  </tbody>\n",
       "</table>\n",
       "</div>"
      ],
      "text/plain": [
       "                  Field           Value\n",
       "0           unique_name  SOFR-FUTURE-3M\n",
       "1             data_type      RFR FUTURE\n",
       "2                 index         SOFR-1B\n",
       "3         accrual_basis         ACT/360\n",
       "4        accrual_period              3M\n",
       "5        payment_offset              2B\n",
       "6  payment_biz_day_conv               F\n",
       "7      payment_hol_conv            USGS\n",
       "8  contractual_notional       1000000.0"
      ]
     },
     "execution_count": 12,
     "metadata": {},
     "output_type": "execute_result"
    }
   ],
   "source": [
    "displayDataConvention(DataConventionRegistry().get(\"SOFR-FUTURE-3M\"))"
   ]
  },
  {
   "cell_type": "code",
   "execution_count": 13,
   "metadata": {},
   "outputs": [
    {
     "data": {
      "text/plain": [
       "{'index': 'SOFR-1B',\n",
       " 'accrual_basis': 'ACT/360',\n",
       " 'accrual_period': '1Y',\n",
       " 'payment_offset': '2B',\n",
       " 'payment_biz_day_conv': 'F',\n",
       " 'payment_hol_conv': 'USGS',\n",
       " 'ois_compounding': 'COMPOUND',\n",
       " 'contractual_notional': 1000000}"
      ]
     },
     "execution_count": 13,
     "metadata": {},
     "output_type": "execute_result"
    }
   ],
   "source": [
    "new = {\n",
    "    \"kind\": \"RFR SWAP\",\n",
    "    \"index\": \"SOFR-1B\",\n",
    "    \"accrual_basis\": \"ACT/360\",\n",
    "    \"accrual_period\": \"1Y\",\n",
    "    \"payment_offset\": \"2B\",\n",
    "    \"payment_biz_day_conv\": \"F\",\n",
    "    \"payment_hol_conv\": \"USGS\",\n",
    "    \"ois_compounding\": \"COMPOUND\",\n",
    "    \"contractual_notional\" : 1000000\n",
    "}\n",
    "new_content = {k:v for k,v in new.items() if k != \"kind\"}\n",
    "new_content"
   ]
  },
  {
   "cell_type": "code",
   "execution_count": 14,
   "metadata": {},
   "outputs": [
    {
     "data": {
      "text/plain": [
       "<bound method DataConventionRegistry.list_all_convs of <__main__.DataConventionRegistry object at 0x000001712EF23890>>"
      ]
     },
     "execution_count": 14,
     "metadata": {},
     "output_type": "execute_result"
    }
   ],
   "source": [
    "new_conv = DataConventionRFRSwap('XWL-CONV', new_content)\n",
    "DataConventionRegistry().insert(new_conv)\n",
    "DataConventionRegistry().list_all_convs"
   ]
  },
  {
   "cell_type": "code",
   "execution_count": 15,
   "metadata": {},
   "outputs": [
    {
     "data": {
      "text/html": [
       "<div>\n",
       "<style scoped>\n",
       "    .dataframe tbody tr th:only-of-type {\n",
       "        vertical-align: middle;\n",
       "    }\n",
       "\n",
       "    .dataframe tbody tr th {\n",
       "        vertical-align: top;\n",
       "    }\n",
       "\n",
       "    .dataframe thead th {\n",
       "        text-align: right;\n",
       "    }\n",
       "</style>\n",
       "<table border=\"1\" class=\"dataframe\">\n",
       "  <thead>\n",
       "    <tr style=\"text-align: right;\">\n",
       "      <th></th>\n",
       "      <th>Field</th>\n",
       "      <th>Value</th>\n",
       "    </tr>\n",
       "  </thead>\n",
       "  <tbody>\n",
       "    <tr>\n",
       "      <th>0</th>\n",
       "      <td>unique_name</td>\n",
       "      <td>XWL-CONV</td>\n",
       "    </tr>\n",
       "    <tr>\n",
       "      <th>1</th>\n",
       "      <td>data_type</td>\n",
       "      <td>RFR SWAP</td>\n",
       "    </tr>\n",
       "    <tr>\n",
       "      <th>2</th>\n",
       "      <td>index</td>\n",
       "      <td>SOFR-1B</td>\n",
       "    </tr>\n",
       "    <tr>\n",
       "      <th>3</th>\n",
       "      <td>accrual_basis</td>\n",
       "      <td>ACT/360</td>\n",
       "    </tr>\n",
       "    <tr>\n",
       "      <th>4</th>\n",
       "      <td>accrual_period</td>\n",
       "      <td>1Y</td>\n",
       "    </tr>\n",
       "    <tr>\n",
       "      <th>5</th>\n",
       "      <td>payment_offset</td>\n",
       "      <td>2B</td>\n",
       "    </tr>\n",
       "    <tr>\n",
       "      <th>6</th>\n",
       "      <td>payment_biz_day_conv</td>\n",
       "      <td>F</td>\n",
       "    </tr>\n",
       "    <tr>\n",
       "      <th>7</th>\n",
       "      <td>payment_hol_conv</td>\n",
       "      <td>USGS</td>\n",
       "    </tr>\n",
       "    <tr>\n",
       "      <th>8</th>\n",
       "      <td>ois_compounding</td>\n",
       "      <td>COMPOUND</td>\n",
       "    </tr>\n",
       "    <tr>\n",
       "      <th>9</th>\n",
       "      <td>contractual_notional</td>\n",
       "      <td>1000000.0</td>\n",
       "    </tr>\n",
       "  </tbody>\n",
       "</table>\n",
       "</div>"
      ],
      "text/plain": [
       "                  Field      Value\n",
       "0           unique_name   XWL-CONV\n",
       "1             data_type   RFR SWAP\n",
       "2                 index    SOFR-1B\n",
       "3         accrual_basis    ACT/360\n",
       "4        accrual_period         1Y\n",
       "5        payment_offset         2B\n",
       "6  payment_biz_day_conv          F\n",
       "7      payment_hol_conv       USGS\n",
       "8       ois_compounding   COMPOUND\n",
       "9  contractual_notional  1000000.0"
      ]
     },
     "execution_count": 15,
     "metadata": {},
     "output_type": "execute_result"
    }
   ],
   "source": [
    "displayDataConvention(DataConventionRegistry().get('XWL-CONV'))"
   ]
  },
  {
   "cell_type": "code",
   "execution_count": null,
   "metadata": {},
   "outputs": [],
   "source": []
  }
 ],
 "metadata": {
  "kernelspec": {
   "display_name": "base",
   "language": "python",
   "name": "python3"
  },
  "language_info": {
   "codemirror_mode": {
    "name": "ipython",
    "version": 3
   },
   "file_extension": ".py",
   "mimetype": "text/x-python",
   "name": "python",
   "nbconvert_exporter": "python",
   "pygments_lexer": "ipython3",
   "version": "3.12.3"
  }
 },
 "nbformat": 4,
 "nbformat_minor": 2
}

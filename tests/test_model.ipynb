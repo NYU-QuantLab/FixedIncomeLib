{
 "cells": [
  {
   "cell_type": "markdown",
   "id": "7a8eee63",
   "metadata": {},
   "source": [
    "# Yield Curve Model Testing Notebook\n",
    "\n",
    "This notebook exercises the `YieldCurve` class by:\n",
    "1. Building a flat dummy curve for SOFR and USD LIBOR.\n",
    "2. Computing spot discount factors for various tenors.\n",
    "3. Computing forward rates for overnight and IBOR indices.\n",
    "\n",
    "---"
   ]
  },
  {
   "cell_type": "markdown",
   "id": "f4f55eb2",
   "metadata": {},
   "source": [
    "## 1) Import dependencies\n",
    "\n",
    "We start by importing the necessary libraries and the `YieldCurve` class."
   ]
  },
  {
   "cell_type": "code",
   "execution_count": 1,
   "id": "6d737977",
   "metadata": {},
   "outputs": [
    {
     "name": "stdout",
     "output_type": "stream",
     "text": [
      "Added to sys.path: c:\\Users\\neels\\OneDrive\\Desktop\\Capstone_Project\\FixedIncomeLib\n"
     ]
    }
   ],
   "source": [
    "import sys, os\n",
    "\n",
    "# compute the parent of tests → FixedIncomeLib\n",
    "repo_root = os.path.abspath(os.path.join(os.getcwd(), \"..\"))\n",
    "if repo_root not in sys.path:\n",
    "    sys.path.insert(0, repo_root)\n",
    "\n",
    "print(\"Added to sys.path:\", repo_root)"
   ]
  },
  {
   "cell_type": "code",
   "execution_count": 2,
   "id": "1242ff22",
   "metadata": {},
   "outputs": [],
   "source": [
    "import pandas as pd\n",
    "import numpy as np\n",
    "from yield_curve.yield_curve_model import YieldCurve\n",
    "from data import DataCollection, Data1D, build_yc_data_collection\n"
   ]
  },
  {
   "cell_type": "markdown",
   "id": "70e45511",
   "metadata": {},
   "source": [
    "## 2) Define dummy curve data\n",
    "\n",
    "Create a small DataFrame with dummy rates for two indices, at 1M, 3M, and 6M tenors."
   ]
  },
  {
   "cell_type": "code",
   "execution_count": 3,
   "id": "89cb738f",
   "metadata": {},
   "outputs": [],
   "source": [
    "MARKET_DF = pd.DataFrame(\n",
    "    [\n",
    "        [\"RFR FUTURE\", \"SOFR-FUTURE-3M\", \"2025-05-05 x 2025-08-05\", 97.25],\n",
    "        [\"RFR FUTURE\", \"SOFR-FUTURE-3M\", \"2025-08-05 x 2025-11-05\", 97.40],\n",
    "        [\"RFR FUTURE\", \"SOFR-FUTURE-3M\", \"2025-11-05 x 2026-02-05\", 97.55],\n",
    "\n",
    "        [\"RFR SWAP\", \"USD-SOFR-OIS\", \"1Y\",  0.0450],\n",
    "        [\"RFR SWAP\", \"USD-SOFR-OIS\", \"2Y\",  0.0425],\n",
    "        [\"RFR SWAP\", \"USD-SOFR-OIS\", \"5Y\",  0.0370],\n",
    "        [\"RFR SWAP\", \"USD-SOFR-OIS\", \"10Y\", 0.0350],\n",
    "    ],\n",
    "    columns=[\"DATA TYPE\", \"DATA CONVENTION\", \"AXIS\", \"VALUE\"],\n",
    ")\n",
    "\n",
    "data_objs, dc = build_yc_data_collection(MARKET_DF)\n"
   ]
  },
  {
   "cell_type": "markdown",
   "id": "08375fe4",
   "metadata": {},
   "source": [
    "## 3) Define build methods\n",
    "\n",
    "Specify how each index should be interpolated; here we use piecewise constant interpolation."
   ]
  },
  {
   "cell_type": "code",
   "execution_count": 4,
   "id": "d19d46cc",
   "metadata": {},
   "outputs": [],
   "source": [
    "build_methods = [{\n",
    "    \"TARGET\": \"SOFR-1B\",\n",
    "    \"REFERENCE\": None,\n",
    "    \"INSTRUMENTS\": [\"SOFR-FUTURE-3M\", \"USD-SOFR-OIS\"],\n",
    "    \"INTERPOLATION METHOD\": \"PIECEWISE_CONSTANT\"\n",
    "}]\n"
   ]
  },
  {
   "cell_type": "markdown",
   "id": "871cf292",
   "metadata": {},
   "source": [
    "## 4) Instantiate the yield curve\n",
    "\n",
    "Set the valuation date and build the `YieldCurve` object."
   ]
  },
  {
   "cell_type": "code",
   "execution_count": 5,
   "id": "6366ac32",
   "metadata": {},
   "outputs": [
    {
     "name": "stdout",
     "output_type": "stream",
     "text": [
      "Calibration summary: {'rmse': 0.03168033568768038, 'max_abs': 0.044712553290740115, 'n_residuals': 7, 'n_parameters': 26}\n"
     ]
    }
   ],
   "source": [
    "value_date = \"2025-05-05\"\n",
    "yc = YieldCurve(valueDate=value_date, dataCollection=dc, buildMethodCollection=build_methods)\n",
    "\n",
    "comp = yc.retrieveComponent(\"SOFR-1B\")\n",
    "print(\"Calibration summary:\", getattr(comp, \"_calibration_summary\", {}))"
   ]
  },
  {
   "cell_type": "code",
   "execution_count": 6,
   "id": "372010b3",
   "metadata": {},
   "outputs": [
    {
     "data": {
      "text/plain": [
       "dict_keys(['SOFR-1B'])"
      ]
     },
     "execution_count": 6,
     "metadata": {},
     "output_type": "execute_result"
    }
   ],
   "source": [
    "yc.components.keys()"
   ]
  },
  {
   "cell_type": "markdown",
   "id": "26132f41",
   "metadata": {},
   "source": [
    "## 5) Compute and display spot discount factors\n",
    "\n",
    "We pick several (index, date) pairs to show discount factors."
   ]
  },
  {
   "cell_type": "code",
   "execution_count": 7,
   "id": "ff3c5a23",
   "metadata": {},
   "outputs": [
    {
     "name": "stdout",
     "output_type": "stream",
     "text": [
      "--- Spot Discount Factors ---\n",
      "           SOFR-1B @ 2025-07-26: DF = 0.993673\n",
      "           SOFR-1B @ 2025-09-26: DF = 0.993189\n"
     ]
    }
   ],
   "source": [
    "print(\"--- Spot Discount Factors ---\")\n",
    "tests = [\n",
    "    (\"SOFR-1B\",          \"2025-07-26\"),\n",
    "    (\"SOFR-1B\",          \"2025-09-26\"),\n",
    "]\n",
    "for idx, dt in tests:\n",
    "    df_val = yc.discountFactor(idx, dt)\n",
    "    print(f\"{idx:>18} @ {dt}: DF = {df_val:.6f}\")\n"
   ]
  },
  {
   "cell_type": "markdown",
   "id": "61c2fff0",
   "metadata": {},
   "source": [
    "## 6) Compute and display forward rates\n",
    "\n",
    "Finally, we compute 1M and 3M overnight forwards, and a 3M LIBOR forward:"
   ]
  },
  {
   "cell_type": "code",
   "execution_count": 8,
   "id": "482a9020",
   "metadata": {},
   "outputs": [
    {
     "name": "stdout",
     "output_type": "stream",
     "text": [
      "\n",
      "--- Forward Rates ---\n",
      "SOFR 1M forward:  2.733246%\n",
      "SOFR 3M forward:  2.769463%\n"
     ]
    }
   ],
   "source": [
    "print(\"\\n--- Forward Rates ---\")\n",
    "fwd_1m    = yc.forward(\"SOFR-1B\",          value_date, \"1M\")\n",
    "fwd_3m    = yc.forward(\"SOFR-1B\",          value_date, \"3M\")\n",
    "\n",
    "print(f\"SOFR 1M forward:  {fwd_1m:.6%}\")\n",
    "print(f\"SOFR 3M forward:  {fwd_3m:.6%}\")\n"
   ]
  },
  {
   "cell_type": "code",
   "execution_count": 9,
   "id": "ec32b82e",
   "metadata": {},
   "outputs": [
    {
     "data": {
      "text/plain": [
       "np.float64(0.0748288283294089)"
      ]
     },
     "execution_count": 9,
     "metadata": {},
     "output_type": "execute_result"
    }
   ],
   "source": [
    "starting_date = \"2026-09-12\"\n",
    "tenor = \"3M\"\n",
    "\n",
    "yc.forward(\"SOFR-1B\", starting_date, tenor)"
   ]
  }
 ],
 "metadata": {
  "kernelspec": {
   "display_name": "Python 3",
   "language": "python",
   "name": "python3"
  },
  "language_info": {
   "codemirror_mode": {
    "name": "ipython",
    "version": 3
   },
   "file_extension": ".py",
   "mimetype": "text/x-python",
   "name": "python",
   "nbconvert_exporter": "python",
   "pygments_lexer": "ipython3",
   "version": "3.12.5"
  }
 },
 "nbformat": 4,
 "nbformat_minor": 5
}

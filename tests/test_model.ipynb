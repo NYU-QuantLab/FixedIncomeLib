{
 "cells": [
  {
   "cell_type": "markdown",
   "id": "7a8eee63",
   "metadata": {},
   "source": [
    "# Yield Curve Model Testing Notebook\n",
    "\n",
    "This notebook exercises the `YieldCurve` class by:\n",
    "1. Building a flat dummy curve for SOFR and USD LIBOR.\n",
    "2. Computing spot discount factors for various tenors.\n",
    "3. Computing forward rates for overnight and IBOR indices.\n",
    "\n",
    "---"
   ]
  },
  {
   "cell_type": "markdown",
   "id": "f4f55eb2",
   "metadata": {},
   "source": [
    "## 1) Import dependencies\n",
    "\n",
    "We start by importing the necessary libraries and the `YieldCurve` class."
   ]
  },
  {
   "cell_type": "code",
   "execution_count": 1,
   "id": "6d737977",
   "metadata": {},
   "outputs": [
    {
     "name": "stdout",
     "output_type": "stream",
     "text": [
      "Added to sys.path: c:\\Users\\neels\\OneDrive\\Desktop\\Capstone_Project\\FixedIncomeLib\n"
     ]
    }
   ],
   "source": [
    "import sys, os\n",
    "\n",
    "# compute the parent of tests → FixedIncomeLib\n",
    "repo_root = os.path.abspath(os.path.join(os.getcwd(), \"..\"))\n",
    "if repo_root not in sys.path:\n",
    "    sys.path.insert(0, repo_root)\n",
    "\n",
    "print(\"Added to sys.path:\", repo_root)"
   ]
  },
  {
   "cell_type": "code",
   "execution_count": 2,
   "id": "1242ff22",
   "metadata": {},
   "outputs": [],
   "source": [
    "import pandas as pd\n",
    "import numpy as np\n",
    "from yield_curve.yield_curve_model import YieldCurve\n",
    "from data import DataCollection, Data1D\n"
   ]
  },
  {
   "cell_type": "markdown",
   "id": "70e45511",
   "metadata": {},
   "source": [
    "## 2) Define dummy curve data\n",
    "\n",
    "Create a small DataFrame with dummy rates for two indices, at 1M, 3M, and 6M tenors."
   ]
  },
  {
   "cell_type": "code",
   "execution_count": 3,
   "id": "89cb738f",
   "metadata": {},
   "outputs": [],
   "source": [
    "DUMMY_DATA = [\n",
    "    ['SOFR-1B',             '1M',  0.0020],\n",
    "    ['SOFR-1B',             '3M',  0.0025],\n",
    "    ['SOFR-1B',             '6M',  0.0030],\n",
    "    ['USD-LIBOR-BBA-3M',    '1M',  0.0040],\n",
    "    ['USD-LIBOR-BBA-3M',    '3M',  0.00425],\n",
    "    ['USD-LIBOR-BBA-3M',    '6M',  0.00450],\n",
    "]\n",
    "df = pd.DataFrame(DUMMY_DATA, columns=['INDEX','AXIS1','VALUES'])"
   ]
  },
  {
   "cell_type": "code",
   "execution_count": 4,
   "id": "87cc255f",
   "metadata": {},
   "outputs": [],
   "source": [
    "data_objs = []\n",
    "for idx_name, sub in df.groupby(\"INDEX\"):\n",
    "    d1 = Data1D.createDataObject(\n",
    "        data_type=\"zero_rate\", \n",
    "        data_convention=idx_name,\n",
    "        df=sub[[\"AXIS1\", \"VALUES\"]]\n",
    "    )\n",
    "    data_objs.append(d1)\n",
    "\n",
    "dc = DataCollection(data_objs)"
   ]
  },
  {
   "cell_type": "markdown",
   "id": "08375fe4",
   "metadata": {},
   "source": [
    "## 3) Define build methods\n",
    "\n",
    "Specify how each index should be interpolated; here we use piecewise constant interpolation."
   ]
  },
  {
   "cell_type": "code",
   "execution_count": 5,
   "id": "d19d46cc",
   "metadata": {},
   "outputs": [],
   "source": [
    "build_methods = [\n",
    "    {\n",
    "      'TARGET':             'SOFR-1B',\n",
    "      'DATA_TYPE':          'ZERO_RATE',\n",
    "      'DATA_CONVENTION':    'SOFR-1B',\n",
    "      'INTERPOLATION_METHOD':'PIECEWISE_CONSTANT'\n",
    "    },\n",
    "    {\n",
    "      'TARGET':             'USD-LIBOR-BBA-3M',\n",
    "      'DATA_TYPE':          'ZERO_RATE',\n",
    "      'DATA_CONVENTION':    'USD-LIBOR-BBA-3M',\n",
    "      'INTERPOLATION_METHOD':'PIECEWISE_CONSTANT'\n",
    "    },\n",
    "]\n"
   ]
  },
  {
   "cell_type": "markdown",
   "id": "871cf292",
   "metadata": {},
   "source": [
    "## 4) Instantiate the yield curve\n",
    "\n",
    "Set the valuation (as‑of) date to June 26, 2025 and build the `YieldCurve` object."
   ]
  },
  {
   "cell_type": "code",
   "execution_count": 6,
   "id": "6366ac32",
   "metadata": {},
   "outputs": [
    {
     "name": "stdout",
     "output_type": "stream",
     "text": [
      "YieldCurve built.\n"
     ]
    }
   ],
   "source": [
    "as_of = \"2025-06-26\"\n",
    "yc = YieldCurve(as_of, dc, build_methods)\n",
    "print(\"YieldCurve built.\")"
   ]
  },
  {
   "cell_type": "markdown",
   "id": "26132f41",
   "metadata": {},
   "source": [
    "## 5) Compute and display spot discount factors\n",
    "\n",
    "We pick several (index, date) pairs to show discount factors."
   ]
  },
  {
   "cell_type": "code",
   "execution_count": 7,
   "id": "ff3c5a23",
   "metadata": {},
   "outputs": [
    {
     "name": "stdout",
     "output_type": "stream",
     "text": [
      "--- Spot Discount Factors ---\n",
      "           SOFR-1B @ 2025-07-26: DF = 0.999833\n",
      "           SOFR-1B @ 2025-09-26: DF = 0.999420\n",
      "  USD-LIBOR-BBA-3M @ 2025-07-26: DF = 0.999667\n",
      "  USD-LIBOR-BBA-3M @ 2025-09-26: DF = 0.998960\n"
     ]
    }
   ],
   "source": [
    "print(\"--- Spot Discount Factors ---\")\n",
    "tests = [\n",
    "    (\"SOFR-1B\",          \"2025-07-26\"),\n",
    "    (\"SOFR-1B\",          \"2025-09-26\"),\n",
    "    (\"USD-LIBOR-BBA-3M\", \"2025-07-26\"),\n",
    "    (\"USD-LIBOR-BBA-3M\", \"2025-09-26\"),\n",
    "]\n",
    "for idx, dt in tests:\n",
    "    df_val = yc.discountFactor(idx, dt)\n",
    "    print(f\"{idx:>18} @ {dt}: DF = {df_val:.6f}\")\n"
   ]
  },
  {
   "cell_type": "markdown",
   "id": "61c2fff0",
   "metadata": {},
   "source": [
    "## 6) Compute and display forward rates\n",
    "\n",
    "Finally, we compute 1M and 3M overnight forwards, and a 3M LIBOR forward:"
   ]
  },
  {
   "cell_type": "code",
   "execution_count": 8,
   "id": "482a9020",
   "metadata": {},
   "outputs": [
    {
     "name": "stdout",
     "output_type": "stream",
     "text": [
      "\n",
      "--- Forward Rates ---\n",
      "SOFR 1M forward:  0.200018%\n",
      "SOFR 3M forward:  0.227240%\n",
      "LIBOR 3M forward: 0.407277%\n"
     ]
    }
   ],
   "source": [
    "print(\"\\n--- Forward Rates ---\")\n",
    "fwd_1m    = yc.forward(\"SOFR-1B\",          as_of, \"1M\")\n",
    "fwd_3m    = yc.forward(\"SOFR-1B\",          as_of, \"3M\")\n",
    "libor_fwd = yc.forward(\"USD-LIBOR-BBA-3M\", as_of, \"3M\")\n",
    "\n",
    "print(f\"SOFR 1M forward:  {fwd_1m:.6%}\")\n",
    "print(f\"SOFR 3M forward:  {fwd_3m:.6%}\")\n",
    "print(f\"LIBOR 3M forward: {libor_fwd:.6%}\")\n"
   ]
  }
 ],
 "metadata": {
  "kernelspec": {
   "display_name": "Python 3",
   "language": "python",
   "name": "python3"
  },
  "language_info": {
   "codemirror_mode": {
    "name": "ipython",
    "version": 3
   },
   "file_extension": ".py",
   "mimetype": "text/x-python",
   "name": "python",
   "nbconvert_exporter": "python",
   "pygments_lexer": "ipython3",
   "version": "3.12.5"
  }
 },
 "nbformat": 4,
 "nbformat_minor": 5
}

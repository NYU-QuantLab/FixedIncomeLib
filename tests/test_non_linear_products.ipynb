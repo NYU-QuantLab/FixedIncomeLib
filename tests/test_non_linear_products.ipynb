{
 "cells": [
  {
   "cell_type": "markdown",
   "id": "154192db",
   "metadata": {},
   "source": [
    "# 🎯 Testing Non‐Linear Products\n",
    "\n",
    "This notebook tests:\n",
    "\n",
    "1. **Cap/Floorlets** (IBOR & Overnight)  \n",
    "2. **Cap/Floor Streams**  \n",
    "3. **Cap/Floor Portfolios**  \n",
    "4. **Swaptions** (IBOR & Overnight)  \n",
    "5. **Visitor output** for each product\n",
    "\n",
    "We’ll make sure each product builds the correct dates/fields and that each visitor prints the expected DataFrame.\n",
    "\n",
    "---\n"
   ]
  },
  {
   "cell_type": "code",
   "execution_count": null,
   "id": "e7e749d2",
   "metadata": {},
   "outputs": [
    {
     "ename": "ModuleNotFoundError",
     "evalue": "No module named 'product'",
     "output_type": "error",
     "traceback": [
      "\u001b[1;31m---------------------------------------------------------------------------\u001b[0m",
      "\u001b[1;31mModuleNotFoundError\u001b[0m                       Traceback (most recent call last)",
      "Cell \u001b[1;32mIn[2], line 1\u001b[0m\n\u001b[1;32m----> 1\u001b[0m \u001b[38;5;28;01mfrom\u001b[39;00m\u001b[38;5;250m \u001b[39m\u001b[38;5;21;01mproduct\u001b[39;00m\u001b[38;5;21;01m.\u001b[39;00m\u001b[38;5;21;01mnon_linear_products\u001b[39;00m\u001b[38;5;250m \u001b[39m\u001b[38;5;28;01mimport\u001b[39;00m (   \n\u001b[0;32m      2\u001b[0m     ProductIborCapFloorlet,\n\u001b[0;32m      3\u001b[0m     ProductOvernightCapFloorlet,\n\u001b[0;32m      4\u001b[0m     CapFloorStream,\n\u001b[0;32m      5\u001b[0m     ProductIborCapFloor,\n\u001b[0;32m      6\u001b[0m     ProductOvernightCapFloor,\n\u001b[0;32m      7\u001b[0m     ProductIborSwaption,\n\u001b[0;32m      8\u001b[0m     ProductOvernightSwaption\n\u001b[0;32m      9\u001b[0m )\n\u001b[0;32m     10\u001b[0m \u001b[38;5;28;01mfrom\u001b[39;00m\u001b[38;5;250m \u001b[39m\u001b[38;5;21;01mproduct\u001b[39;00m\u001b[38;5;21;01m.\u001b[39;00m\u001b[38;5;21;01mproduct_display_visitor\u001b[39;00m\u001b[38;5;250m \u001b[39m\u001b[38;5;28;01mimport\u001b[39;00m (\n\u001b[0;32m     11\u001b[0m     IborCapFloorletVisitor,\n\u001b[0;32m     12\u001b[0m     OvernightCapFloorletVisitor,\n\u001b[1;32m   (...)\u001b[0m\n\u001b[0;32m     16\u001b[0m     OvernightSwaptionVisitor\n\u001b[0;32m     17\u001b[0m )\n",
      "\u001b[1;31mModuleNotFoundError\u001b[0m: No module named 'product'"
     ]
    }
   ],
   "source": [
    "from product.non_linear_products import (   \n",
    "    ProductIborCapFloorlet,\n",
    "    ProductOvernightCapFloorlet,\n",
    "    CapFloorStream,\n",
    "    ProductIborCapFloor,\n",
    "    ProductOvernightCapFloor,\n",
    "    ProductIborSwaption,\n",
    "    ProductOvernightSwaption\n",
    ")\n",
    "from product.product_display_visitor import (\n",
    "    IborCapFloorletVisitor,\n",
    "    OvernightCapFloorletVisitor,\n",
    "    IborCapFloorVisitor,\n",
    "    OvernightCapFloorVisitor,\n",
    "    IborSwaptionVisitor,\n",
    "    OvernightSwaptionVisitor\n",
    ")\n"
   ]
  },
  {
   "cell_type": "markdown",
   "id": "b347dfdd",
   "metadata": {},
   "source": [
    "## 2. Cap/Floorlet: IBOR\n",
    "\n",
    "Create a 3M IBOR caplet on 1M USD LIBOR, strike 2%, notional 1 000 000, long position.\n"
   ]
  },
  {
   "cell_type": "code",
   "execution_count": null,
   "id": "0a8dea4f",
   "metadata": {},
   "outputs": [],
   "source": [
    "caplet_ibor = ProductIborCapFloorlet(\n",
    "    startDate=\"2025-07-01\",\n",
    "    endDate=\"2025-10-01\",\n",
    "    index=\"USD-LIBOR-1M\",\n",
    "    optionType=\"CAP\",\n",
    "    strike=0.02,\n",
    "    notional=1_000_000,\n",
    "    longOrShort=\"LONG\",\n",
    ")\n",
    "caplet_ibor\n",
    "\n",
    "# Visitor output\n",
    "caplet_ibor.accept(IborCapFloorletVisitor())\n",
    "\n"
   ]
  },
  {
   "cell_type": "markdown",
   "id": "a62f9dd7",
   "metadata": {},
   "source": [
    "## 3. Cap/Floorlet: Overnight\n",
    "\n",
    "Create a 1-month Overnight caplet on FedFunds, compounded, strike 1%, notional 500 000, short position.\n"
   ]
  },
  {
   "cell_type": "code",
   "execution_count": null,
   "id": "a61fbd3e",
   "metadata": {},
   "outputs": [],
   "source": [
    "caplet_ois = ProductOvernightCapFloorlet(\n",
    "    effectiveDate=\"2025-07-01\",\n",
    "    termOrEnd=\"1M\",\n",
    "    index=\"USD-FED-FUNDS\",\n",
    "    compounding=\"COMPOUND\",\n",
    "    optionType=\"CAP\",\n",
    "    strike=0.01,\n",
    "    notional=500_000,\n",
    "    longOrShort=\"SHORT\",\n",
    ")\n",
    "caplet_ois\n",
    "\n",
    "# Visitor output\n",
    "caplet_ois.accept(OvernightCapFloorletVisitor())\n"
   ]
  },
  {
   "cell_type": "markdown",
   "id": "38973364",
   "metadata": {},
   "source": [
    "## 4. Cap/Floor Stream\n",
    "\n",
    "Build a quarterly (3M) cap stream from July 1 2025 to July 1 2026, strike 2.5%, notional 1 000 000.\n"
   ]
  },
  {
   "cell_type": "code",
   "execution_count": null,
   "id": "d0fdb264",
   "metadata": {},
   "outputs": [],
   "source": [
    "stream = CapFloorStream(\n",
    "    startDate=\"2025-07-01\",\n",
    "    endDate=\"2026-07-01\",\n",
    "    frequency=\"3M\",\n",
    "    iborIndex=\"USD-LIBOR-3M\",\n",
    "    optionType=\"CAP\",\n",
    "    strike=0.025,\n",
    "    notional=1_000_000,\n",
    "    longOrShort=\"LONG\",\n",
    ")\n",
    "print(\"Num caplets:\", stream.numProducts)\n",
    "\n"
   ]
  },
  {
   "cell_type": "code",
   "execution_count": null,
   "id": "fb61c561",
   "metadata": {},
   "outputs": [],
   "source": [
    "# Show first two caplets\n",
    "for i in range(2):\n",
    "    print(stream.element(i).accept(IborCapFloorletVisitor()))\n"
   ]
  },
  {
   "cell_type": "markdown",
   "id": "f157b4a0",
   "metadata": {},
   "source": [
    "## 5. Cap/Floor Portfolio Wrappers\n",
    "\n",
    "### 5.1 IBOR Cap/Floor\n",
    "\n",
    "Wrap the above stream in a `ProductIborCapFloor`.\n"
   ]
  },
  {
   "cell_type": "code",
   "execution_count": null,
   "id": "49ea4471",
   "metadata": {},
   "outputs": [],
   "source": [
    "cap = ProductIborCapFloor(\n",
    "    effectiveDate=\"2025-07-01\",\n",
    "    maturityDate=\"2026-07-01\",\n",
    "    frequency=\"3M\",\n",
    "    iborIndex=\"USD-LIBOR-3M\",\n",
    "    optionType=\"FLOOR\",\n",
    "    strike=0.015,\n",
    "    notional=2_000_000,\n",
    "    longOrShort=\"SHORT\",\n",
    ")\n",
    "cap\n",
    "\n",
    "# Visitor output\n",
    "cap.accept(IborCapFloorVisitor())\n"
   ]
  },
  {
   "cell_type": "markdown",
   "id": "697712be",
   "metadata": {},
   "source": [
    "### 5.2 Overnight Cap/Floor\n",
    "\n",
    "Wrap a “compound OIS” stream in `ProductOvernightCapFloor`.\n"
   ]
  },
  {
   "cell_type": "code",
   "execution_count": null,
   "id": "1fbda879",
   "metadata": {},
   "outputs": [],
   "source": [
    "cap_ois = ProductOvernightCapFloor(\n",
    "    effectiveDate=\"2025-07-01\",\n",
    "    maturityDate=\"2026-01-01\",\n",
    "    frequency=\"1M\",\n",
    "    overnightIndex=\"USD-FED-FUNDS\",\n",
    "    compounding=\"COMPOUND\",\n",
    "    optionType=\"CAP\",\n",
    "    strike=0.005,\n",
    "    notional=750_000,\n",
    "    longOrShort=\"LONG\",\n",
    ")\n",
    "cap_ois.accept(OvernightCapFloorVisitor())\n"
   ]
  },
  {
   "cell_type": "markdown",
   "id": "e68903f2",
   "metadata": {},
   "source": [
    "## 6. Swaptions\n",
    "\n",
    "### 6.1 IBOR Swaption\n",
    "\n",
    "European swaption on a 5Y quarterly USD‐LIBOR swap, strike 1.75%, notional 1 000 000, long.\n"
   ]
  },
  {
   "cell_type": "code",
   "execution_count": null,
   "id": "824575db",
   "metadata": {},
   "outputs": [],
   "source": [
    "swaption_ibor = ProductIborSwaption(\n",
    "    optionExpiry=\"2025-12-01\",\n",
    "    swapStart=\"2026-01-01\",\n",
    "    swapEnd=\"2031-01-01\",\n",
    "    frequency=\"3M\",\n",
    "    iborIndex=\"USD-LIBOR-3M\",\n",
    "    strikeRate=0.0175,\n",
    "    notional=1_000_000,\n",
    "    longOrShort=\"LONG\",\n",
    ")\n",
    "swaption_ibor.accept(IborSwaptionVisitor())\n"
   ]
  },
  {
   "cell_type": "markdown",
   "id": "d4fc4876",
   "metadata": {},
   "source": [
    "### 6.2 Overnight Swaption\n",
    "\n",
    "European swaption on a 2Y monthly OIS, strike 1%, notional 500 000, short.\n"
   ]
  },
  {
   "cell_type": "code",
   "execution_count": null,
   "id": "6b09cb5c",
   "metadata": {},
   "outputs": [],
   "source": [
    "swaption_ois = ProductOvernightSwaption(\n",
    "    optionExpiry=\"2025-10-01\",\n",
    "    swapStart=\"2025-11-01\",\n",
    "    swapEnd=\"2027-11-01\",\n",
    "    frequency=\"1M\",\n",
    "    overnightIndex=\"USD-FED-FUNDS\",\n",
    "    strikeRate=0.01,\n",
    "    notional=500_000,\n",
    "    longOrShort=\"SHORT\",\n",
    ")\n",
    "swaption_ois.accept(OvernightSwaptionVisitor())\n"
   ]
  }
 ],
 "metadata": {
  "kernelspec": {
   "display_name": "Python 3",
   "language": "python",
   "name": "python3"
  },
  "language_info": {
   "codemirror_mode": {
    "name": "ipython",
    "version": 3
   },
   "file_extension": ".py",
   "mimetype": "text/x-python",
   "name": "python",
   "nbconvert_exporter": "python",
   "pygments_lexer": "ipython3",
   "version": "3.12.5"
  }
 },
 "nbformat": 4,
 "nbformat_minor": 5
}

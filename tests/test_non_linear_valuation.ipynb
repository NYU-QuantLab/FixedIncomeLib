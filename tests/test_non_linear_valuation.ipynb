{
 "cells": [
  {
   "cell_type": "markdown",
   "id": "78821aeb",
   "metadata": {},
   "source": [
    "# Testing Non-Linear Products Valuation\n",
    "\n",
    "This notebook walks through:\n",
    "\n",
    "1. Loading historical index fixings  \n",
    "2. Building a simple two-index yield curve  \n",
    "3. Building **classic** SABR surfaces (no product split)  \n",
    "4. Pricing IBOR caplets/floors and swaptions using classic Hagan SABR  \n",
    "5. Building **top-down** SABR surfaces for SOFR (CAPLET vs SWAPTION)  \n",
    "6. Pricing RFR caplets/swaptions using top-down SABR  \n"
   ]
  },
  {
   "cell_type": "markdown",
   "id": "c1f4325d",
   "metadata": {},
   "source": [
    "# 1. Imports & Setup"
   ]
  },
  {
   "cell_type": "code",
   "execution_count": 20,
   "id": "e8777c27",
   "metadata": {},
   "outputs": [
    {
     "name": "stdout",
     "output_type": "stream",
     "text": [
      "Setup complete.\n"
     ]
    }
   ],
   "source": [
    "import sys, os\n",
    "repo_root = os.path.abspath(os.path.join(os.getcwd(), \"..\"))\n",
    "if repo_root not in sys.path:\n",
    "    sys.path.insert(0, repo_root)\n",
    "\n",
    "import pandas as pd\n",
    "from yield_curve import YieldCurve\n",
    "from sabr import SabrModel\n",
    "from valuation import IndexManager, ValuationEngineRegistry\n",
    "from product import (\n",
    "    ProductIborCapFloorlet, ProductOvernightCapFloorlet,\n",
    "    ProductIborCapFloor,   ProductOvernightCapFloor,\n",
    "    ProductIborSwaption,   ProductOvernightSwaption\n",
    ")\n",
    "from analytics import SABRCalculator\n",
    "from data import DataCollection\n",
    "\n",
    "print(\"Setup complete.\")"
   ]
  },
  {
   "cell_type": "markdown",
   "id": "c300b3a8",
   "metadata": {},
   "source": [
    "## 2) Load Index Fixings\n",
    "\n",
    "On first call, `IndexManager.instance()` will read **`fixing/fixings.csv`** and populate its in-memory registry."
   ]
  },
  {
   "cell_type": "code",
   "execution_count": 21,
   "id": "4f1c62a0",
   "metadata": {},
   "outputs": [
    {
     "name": "stdout",
     "output_type": "stream",
     "text": [
      "Loaded indices: ['SOFR-1B', 'USD-LIBOR-3M', 'SONIA-1B']\n"
     ]
    }
   ],
   "source": [
    "mgr = IndexManager.instance()\n",
    "print(\"Loaded indices:\", list(mgr._fixings.keys()))\n"
   ]
  },
  {
   "cell_type": "markdown",
   "id": "0e18f060",
   "metadata": {},
   "source": [
    "## 3) Build Dummy Yield Curve\n",
    "\n",
    "We use two indices (SOFR-1B and USD-LIBOR-BBA-1M) with piecewise-constant interpolation.\n"
   ]
  },
  {
   "cell_type": "code",
   "execution_count": 22,
   "id": "5c95c904",
   "metadata": {},
   "outputs": [],
   "source": [
    "curve_data = [\n",
    "    [\"SOFR-1B\",            \"1M\",  0.0020],\n",
    "    [\"SOFR-1B\",            \"3M\",  0.0025],\n",
    "    [\"SOFR-1B\",            \"6M\",  0.0030],\n",
    "    [\"USD-LIBOR-BBA-1M\",   \"1M\",  0.0040],\n",
    "    [\"USD-LIBOR-BBA-1M\",   \"3M\",  0.00425],\n",
    "    [\"USD-LIBOR-BBA-1M\",   \"6M\",  0.00450],\n",
    "]\n",
    "df_curve = pd.DataFrame(curve_data, columns=[\"INDEX\",\"AXIS1\",\"VALUES\"])\n",
    "\n",
    "build_methods_curve = [\n",
    "  {\n",
    "    \"TARGET\":             \"SOFR-1B\",\n",
    "    \"DATA_TYPE\":          \"ZERO_RATE\",\n",
    "    \"DATA_CONVENTION\":    \"SOFR-1B\",\n",
    "    \"INTERPOLATION_METHOD\":\"PIECEWISE_CONSTANT\"\n",
    "  },\n",
    "  {\n",
    "    \"TARGET\":             \"USD-LIBOR-BBA-1M\",\n",
    "    \"DATA_TYPE\":          \"ZERO_RATE\",\n",
    "    \"DATA_CONVENTION\":    \"USD-LIBOR-BBA-1M\",\n",
    "    \"INTERPOLATION_METHOD\":\"PIECEWISE_CONSTANT\"\n",
    "  },\n",
    "]\n"
   ]
  },
  {
   "cell_type": "code",
   "execution_count": 23,
   "id": "de4f02f2",
   "metadata": {},
   "outputs": [
    {
     "name": "stdout",
     "output_type": "stream",
     "text": [
      "YieldCurve built. Components: dict_keys(['SOFR-1B', 'USD-LIBOR-BBA-1M'])\n"
     ]
    }
   ],
   "source": [
    "dc = DataCollection.instance()\n",
    "dc.clear()\n",
    "\n",
    "valueDate = \"2025-06-26\"\n",
    "\n",
    "# 2) register your DataFrame of raw rates\n",
    "dc.register_zero_rate_dataframe(\n",
    "    df         = df_curve,\n",
    "    value_date = valueDate,\n",
    "    method     = \"PIECEWISE_CONSTANT\"\n",
    ")\n",
    "\n",
    "# 3) now build the curve from the DataCollection\n",
    "yc = YieldCurve(valueDate, dc, build_methods_curve)\n",
    "print(\"YieldCurve built. Components:\", yc.components.keys())"
   ]
  },
  {
   "cell_type": "markdown",
   "id": "7e9e9b70",
   "metadata": {},
   "source": [
    "## 4) Build Dummy SABR Model\n",
    "\n",
    "We’ll calibrate a flat SABR surface for USD-LIBOR-BBA-1M so that our caplets can be priced."
   ]
  },
  {
   "cell_type": "code",
   "execution_count": 24,
   "id": "1179a20c",
   "metadata": {},
   "outputs": [],
   "source": [
    "sabr_libor = pd.DataFrame([\n",
    "    [\"USD-LIBOR-BBA-1M\", 0.25, 0.25, 0.015, 0.5, 0.2, -0.3],\n",
    "    [\"USD-LIBOR-BBA-1M\", 0.25, 1.00, 0.017, 0.5, 0.2, -0.3],\n",
    "    [\"USD-LIBOR-BBA-1M\", 1.00, 0.25, 0.018, 0.5, 0.2, -0.3],\n",
    "    [\"USD-LIBOR-BBA-1M\", 1.00, 1.00, 0.020, 0.5, 0.2, -0.3],\n",
    "], columns=[\"INDEX\",\"AXIS1\",\"AXIS2\",\"NORMALVOL\",\"BETA\",\"NU\",\"RHO\"])\n",
    "\n",
    "sabr_sofr = pd.DataFrame([\n",
    "    [\"SOFR-1B\", 0.25, 0.25, 0.010, 0.5, 0.2, -0.1],\n",
    "    [\"SOFR-1B\", 0.25, 1.00, 0.012, 0.5, 0.2, -0.1],\n",
    "    [\"SOFR-1B\", 1.00, 0.25, 0.013, 0.5, 0.2, -0.1],\n",
    "    [\"SOFR-1B\", 1.00, 1.00, 0.015, 0.5, 0.2, -0.1],\n",
    "], columns=sabr_libor.columns)\n",
    "\n",
    "sabr_data = pd.concat([sabr_libor, sabr_sofr], ignore_index=True)"
   ]
  },
  {
   "cell_type": "code",
   "execution_count": 25,
   "id": "c3e2a24a",
   "metadata": {},
   "outputs": [
    {
     "name": "stdout",
     "output_type": "stream",
     "text": [
      "Registered SABR surfaces: [('ZERO_RATE', 'SOFR-1B'), ('ZERO_RATE', 'USD-LIBOR-BBA-1M'), ('NORMALVOL', 'SOFR-1B'), ('BETA', 'SOFR-1B'), ('NU', 'SOFR-1B'), ('RHO', 'SOFR-1B'), ('NORMALVOL', 'USD-LIBOR-BBA-1M'), ('BETA', 'USD-LIBOR-BBA-1M'), ('NU', 'USD-LIBOR-BBA-1M'), ('RHO', 'USD-LIBOR-BBA-1M')]\n"
     ]
    }
   ],
   "source": [
    "dc = DataCollection.instance()\n",
    "\n",
    "dc.register_sabr_dataframe(\n",
    "    df=sabr_data,\n",
    "    axis1_col=\"AXIS1\",\n",
    "    axis2_col=\"AXIS2\",\n",
    "    param_cols=[\"NORMALVOL\", \"BETA\", \"NU\", \"RHO\"],\n",
    "    data_convention_col=\"INDEX\",\n",
    "    method=\"LINEAR\"\n",
    ")\n",
    "\n",
    "print(\"Registered SABR surfaces:\", list(dc._store.keys()))"
   ]
  },
  {
   "cell_type": "code",
   "execution_count": 26,
   "id": "8f530fa4",
   "metadata": {},
   "outputs": [
    {
     "name": "stdout",
     "output_type": "stream",
     "text": [
      "Classic SABR components: dict_keys(['USD-LIBOR-BBA-1M-NORMALVOL', 'USD-LIBOR-BBA-1M-BETA', 'USD-LIBOR-BBA-1M-NU', 'USD-LIBOR-BBA-1M-RHO', 'SOFR-1B-NORMALVOL', 'SOFR-1B-BETA', 'SOFR-1B-NU', 'SOFR-1B-RHO'])\n"
     ]
    }
   ],
   "source": [
    "classic_build_methods = [\n",
    "    {\n",
    "      \"TARGET\":        idx,\n",
    "      \"DATA_TYPE\":     param,\n",
    "      \"DATA_CONVENTION\": idx,\n",
    "      \"INTERPOLATION\": \"LINEAR\",\n",
    "      \"SHIFT\":         0.0,\n",
    "      \"VOL_DECAY_SPEED\": 0.2\n",
    "    }\n",
    "    for idx in sabr_data[\"INDEX\"].unique()\n",
    "    for param in [\"NORMALVOL\",\"BETA\",\"NU\",\"RHO\"]\n",
    "]\n",
    "\n",
    "classic_sabr = SabrModel.from_curve(\n",
    "    valueDate             = valueDate,\n",
    "    dataRepository        = dc,\n",
    "    buildMethodCollection = classic_build_methods,\n",
    "    ycModel               = yc\n",
    ")\n",
    "print(\"Classic SABR components:\", classic_sabr.components.keys())\n"
   ]
  },
  {
   "cell_type": "markdown",
   "id": "73db23c2",
   "metadata": {},
   "source": [
    "## 5) Price with Classic SABR"
   ]
  },
  {
   "cell_type": "code",
   "execution_count": 27,
   "id": "fa928ba6",
   "metadata": {},
   "outputs": [
    {
     "name": "stdout",
     "output_type": "stream",
     "text": [
      "IBOR Caplet PV (classic): ['USD', np.float64(9.576384160647141e-07)]\n"
     ]
    }
   ],
   "source": [
    "caplet_ibor = ProductIborCapFloorlet(\n",
    "    startDate   =\"2025-07-01\",\n",
    "    endDate     =\"2025-10-01\",\n",
    "    index       =\"USD-LIBOR-BBA-1M\",\n",
    "    optionType  =\"CAP\",\n",
    "    strike      =0.02,\n",
    "    notional    =1_000_000,\n",
    "    longOrShort =\"LONG\"\n",
    ")\n",
    "\n",
    "ve1 = ValuationEngineRegistry().new_valuation_engine(\n",
    "    classic_sabr,\n",
    "    {\"SABR_METHOD\": None},\n",
    "    caplet_ibor\n",
    ")\n",
    "ve1.calculateValue()\n",
    "print(\"IBOR Caplet PV (classic):\", ve1.value)"
   ]
  },
  {
   "cell_type": "code",
   "execution_count": 28,
   "id": "d484f27c",
   "metadata": {},
   "outputs": [
    {
     "name": "stdout",
     "output_type": "stream",
     "text": [
      "IBOR Swaption PV (classic): ['USD', np.float64(21946381354.200516)]\n"
     ]
    }
   ],
   "source": [
    "swaption_ibor = ProductIborSwaption(\n",
    "    optionExpiry=\"2025-12-01\",\n",
    "    swapStart   =\"2026-01-01\",\n",
    "    swapEnd     =\"2031-01-01\",\n",
    "    frequency   =\"3M\",\n",
    "    iborIndex   =\"USD-LIBOR-BBA-1M\",\n",
    "    strikeRate  =0.0175,\n",
    "    notional    =1_000_000,\n",
    "    longOrShort =\"LONG\",\n",
    "    optionType  =\"PAYER\"\n",
    ")\n",
    "\n",
    "ve2 = ValuationEngineRegistry().new_valuation_engine(\n",
    "    classic_sabr,\n",
    "    {\"SABR_METHOD\": None},\n",
    "    swaption_ibor\n",
    ")\n",
    "ve2.calculateValue()\n",
    "print(\"IBOR Swaption PV (classic):\", ve2.value)"
   ]
  },
  {
   "cell_type": "code",
   "execution_count": 29,
   "id": "ebcc848d",
   "metadata": {},
   "outputs": [
    {
     "name": "stdout",
     "output_type": "stream",
     "text": [
      "IBOR Swaption PV: ['USD', np.float64(21946381354.200516)]\n"
     ]
    }
   ],
   "source": [
    "swaption_ibor = ProductIborSwaption(\n",
    "    optionExpiry=\"2025-12-01\",\n",
    "    swapStart   =\"2026-01-01\",\n",
    "    swapEnd     =\"2031-01-01\",\n",
    "    frequency   =\"3M\",\n",
    "    iborIndex   =\"USD-LIBOR-BBA-1M\",\n",
    "    strikeRate  =0.0175,\n",
    "    notional    =1000000,\n",
    "    longOrShort =\"LONG\",\n",
    "    optionType  =\"PAYER\"\n",
    ")\n",
    "\n",
    "ve = ValuationEngineRegistry().new_valuation_engine(\n",
    "    classic_sabr,\n",
    "    {\"SABR_METHOD\": None},\n",
    "    swaption_ibor\n",
    ")\n",
    "ve.calculateValue()\n",
    "print(\"IBOR Swaption PV:\", ve.value)"
   ]
  },
  {
   "cell_type": "markdown",
   "id": "b2b7adc1",
   "metadata": {},
   "source": [
    "## 6) Build Top-Down SABR Model for SOFR (CAPLET vs SWAPTION)\n"
   ]
  },
  {
   "cell_type": "code",
   "execution_count": 30,
   "id": "bd1a0899",
   "metadata": {},
   "outputs": [
    {
     "name": "stdout",
     "output_type": "stream",
     "text": [
      "Top-down SABR components: dict_keys(['SOFR-1B-NORMALVOL-CAPLET', 'SOFR-1B-BETA-CAPLET', 'SOFR-1B-NU-CAPLET', 'SOFR-1B-RHO-CAPLET', 'SOFR-1B-NORMALVOL-SWAPTION', 'SOFR-1B-BETA-SWAPTION', 'SOFR-1B-NU-SWAPTION', 'SOFR-1B-RHO-SWAPTION'])\n"
     ]
    }
   ],
   "source": [
    "sabr_sofr_cap = pd.DataFrame([\n",
    "    [\"SOFR-1B\", 0.25, 0.083333, 0.0090,    0.5,  0.20, -0.15],\n",
    "    [\"SOFR-1B\", 0.25, 0.25,     0.0100,    0.5,  0.20, -0.15],\n",
    "    [\"SOFR-1B\", 1.00, 0.083333, 0.0110,    0.5,  0.20, -0.15],\n",
    "    [\"SOFR-1B\", 1.00, 0.25,     0.0120,    0.5,  0.20, -0.15],\n",
    "], columns=sabr_sofr.columns)\n",
    "sabr_sofr_cap[\"PRODUCT\"] = \"CAPLET\"\n",
    "\n",
    "sabr_sofr_sw = pd.DataFrame([\n",
    "    [\"SOFR-1B\",0.25,1.0,0.012,0.5,0.2,-0.1],\n",
    "    [\"SOFR-1B\",0.25,2.0,0.013,0.5,0.2,-0.1],\n",
    "    [\"SOFR-1B\",0.25,3.0,0.014,0.5,0.2,-0.1],\n",
    "    [\"SOFR-1B\",0.25,4.0,0.015,0.5,0.2,-0.1],\n",
    "    [\"SOFR-1B\",1.00,1.0,0.013,0.5,0.2,-0.1],\n",
    "    [\"SOFR-1B\",1.00,2.0,0.014,0.5,0.2,-0.1],\n",
    "    [\"SOFR-1B\",1.00,3.0,0.015,0.5,0.2,-0.1],\n",
    "    [\"SOFR-1B\",1.00,4.0,0.016,0.5,0.2,-0.1]\n",
    "], columns=[\"INDEX\",\"AXIS1\",\"AXIS2\",\"NORMALVOL\",\"BETA\",\"NU\",\"RHO\"])\n",
    "\n",
    "sabr_sofr_sw[\"PRODUCT\"] = \"SWAPTION\"\n",
    "\n",
    "full_sabr_sofr = pd.concat([sabr_sofr_cap, sabr_sofr_sw], ignore_index=True)\n",
    "dc.clear()\n",
    "dc.register_zero_rate_dataframe(df_curve, valueDate, method=\"PIECEWISE_CONSTANT\")\n",
    "dc.register_sabr_dataframe(\n",
    "    df               = full_sabr_sofr,\n",
    "    axis1_col        = \"AXIS1\",\n",
    "    axis2_col        = \"AXIS2\",\n",
    "    param_cols       = [\"NORMALVOL\",\"BETA\",\"NU\",\"RHO\"],\n",
    "    data_convention_col = \"INDEX\",\n",
    "    method           = \"LINEAR\",\n",
    ")\n",
    "\n",
    "topdown_build_methods = []\n",
    "for product in (\"CAPLET\",\"SWAPTION\"):\n",
    "    for param in (\"NORMALVOL\",\"BETA\",\"NU\",\"RHO\"):\n",
    "        topdown_build_methods.append({\n",
    "            \"TARGET\":           \"SOFR-1B\",\n",
    "            \"DATA_TYPE\":        param,\n",
    "            \"DATA_CONVENTION\":  \"SOFR-1B\",\n",
    "            \"AXIS1\":            \"AXIS1\",\n",
    "            \"AXIS2\":            \"AXIS2\",\n",
    "            \"INTERPOLATION\":    \"LINEAR\",\n",
    "            \"SHIFT\":            0.0,\n",
    "            \"VOL_DECAY_SPEED\":  0.2,\n",
    "            \"PRODUCT\":          product\n",
    "        })\n",
    "\n",
    "td_sabr = SabrModel.from_data(\n",
    "    valueDate             = valueDate,\n",
    "    dataRepository        = dc,\n",
    "    buildMethodCollection = topdown_build_methods,\n",
    "    ycData                = df_curve,\n",
    "    ycBuildMethods        = build_methods_curve\n",
    ")\n",
    "\n",
    "print(\"Top-down SABR components:\", td_sabr.components.keys())"
   ]
  },
  {
   "cell_type": "markdown",
   "id": "a9b3764e",
   "metadata": {},
   "source": [
    "## 7) Price Top-Down RFR Products\n"
   ]
  },
  {
   "cell_type": "code",
   "execution_count": 31,
   "id": "f12b5500",
   "metadata": {},
   "outputs": [
    {
     "name": "stdout",
     "output_type": "stream",
     "text": [
      "Overnight Caplet PV (top-down): ['USD', np.float64(66.45271852624181)]\n"
     ]
    }
   ],
   "source": [
    "# 7a) Overnight caplet (top-down SABR)\n",
    "caplet_ois = ProductOvernightCapFloorlet(\n",
    "    effectiveDate=\"2025-07-01\",\n",
    "    termOrEnd    =\"3M\",\n",
    "    index        =\"SOFR-1B\",\n",
    "    compounding  =\"COMPOUND\",\n",
    "    optionType   =\"CAP\",\n",
    "    strike       =0.018,\n",
    "    notional     =1_000_000,\n",
    "    longOrShort  =\"LONG\"\n",
    ")\n",
    "\n",
    "ve3 = ValuationEngineRegistry().new_valuation_engine(\n",
    "    td_sabr,\n",
    "    {\"SABR_METHOD\":\"top-down\"},\n",
    "    caplet_ois\n",
    ")\n",
    "ve3.calculateValue()\n",
    "print(\"Overnight Caplet PV (top-down):\", ve3.value)"
   ]
  },
  {
   "cell_type": "markdown",
   "id": "a655b7ff",
   "metadata": {},
   "source": [
    "## 8) Valuation: Overnight Cap/Floor Wrapper\n"
   ]
  },
  {
   "cell_type": "code",
   "execution_count": 32,
   "id": "c7da2e32",
   "metadata": {},
   "outputs": [
    {
     "name": "stdout",
     "output_type": "stream",
     "text": [
      "Overnight Cap/Floor PV: ['USD', np.float64(-15124.237191922715)]\n"
     ]
    }
   ],
   "source": [
    "ois_cap = ProductOvernightCapFloor(\n",
    "    effectiveDate=\"2025-07-01\",\n",
    "    maturityDate =\"2026-07-01\",\n",
    "    frequency    =\"3M\",\n",
    "    index        =\"SOFR-1B\",\n",
    "    compounding  =\"COMPOUND\",\n",
    "    optionType   =\"FLOOR\",\n",
    "    strike       =0.016,\n",
    "    notional     =1000000,\n",
    "    longOrShort  =\"SHORT\"\n",
    ")\n",
    "\n",
    "ve = ValuationEngineRegistry().new_valuation_engine(\n",
    "    td_sabr,\n",
    "    {\"SABR_METHOD\": \"top-down\"},\n",
    "    ois_cap\n",
    ")\n",
    "ve.calculateValue()\n",
    "print(\"Overnight Cap/Floor PV:\", ve.value)\n"
   ]
  },
  {
   "cell_type": "markdown",
   "id": "b59a2017",
   "metadata": {},
   "source": [
    "# 8) Price RFR caplets using bottom-up SABR"
   ]
  },
  {
   "cell_type": "code",
   "execution_count": 33,
   "id": "8e2a1fc3",
   "metadata": {},
   "outputs": [],
   "source": [
    "corr_data = [\n",
    "    [0.25, 0.25, 0.80],\n",
    "    [0.25, 0.50, 0.78],\n",
    "    [0.25, 1.00, 0.75],\n",
    "    [1.00, 0.25, 0.78],\n",
    "    [1.00, 0.50, 0.76],\n",
    "    [1.00, 1.00, 0.74],\n",
    "]\n",
    "df_corr = pd.DataFrame(corr_data, columns=[\"EXPIRY\",\"TENOR\",\"CORR\"])\n",
    "df_corr[\"INDEX\"] = \"SOFR-1B\""
   ]
  },
  {
   "cell_type": "code",
   "execution_count": null,
   "id": "46bb5a13",
   "metadata": {},
   "outputs": [],
   "source": [
    "dc = DataCollection.instance()\n",
    "dc.clear()\n",
    "dc.register_surface_dataframe(\n",
    "    df                = df_corr,\n",
    "    axis1_col         = \"EXPIRY\",\n",
    "    axis2_col         = \"TENOR\",\n",
    "    value_cols        = [\"CORR\"],\n",
    "    data_convention_col=\"INDEX\",\n",
    "    method            = \"LINEAR\"\n",
    ")"
   ]
  },
  {
   "cell_type": "code",
   "execution_count": null,
   "id": "b89f5865",
   "metadata": {},
   "outputs": [
    {
     "ename": "KeyError",
     "evalue": "\"Duplicate market data for ('NORMALVOL', 'SOFR-1B')\"",
     "output_type": "error",
     "traceback": [
      "\u001b[1;31m---------------------------------------------------------------------------\u001b[0m",
      "\u001b[1;31mKeyError\u001b[0m                                  Traceback (most recent call last)",
      "Cell \u001b[1;32mIn[35], line 10\u001b[0m\n\u001b[0;32m      1\u001b[0m one_bd \u001b[38;5;241m=\u001b[39m \u001b[38;5;241m1.0\u001b[39m\u001b[38;5;241m/\u001b[39m\u001b[38;5;241m252\u001b[39m\n\u001b[0;32m      3\u001b[0m sabr_sofr_1bd \u001b[38;5;241m=\u001b[39m pd\u001b[38;5;241m.\u001b[39mDataFrame([\n\u001b[0;32m      4\u001b[0m     [\u001b[38;5;124m\"\u001b[39m\u001b[38;5;124mSOFR-1B\u001b[39m\u001b[38;5;124m\"\u001b[39m, \u001b[38;5;241m0.25\u001b[39m,  one_bd,  \u001b[38;5;241m0.0095\u001b[39m,    \u001b[38;5;241m0.50\u001b[39m, \u001b[38;5;241m0.20\u001b[39m, \u001b[38;5;241m-\u001b[39m\u001b[38;5;241m0.15\u001b[39m],\n\u001b[0;32m      5\u001b[0m     [\u001b[38;5;124m\"\u001b[39m\u001b[38;5;124mSOFR-1B\u001b[39m\u001b[38;5;124m\"\u001b[39m, \u001b[38;5;241m0.50\u001b[39m,  one_bd,  \u001b[38;5;241m0.0100\u001b[39m,    \u001b[38;5;241m0.50\u001b[39m, \u001b[38;5;241m0.20\u001b[39m, \u001b[38;5;241m-\u001b[39m\u001b[38;5;241m0.15\u001b[39m],\n\u001b[0;32m      6\u001b[0m     [\u001b[38;5;124m\"\u001b[39m\u001b[38;5;124mSOFR-1B\u001b[39m\u001b[38;5;124m\"\u001b[39m, \u001b[38;5;241m1.00\u001b[39m,  one_bd,  \u001b[38;5;241m0.0105\u001b[39m,    \u001b[38;5;241m0.50\u001b[39m, \u001b[38;5;241m0.20\u001b[39m, \u001b[38;5;241m-\u001b[39m\u001b[38;5;241m0.15\u001b[39m],\n\u001b[0;32m      7\u001b[0m     [\u001b[38;5;124m\"\u001b[39m\u001b[38;5;124mSOFR-1B\u001b[39m\u001b[38;5;124m\"\u001b[39m, \u001b[38;5;241m2.00\u001b[39m,  one_bd,  \u001b[38;5;241m0.0110\u001b[39m,    \u001b[38;5;241m0.50\u001b[39m, \u001b[38;5;241m0.20\u001b[39m, \u001b[38;5;241m-\u001b[39m\u001b[38;5;241m0.15\u001b[39m]\n\u001b[0;32m      8\u001b[0m ], columns\u001b[38;5;241m=\u001b[39m[\u001b[38;5;124m\"\u001b[39m\u001b[38;5;124mINDEX\u001b[39m\u001b[38;5;124m\"\u001b[39m,\u001b[38;5;124m\"\u001b[39m\u001b[38;5;124mAXIS1\u001b[39m\u001b[38;5;124m\"\u001b[39m,\u001b[38;5;124m\"\u001b[39m\u001b[38;5;124mAXIS2\u001b[39m\u001b[38;5;124m\"\u001b[39m,\u001b[38;5;124m\"\u001b[39m\u001b[38;5;124mNORMALVOL\u001b[39m\u001b[38;5;124m\"\u001b[39m,\u001b[38;5;124m\"\u001b[39m\u001b[38;5;124mBETA\u001b[39m\u001b[38;5;124m\"\u001b[39m,\u001b[38;5;124m\"\u001b[39m\u001b[38;5;124mNU\u001b[39m\u001b[38;5;124m\"\u001b[39m,\u001b[38;5;124m\"\u001b[39m\u001b[38;5;124mRHO\u001b[39m\u001b[38;5;124m\"\u001b[39m])\n\u001b[1;32m---> 10\u001b[0m \u001b[43mdc\u001b[49m\u001b[38;5;241;43m.\u001b[39;49m\u001b[43mregister_sabr_dataframe\u001b[49m\u001b[43m(\u001b[49m\n\u001b[0;32m     11\u001b[0m \u001b[43m    \u001b[49m\u001b[43mdf\u001b[49m\u001b[43m                 \u001b[49m\u001b[38;5;241;43m=\u001b[39;49m\u001b[43m \u001b[49m\u001b[43msabr_sofr_1bd\u001b[49m\u001b[43m,\u001b[49m\n\u001b[0;32m     12\u001b[0m \u001b[43m    \u001b[49m\u001b[43maxis1_col\u001b[49m\u001b[43m          \u001b[49m\u001b[38;5;241;43m=\u001b[39;49m\u001b[43m \u001b[49m\u001b[38;5;124;43m\"\u001b[39;49m\u001b[38;5;124;43mAXIS1\u001b[39;49m\u001b[38;5;124;43m\"\u001b[39;49m\u001b[43m,\u001b[49m\n\u001b[0;32m     13\u001b[0m \u001b[43m    \u001b[49m\u001b[43maxis2_col\u001b[49m\u001b[43m          \u001b[49m\u001b[38;5;241;43m=\u001b[39;49m\u001b[43m \u001b[49m\u001b[38;5;124;43m\"\u001b[39;49m\u001b[38;5;124;43mAXIS2\u001b[39;49m\u001b[38;5;124;43m\"\u001b[39;49m\u001b[43m,\u001b[49m\n\u001b[0;32m     14\u001b[0m \u001b[43m    \u001b[49m\u001b[43mparam_cols\u001b[49m\u001b[43m         \u001b[49m\u001b[38;5;241;43m=\u001b[39;49m\u001b[43m \u001b[49m\u001b[43m[\u001b[49m\u001b[38;5;124;43m\"\u001b[39;49m\u001b[38;5;124;43mNORMALVOL\u001b[39;49m\u001b[38;5;124;43m\"\u001b[39;49m\u001b[43m,\u001b[49m\u001b[38;5;124;43m\"\u001b[39;49m\u001b[38;5;124;43mBETA\u001b[39;49m\u001b[38;5;124;43m\"\u001b[39;49m\u001b[43m,\u001b[49m\u001b[38;5;124;43m\"\u001b[39;49m\u001b[38;5;124;43mNU\u001b[39;49m\u001b[38;5;124;43m\"\u001b[39;49m\u001b[43m,\u001b[49m\u001b[38;5;124;43m\"\u001b[39;49m\u001b[38;5;124;43mRHO\u001b[39;49m\u001b[38;5;124;43m\"\u001b[39;49m\u001b[43m]\u001b[49m\u001b[43m,\u001b[49m\n\u001b[0;32m     15\u001b[0m \u001b[43m    \u001b[49m\u001b[43mdata_convention_col\u001b[49m\u001b[38;5;241;43m=\u001b[39;49m\u001b[43m \u001b[49m\u001b[38;5;124;43m\"\u001b[39;49m\u001b[38;5;124;43mINDEX\u001b[39;49m\u001b[38;5;124;43m\"\u001b[39;49m\u001b[43m,\u001b[49m\n\u001b[0;32m     16\u001b[0m \u001b[43m    \u001b[49m\u001b[43mmethod\u001b[49m\u001b[43m             \u001b[49m\u001b[38;5;241;43m=\u001b[39;49m\u001b[43m \u001b[49m\u001b[38;5;124;43m\"\u001b[39;49m\u001b[38;5;124;43mLINEAR\u001b[39;49m\u001b[38;5;124;43m\"\u001b[39;49m\n\u001b[0;32m     17\u001b[0m \u001b[43m)\u001b[49m\n",
      "File \u001b[1;32mc:\\Users\\neels\\OneDrive\\Desktop\\Capstone_Project\\FixedIncomeLib\\data\\data_collection.py:102\u001b[0m, in \u001b[0;36mDataCollection.register_sabr_dataframe\u001b[1;34m(self, df, axis1_col, axis2_col, param_cols, data_convention_col, method)\u001b[0m\n\u001b[0;32m     91\u001b[0m \u001b[38;5;28;01mfor\u001b[39;00m param \u001b[38;5;129;01min\u001b[39;00m param_cols:\n\u001b[0;32m     92\u001b[0m     grid \u001b[38;5;241m=\u001b[39m (\n\u001b[0;32m     93\u001b[0m         sub\n\u001b[0;32m     94\u001b[0m         \u001b[38;5;241m.\u001b[39mpivot_table(\n\u001b[1;32m   (...)\u001b[0m\n\u001b[0;32m    100\u001b[0m         \u001b[38;5;241m.\u001b[39mvalues\n\u001b[0;32m    101\u001b[0m     )\n\u001b[1;32m--> 102\u001b[0m     \u001b[38;5;28;43mself\u001b[39;49m\u001b[38;5;241;43m.\u001b[39;49m\u001b[43madd\u001b[49m\u001b[43m(\u001b[49m\u001b[43mData2D\u001b[49m\u001b[43m(\u001b[49m\n\u001b[0;32m    103\u001b[0m \u001b[43m        \u001b[49m\u001b[43mdata_type\u001b[49m\u001b[43m       \u001b[49m\u001b[38;5;241;43m=\u001b[39;49m\u001b[43m \u001b[49m\u001b[43mparam\u001b[49m\u001b[43m,\u001b[49m\n\u001b[0;32m    104\u001b[0m \u001b[43m        \u001b[49m\u001b[43mdata_convention\u001b[49m\u001b[43m \u001b[49m\u001b[38;5;241;43m=\u001b[39;49m\u001b[43m \u001b[49m\u001b[43mindex_key\u001b[49m\u001b[43m,\u001b[49m\n\u001b[0;32m    105\u001b[0m \u001b[43m        \u001b[49m\u001b[43maxis1\u001b[49m\u001b[43m           \u001b[49m\u001b[38;5;241;43m=\u001b[39;49m\u001b[43m \u001b[49m\u001b[43max1\u001b[49m\u001b[43m,\u001b[49m\n\u001b[0;32m    106\u001b[0m \u001b[43m        \u001b[49m\u001b[43maxis2\u001b[49m\u001b[43m           \u001b[49m\u001b[38;5;241;43m=\u001b[39;49m\u001b[43m \u001b[49m\u001b[43max2\u001b[49m\u001b[43m,\u001b[49m\n\u001b[0;32m    107\u001b[0m \u001b[43m        \u001b[49m\u001b[43mgrid\u001b[49m\u001b[43m            \u001b[49m\u001b[38;5;241;43m=\u001b[39;49m\u001b[43m \u001b[49m\u001b[43mgrid\u001b[49m\u001b[43m,\u001b[49m\n\u001b[0;32m    108\u001b[0m \u001b[43m        \u001b[49m\u001b[43mmethod\u001b[49m\u001b[43m          \u001b[49m\u001b[38;5;241;43m=\u001b[39;49m\u001b[43m \u001b[49m\u001b[43mmethod\u001b[49m\u001b[43m,\u001b[49m\n\u001b[0;32m    109\u001b[0m \u001b[43m    \u001b[49m\u001b[43m)\u001b[49m\u001b[43m)\u001b[49m\n",
      "File \u001b[1;32mc:\\Users\\neels\\OneDrive\\Desktop\\Capstone_Project\\FixedIncomeLib\\data\\data_collection.py:26\u001b[0m, in \u001b[0;36mDataCollection.add\u001b[1;34m(self, md)\u001b[0m\n\u001b[0;32m     24\u001b[0m key \u001b[38;5;241m=\u001b[39m (md\u001b[38;5;241m.\u001b[39mdata_type, md\u001b[38;5;241m.\u001b[39mdata_convention)\n\u001b[0;32m     25\u001b[0m \u001b[38;5;28;01mif\u001b[39;00m key \u001b[38;5;129;01min\u001b[39;00m \u001b[38;5;28mself\u001b[39m\u001b[38;5;241m.\u001b[39m_store:\n\u001b[1;32m---> 26\u001b[0m     \u001b[38;5;28;01mraise\u001b[39;00m \u001b[38;5;167;01mKeyError\u001b[39;00m(\u001b[38;5;124mf\u001b[39m\u001b[38;5;124m\"\u001b[39m\u001b[38;5;124mDuplicate market data for \u001b[39m\u001b[38;5;132;01m{\u001b[39;00mkey\u001b[38;5;132;01m}\u001b[39;00m\u001b[38;5;124m\"\u001b[39m)\n\u001b[0;32m     27\u001b[0m \u001b[38;5;28mself\u001b[39m\u001b[38;5;241m.\u001b[39m_store[key] \u001b[38;5;241m=\u001b[39m md\n",
      "\u001b[1;31mKeyError\u001b[0m: \"Duplicate market data for ('NORMALVOL', 'SOFR-1B')\""
     ]
    }
   ],
   "source": [
    "one_bd = 1.0/252\n",
    "\n",
    "sabr_sofr_1bd = pd.DataFrame([\n",
    "    [\"SOFR-1B\", 0.25,  one_bd,  0.0095,    0.50, 0.20, -0.15],\n",
    "    [\"SOFR-1B\", 0.50,  one_bd,  0.0100,    0.50, 0.20, -0.15],\n",
    "    [\"SOFR-1B\", 1.00,  one_bd,  0.0105,    0.50, 0.20, -0.15],\n",
    "    [\"SOFR-1B\", 2.00,  one_bd,  0.0110,    0.50, 0.20, -0.15]\n",
    "], columns=[\"INDEX\",\"AXIS1\",\"AXIS2\",\"NORMALVOL\",\"BETA\",\"NU\",\"RHO\"])\n",
    "\n",
    "dc.register_sabr_dataframe(\n",
    "    df                 = sabr_sofr_1bd,\n",
    "    axis1_col          = \"AXIS1\",\n",
    "    axis2_col          = \"AXIS2\",\n",
    "    param_cols         = [\"NORMALVOL\",\"BETA\",\"NU\",\"RHO\"],\n",
    "    data_convention_col= \"INDEX\",\n",
    "    method             = \"LINEAR\"\n",
    ")"
   ]
  },
  {
   "cell_type": "code",
   "execution_count": null,
   "id": "31f40bb6",
   "metadata": {},
   "outputs": [
    {
     "name": "stdout",
     "output_type": "stream",
     "text": [
      "Bottom-up 1BD‐tenor SABR components: dict_keys(['SOFR-1B-NORMALVOL', 'SOFR-1B-BETA', 'SOFR-1B-NU', 'SOFR-1B-RHO'])\n"
     ]
    }
   ],
   "source": [
    "bottom_up_build_methods_sofr = [\n",
    "    {\n",
    "      \"TARGET\":          \"SOFR-1B\",\n",
    "      \"DATA_TYPE\":       p,\n",
    "      \"DATA_CONVENTION\": \"SOFR-1B\",\n",
    "      \"SHIFT\":           0.0,\n",
    "      \"VOL_DECAY_SPEED\": 0.2\n",
    "    }\n",
    "    for p in (\"NORMALVOL\",\"BETA\",\"NU\",\"RHO\")\n",
    "]\n",
    "\n",
    "bottom_up_sofr_sabr = SabrModel.from_curve(\n",
    "    valueDate,\n",
    "    dc,\n",
    "    bottom_up_build_methods_sofr,\n",
    "    yc\n",
    ")\n",
    "print(\"Bottom-up 1BD‐tenor SABR components:\", bottom_up_sofr_sabr.components.keys())\n"
   ]
  },
  {
   "cell_type": "code",
   "execution_count": null,
   "id": "9fcf502a",
   "metadata": {},
   "outputs": [
    {
     "name": "stdout",
     "output_type": "stream",
     "text": [
      "Overnight Caplet PV (bottom-up): ['USD', np.float64(3.764510957375225e-36)]\n"
     ]
    }
   ],
   "source": [
    "caplet_bu = ProductOvernightCapFloorlet(\n",
    "    effectiveDate=\"2025-07-01\",\n",
    "    termOrEnd    =\"3M\",\n",
    "    index        =\"SOFR-1B\",\n",
    "    compounding  =\"COMPOUND\",\n",
    "    optionType   =\"CAP\",\n",
    "    strike       =0.018,\n",
    "    notional     =1_000_000,\n",
    "    longOrShort  =\"LONG\"\n",
    ")\n",
    "ve_bu_cap = ValuationEngineRegistry().new_valuation_engine(\n",
    "    bottom_up_sofr_sabr,\n",
    "    {\"SABR_METHOD\":\"bottom-up\", \"CORR_DF\": df_corr},\n",
    "    caplet_bu\n",
    ")\n",
    "ve_bu_cap.calculateValue()\n",
    "print(\"Overnight Caplet PV (bottom-up):\", ve_bu_cap.value)\n"
   ]
  },
  {
   "cell_type": "code",
   "execution_count": null,
   "id": "7dd1e2c2",
   "metadata": {},
   "outputs": [
    {
     "name": "stdout",
     "output_type": "stream",
     "text": [
      "Overnight Cap PV (bottom-up): ['USD', np.float64(2.626874664016809)]\n"
     ]
    }
   ],
   "source": [
    "ois_cap = ProductOvernightCapFloor(\n",
    "    effectiveDate=\"2025-07-01\",\n",
    "    maturityDate =\"2026-07-01\",\n",
    "    frequency    =\"3M\",\n",
    "    index        =\"SOFR-1B\",\n",
    "    compounding  =\"COMPOUND\",\n",
    "    optionType   =\"CAP\",\n",
    "    strike       =0.018,\n",
    "    notional     =1_000_000,\n",
    "    longOrShort  =\"LONG\"\n",
    ")\n",
    "\n",
    "ve = ValuationEngineRegistry().new_valuation_engine(\n",
    "    bottom_up_sofr_sabr,\n",
    "    {\"SABR_METHOD\":\"bottom-up\", \"CORR_DF\": df_corr},\n",
    "    ois_cap\n",
    ")\n",
    "ve.calculateValue()\n",
    "print(\"Overnight Cap PV (bottom-up):\", ve.value)"
   ]
  }
 ],
 "metadata": {
  "kernelspec": {
   "display_name": "Python 3",
   "language": "python",
   "name": "python3"
  },
  "language_info": {
   "codemirror_mode": {
    "name": "ipython",
    "version": 3
   },
   "file_extension": ".py",
   "mimetype": "text/x-python",
   "name": "python",
   "nbconvert_exporter": "python",
   "pygments_lexer": "ipython3",
   "version": "3.12.5"
  }
 },
 "nbformat": 4,
 "nbformat_minor": 5
}

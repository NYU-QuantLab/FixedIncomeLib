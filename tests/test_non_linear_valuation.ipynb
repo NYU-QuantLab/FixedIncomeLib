{
 "cells": [
  {
   "cell_type": "markdown",
   "id": "78821aeb",
   "metadata": {},
   "source": [
    "# Testing Non-Linear Products Valuation\n",
    "\n",
    "This notebook walks through:\n",
    "\n",
    "1. Loading historical index fixings  \n",
    "2. Building a simple two-index yield curve  \n",
    "3. Building **classic** SABR surfaces (no product split)  \n",
    "4. Pricing IBOR caplets/floors and swaptions using classic Hagan SABR  \n",
    "5. Building **top-down** SABR surfaces for SOFR (CAPLET vs SWAPTION)  \n",
    "6. Pricing RFR caplets/swaptions using top-down SABR  \n"
   ]
  },
  {
   "cell_type": "markdown",
   "id": "c1f4325d",
   "metadata": {},
   "source": [
    "# 1. Imports & Setup"
   ]
  },
  {
   "cell_type": "code",
   "execution_count": 128,
   "id": "e8777c27",
   "metadata": {},
   "outputs": [
    {
     "name": "stdout",
     "output_type": "stream",
     "text": [
      "Setup complete.\n"
     ]
    }
   ],
   "source": [
    "import sys, os\n",
    "repo_root = os.path.abspath(os.path.join(os.getcwd(), \"..\"))\n",
    "if repo_root not in sys.path:\n",
    "    sys.path.insert(0, repo_root)\n",
    "\n",
    "import pandas as pd\n",
    "from yield_curve import YieldCurve\n",
    "from sabr import SabrModel\n",
    "from valuation import IndexManager, ValuationEngineRegistry\n",
    "from product import (\n",
    "    ProductIborCapFloorlet, ProductOvernightCapFloorlet,\n",
    "    ProductIborCapFloor,   ProductOvernightCapFloor,\n",
    "    ProductIborSwaption,   ProductOvernightSwaption\n",
    ")\n",
    "from analytics import SABRCalculator\n",
    "from data import DataCollection, Data1D, Data2D\n",
    "\n",
    "print(\"Setup complete.\")"
   ]
  },
  {
   "cell_type": "markdown",
   "id": "c300b3a8",
   "metadata": {},
   "source": [
    "## 2) Load Index Fixings\n",
    "\n",
    "On first call, `IndexManager.instance()` will read **`fixing/fixings.csv`** and populate its in-memory registry."
   ]
  },
  {
   "cell_type": "code",
   "execution_count": 129,
   "id": "4f1c62a0",
   "metadata": {},
   "outputs": [
    {
     "name": "stdout",
     "output_type": "stream",
     "text": [
      "Loaded indices: ['SOFR-1B', 'USD-LIBOR-3M', 'SONIA-1B']\n"
     ]
    }
   ],
   "source": [
    "mgr = IndexManager.instance()\n",
    "print(\"Loaded indices:\", list(mgr._fixings.keys()))\n"
   ]
  },
  {
   "cell_type": "markdown",
   "id": "0e18f060",
   "metadata": {},
   "source": [
    "## 3) Build Dummy Yield Curve\n",
    "\n",
    "We use two indices (SOFR-1B and USD-LIBOR-BBA-1M) with piecewise-constant interpolation.\n"
   ]
  },
  {
   "cell_type": "code",
   "execution_count": 130,
   "id": "5c95c904",
   "metadata": {},
   "outputs": [],
   "source": [
    "curve_data = [\n",
    "    [\"SOFR-1B\",            \"1M\",  0.0020],\n",
    "    [\"SOFR-1B\",            \"3M\",  0.0025],\n",
    "    [\"SOFR-1B\",            \"6M\",  0.0030],\n",
    "    [\"USD-LIBOR-BBA-1M\",   \"1M\",  0.0040],\n",
    "    [\"USD-LIBOR-BBA-1M\",   \"3M\",  0.00425],\n",
    "    [\"USD-LIBOR-BBA-1M\",   \"6M\",  0.00450],\n",
    "]\n",
    "df_curve = pd.DataFrame(curve_data, columns=[\"INDEX\",\"AXIS1\",\"VALUES\"])\n",
    "\n",
    "build_methods_curve = [\n",
    "  {\n",
    "    \"TARGET\":              \"SOFR-1B\",\n",
    "    \"INTERPOLATION METHOD\":\"PIECEWISE_CONSTANT\"\n",
    "  },\n",
    "  {\n",
    "    \"TARGET\":              \"USD-LIBOR-BBA-1M\",\n",
    "    \"INTERPOLATION METHOD\":\"PIECEWISE_CONSTANT\"\n",
    "  },\n",
    "]\n"
   ]
  },
  {
   "cell_type": "code",
   "execution_count": 131,
   "id": "de4f02f2",
   "metadata": {},
   "outputs": [
    {
     "name": "stdout",
     "output_type": "stream",
     "text": [
      "YieldCurve built. Components: dict_keys(['SOFR-1B', 'USD-LIBOR-BBA-1M'])\n"
     ]
    }
   ],
   "source": [
    "valueDate = \"2025-06-26\"\n",
    "\n",
    "# start with an empty list\n",
    "data_objs = []\n",
    "\n",
    "# ZERO-RATE CURVES\n",
    "for idx_name, sub in df_curve.groupby(\"INDEX\"):\n",
    "    d1 = Data1D.createDataObject(\n",
    "        data_type       = \"zero_rate\",        # lowercase!\n",
    "        data_convention = idx_name,\n",
    "        df              = sub[[\"AXIS1\",\"VALUES\"]]\n",
    "    )\n",
    "    data_objs.append(d1)\n",
    "\n",
    "dc = DataCollection(data_objs)\n",
    "\n",
    "# 3) now build the curve from the DataCollection\n",
    "yc = YieldCurve(valueDate, dc, build_methods_curve)\n",
    "print(\"YieldCurve built. Components:\", yc.components.keys())"
   ]
  },
  {
   "cell_type": "markdown",
   "id": "7e9e9b70",
   "metadata": {},
   "source": [
    "## 4) Build Dummy SABR Model\n",
    "\n",
    "We’ll calibrate a flat SABR surface for USD-LIBOR-BBA-1M so that our caplets can be priced."
   ]
  },
  {
   "cell_type": "code",
   "execution_count": 132,
   "id": "1179a20c",
   "metadata": {},
   "outputs": [],
   "source": [
    "sabr_libor = pd.DataFrame([\n",
    "    [\"USD-LIBOR-BBA-1M\", 0.25, 0.25, 0.015, 0.5, 0.2, -0.3],\n",
    "    [\"USD-LIBOR-BBA-1M\", 0.25, 1.00, 0.017, 0.5, 0.2, -0.3],\n",
    "    [\"USD-LIBOR-BBA-1M\", 1.00, 0.25, 0.018, 0.5, 0.2, -0.3],\n",
    "    [\"USD-LIBOR-BBA-1M\", 1.00, 1.00, 0.020, 0.5, 0.2, -0.3],\n",
    "], columns=[\"INDEX\",\"AXIS1\",\"AXIS2\",\"NORMALVOL\",\"BETA\",\"NU\",\"RHO\"])\n",
    "\n",
    "sabr_sofr = pd.DataFrame([\n",
    "    [\"SOFR-1B\", 0.25, 0.25, 0.010, 0.5, 0.2, -0.1],\n",
    "    [\"SOFR-1B\", 0.25, 1.00, 0.012, 0.5, 0.2, -0.1],\n",
    "    [\"SOFR-1B\", 1.00, 0.25, 0.013, 0.5, 0.2, -0.1],\n",
    "    [\"SOFR-1B\", 1.00, 1.00, 0.015, 0.5, 0.2, -0.1],\n",
    "], columns=sabr_libor.columns)\n",
    "\n",
    "sabr_data = pd.concat([sabr_libor, sabr_sofr], ignore_index=True)"
   ]
  },
  {
   "cell_type": "code",
   "execution_count": 133,
   "id": "c3e2a24a",
   "metadata": {},
   "outputs": [],
   "source": [
    "for idx_name, sub in sabr_data.groupby(\"INDEX\"):\n",
    "    for param in [\"NORMALVOL\",\"BETA\",\"NU\",\"RHO\"]:\n",
    "        pivot = (\n",
    "            sub\n",
    "            .pivot(index=\"AXIS1\", columns=\"AXIS2\", values=param)\n",
    "            .sort_index(axis=0).sort_index(axis=1)\n",
    "        )\n",
    "        d2 = Data2D.createDataObject(\n",
    "            data_type       = param.lower(),   # e.g. \"normalvol\"\n",
    "            data_convention = idx_name,\n",
    "            df              = pivot\n",
    "        )\n",
    "        data_objs.append(d2)\n",
    "\n",
    "# 6) Rebuild registry & classic‐SABR model\n",
    "dc = DataCollection(data_objs)"
   ]
  },
  {
   "cell_type": "code",
   "execution_count": 134,
   "id": "8f530fa4",
   "metadata": {},
   "outputs": [
    {
     "name": "stdout",
     "output_type": "stream",
     "text": [
      "Classic SABR components: dict_keys(['USD-LIBOR-BBA-1M-NORMALVOL', 'USD-LIBOR-BBA-1M-BETA', 'USD-LIBOR-BBA-1M-NU', 'USD-LIBOR-BBA-1M-RHO', 'SOFR-1B-NORMALVOL', 'SOFR-1B-BETA', 'SOFR-1B-NU', 'SOFR-1B-RHO'])\n"
     ]
    }
   ],
   "source": [
    "classic_build_methods = [\n",
    "    {\n",
    "      \"TARGET\":        idx,\n",
    "      \"VALUES\":     param,\n",
    "      \"INTERPOLATION\": \"LINEAR\",\n",
    "      \"SHIFT\":         0.0,\n",
    "      \"VOL_DECAY_SPEED\": 0.2\n",
    "    }\n",
    "    for idx in sabr_data[\"INDEX\"].unique()\n",
    "    for param in [\"NORMALVOL\",\"BETA\",\"NU\",\"RHO\"]\n",
    "]\n",
    "\n",
    "classic_sabr = SabrModel.from_curve(\n",
    "    valueDate             = valueDate,\n",
    "    dataCollection        = dc,\n",
    "    buildMethodCollection = classic_build_methods,\n",
    "    ycModel               = yc\n",
    ")\n",
    "print(\"Classic SABR components:\", classic_sabr.components.keys())\n"
   ]
  },
  {
   "cell_type": "markdown",
   "id": "73db23c2",
   "metadata": {},
   "source": [
    "## 5) Price with Classic SABR"
   ]
  },
  {
   "cell_type": "code",
   "execution_count": 135,
   "id": "fa928ba6",
   "metadata": {},
   "outputs": [
    {
     "name": "stdout",
     "output_type": "stream",
     "text": [
      "IBOR Caplet PV (classic): ['USD', np.float64(9.576384160647141e-07)]\n"
     ]
    }
   ],
   "source": [
    "caplet_ibor = ProductIborCapFloorlet(\n",
    "    startDate   =\"2025-07-01\",\n",
    "    endDate     =\"2025-10-01\",\n",
    "    index       =\"USD-LIBOR-BBA-1M\",\n",
    "    optionType  =\"CAP\",\n",
    "    strike      =0.02,\n",
    "    notional    =1_000_000,\n",
    "    longOrShort =\"LONG\"\n",
    ")\n",
    "\n",
    "ve1 = ValuationEngineRegistry().new_valuation_engine(\n",
    "    classic_sabr,\n",
    "    {\"SABR_METHOD\": None},\n",
    "    caplet_ibor\n",
    ")\n",
    "ve1.calculateValue()\n",
    "print(\"IBOR Caplet PV (classic):\", ve1.value)"
   ]
  },
  {
   "cell_type": "code",
   "execution_count": 136,
   "id": "d484f27c",
   "metadata": {},
   "outputs": [
    {
     "name": "stdout",
     "output_type": "stream",
     "text": [
      "IBOR Swaption PV (classic): ['USD', np.float64(21946381354.200516)]\n"
     ]
    }
   ],
   "source": [
    "swaption_ibor = ProductIborSwaption(\n",
    "    optionExpiry=\"2025-12-01\",\n",
    "    swapStart   =\"2026-01-01\",\n",
    "    swapEnd     =\"2031-01-01\",\n",
    "    frequency   =\"3M\",\n",
    "    iborIndex   =\"USD-LIBOR-BBA-1M\",\n",
    "    strikeRate  =0.0175,\n",
    "    notional    =1_000_000,\n",
    "    longOrShort =\"LONG\",\n",
    "    optionType  =\"PAYER\"\n",
    ")\n",
    "\n",
    "ve2 = ValuationEngineRegistry().new_valuation_engine(\n",
    "    classic_sabr,\n",
    "    {\"SABR_METHOD\": None},\n",
    "    swaption_ibor\n",
    ")\n",
    "ve2.calculateValue()\n",
    "print(\"IBOR Swaption PV (classic):\", ve2.value)"
   ]
  },
  {
   "cell_type": "code",
   "execution_count": 137,
   "id": "ebcc848d",
   "metadata": {},
   "outputs": [
    {
     "name": "stdout",
     "output_type": "stream",
     "text": [
      "IBOR Swaption PV: ['USD', np.float64(21946381354.200516)]\n"
     ]
    }
   ],
   "source": [
    "swaption_ibor = ProductIborSwaption(\n",
    "    optionExpiry=\"2025-12-01\",\n",
    "    swapStart   =\"2026-01-01\",\n",
    "    swapEnd     =\"2031-01-01\",\n",
    "    frequency   =\"3M\",\n",
    "    iborIndex   =\"USD-LIBOR-BBA-1M\",\n",
    "    strikeRate  =0.0175,\n",
    "    notional    =1000000,\n",
    "    longOrShort =\"LONG\",\n",
    "    optionType  =\"PAYER\"\n",
    ")\n",
    "\n",
    "ve = ValuationEngineRegistry().new_valuation_engine(\n",
    "    classic_sabr,\n",
    "    {\"SABR_METHOD\": None},\n",
    "    swaption_ibor\n",
    ")\n",
    "ve.calculateValue()\n",
    "print(\"IBOR Swaption PV:\", ve.value)"
   ]
  },
  {
   "cell_type": "markdown",
   "id": "b2b7adc1",
   "metadata": {},
   "source": [
    "## 6) Build Top-Down SABR Model for SOFR (CAPLET vs SWAPTION)\n"
   ]
  },
  {
   "cell_type": "code",
   "execution_count": 138,
   "id": "bd1a0899",
   "metadata": {},
   "outputs": [
    {
     "name": "stdout",
     "output_type": "stream",
     "text": [
      "Top-down SABR components: dict_keys(['SOFR-1B-NORMALVOL-CAPLET', 'SOFR-1B-BETA-CAPLET', 'SOFR-1B-NU-CAPLET', 'SOFR-1B-RHO-CAPLET', 'SOFR-1B-NORMALVOL-SWAPTION', 'SOFR-1B-BETA-SWAPTION', 'SOFR-1B-NU-SWAPTION', 'SOFR-1B-RHO-SWAPTION'])\n"
     ]
    }
   ],
   "source": [
    "sabr_sofr_cap = pd.DataFrame([\n",
    "    [\"SOFR-1B\", 0.25, 0.083333, 0.0090,    0.5,  0.20, -0.15],\n",
    "    [\"SOFR-1B\", 0.25, 0.25,     0.0100,    0.5,  0.20, -0.15],\n",
    "    [\"SOFR-1B\", 1.00, 0.083333, 0.0110,    0.5,  0.20, -0.15],\n",
    "    [\"SOFR-1B\", 1.00, 0.25,     0.0120,    0.5,  0.20, -0.15],\n",
    "], columns=sabr_sofr.columns)\n",
    "sabr_sofr_cap[\"PRODUCT\"] = \"CAPLET\"\n",
    "\n",
    "sabr_sofr_sw = pd.DataFrame([\n",
    "    [\"SOFR-1B\",0.25,1.0,0.012,0.5,0.2,-0.1],\n",
    "    [\"SOFR-1B\",0.25,2.0,0.013,0.5,0.2,-0.1],\n",
    "    [\"SOFR-1B\",0.25,3.0,0.014,0.5,0.2,-0.1],\n",
    "    [\"SOFR-1B\",0.25,4.0,0.015,0.5,0.2,-0.1],\n",
    "    [\"SOFR-1B\",1.00,1.0,0.013,0.5,0.2,-0.1],\n",
    "    [\"SOFR-1B\",1.00,2.0,0.014,0.5,0.2,-0.1],\n",
    "    [\"SOFR-1B\",1.00,3.0,0.015,0.5,0.2,-0.1],\n",
    "    [\"SOFR-1B\",1.00,4.0,0.016,0.5,0.2,-0.1]\n",
    "], columns=[\"INDEX\",\"AXIS1\",\"AXIS2\",\"NORMALVOL\",\"BETA\",\"NU\",\"RHO\"])\n",
    "\n",
    "sabr_sofr_sw[\"PRODUCT\"] = \"SWAPTION\"\n",
    "\n",
    "full_sabr_sofr = pd.concat([sabr_sofr_cap, sabr_sofr_sw], ignore_index=True)\n",
    "\n",
    "data_objs = []\n",
    "\n",
    "for idx_name, sub in df_curve.groupby(\"INDEX\"):\n",
    "    data_objs.append(\n",
    "      Data1D.createDataObject(\"zero_rate\", idx_name, sub[[\"AXIS1\",\"VALUES\"]])\n",
    "    )\n",
    "\n",
    "for idx_name, sub in full_sabr_sofr.groupby(\"INDEX\"):\n",
    "    for param in [\"NORMALVOL\",\"BETA\",\"NU\",\"RHO\"]:\n",
    "        pivot = (\n",
    "            sub\n",
    "            .pivot(index=\"AXIS1\", columns=\"AXIS2\", values=param)\n",
    "            .sort_index(axis=0).sort_index(axis=1)\n",
    "        )\n",
    "        data_objs.append(\n",
    "          Data2D.createDataObject(param.lower(), idx_name, pivot)\n",
    "        )\n",
    "\n",
    "topdown_build_methods = []\n",
    "for product in (\"CAPLET\",\"SWAPTION\"):\n",
    "    for param in (\"NORMALVOL\",\"BETA\",\"NU\",\"RHO\"):\n",
    "        topdown_build_methods.append({\n",
    "            \"TARGET\":           \"SOFR-1B\",\n",
    "            \"VALUES\":           param,\n",
    "            \"AXIS1\":            \"AXIS1\",\n",
    "            \"AXIS2\":            \"AXIS2\",\n",
    "            \"INTERPOLATION\":    \"LINEAR\",\n",
    "            \"SHIFT\":            0.0,\n",
    "            \"VOL_DECAY_SPEED\":  0.2,\n",
    "            \"PRODUCT\":          product\n",
    "        })\n",
    "\n",
    "dc = DataCollection(data_objs)\n",
    "td_sabr = SabrModel.from_data(\n",
    "    valueDate             = valueDate,\n",
    "    dataCollection        = dc,\n",
    "    buildMethodCollection = topdown_build_methods,\n",
    "    ycData                = df_curve,\n",
    "    ycBuildMethods        = build_methods_curve\n",
    ")\n",
    "\n",
    "print(\"Top-down SABR components:\", td_sabr.components.keys())"
   ]
  },
  {
   "cell_type": "markdown",
   "id": "a9b3764e",
   "metadata": {},
   "source": [
    "## 7) Price Top-Down RFR Products\n"
   ]
  },
  {
   "cell_type": "code",
   "execution_count": 139,
   "id": "f12b5500",
   "metadata": {},
   "outputs": [
    {
     "name": "stdout",
     "output_type": "stream",
     "text": [
      "Overnight Caplet PV (top-down): ['USD', np.float64(66.45271852624181)]\n"
     ]
    }
   ],
   "source": [
    "# 7a) Overnight caplet (top-down SABR)\n",
    "caplet_ois = ProductOvernightCapFloorlet(\n",
    "    effectiveDate=\"2025-07-01\",\n",
    "    termOrEnd    =\"3M\",\n",
    "    index        =\"SOFR-1B\",\n",
    "    compounding  =\"COMPOUND\",\n",
    "    optionType   =\"CAP\",\n",
    "    strike       =0.018,\n",
    "    notional     =1_000_000,\n",
    "    longOrShort  =\"LONG\"\n",
    ")\n",
    "\n",
    "ve3 = ValuationEngineRegistry().new_valuation_engine(\n",
    "    td_sabr,\n",
    "    {\"SABR_METHOD\":\"top-down\"},\n",
    "    caplet_ois\n",
    ")\n",
    "ve3.calculateValue()\n",
    "print(\"Overnight Caplet PV (top-down):\", ve3.value)"
   ]
  },
  {
   "cell_type": "markdown",
   "id": "a655b7ff",
   "metadata": {},
   "source": [
    "## 8) Valuation: Overnight Cap/Floor Wrapper\n"
   ]
  },
  {
   "cell_type": "code",
   "execution_count": 140,
   "id": "c7da2e32",
   "metadata": {},
   "outputs": [
    {
     "name": "stdout",
     "output_type": "stream",
     "text": [
      "Overnight Cap/Floor PV: ['USD', np.float64(-15124.237191922715)]\n"
     ]
    }
   ],
   "source": [
    "ois_cap = ProductOvernightCapFloor(\n",
    "    effectiveDate=\"2025-07-01\",\n",
    "    maturityDate =\"2026-07-01\",\n",
    "    frequency    =\"3M\",\n",
    "    index        =\"SOFR-1B\",\n",
    "    compounding  =\"COMPOUND\",\n",
    "    optionType   =\"FLOOR\",\n",
    "    strike       =0.016,\n",
    "    notional     =1000000,\n",
    "    longOrShort  =\"SHORT\"\n",
    ")\n",
    "\n",
    "ve = ValuationEngineRegistry().new_valuation_engine(\n",
    "    td_sabr,\n",
    "    {\"SABR_METHOD\": \"top-down\"},\n",
    "    ois_cap\n",
    ")\n",
    "ve.calculateValue()\n",
    "print(\"Overnight Cap/Floor PV:\", ve.value)\n"
   ]
  },
  {
   "cell_type": "markdown",
   "id": "b59a2017",
   "metadata": {},
   "source": [
    "# 8) Price RFR caplets using bottom-up SABR"
   ]
  },
  {
   "cell_type": "code",
   "execution_count": 141,
   "id": "8e2a1fc3",
   "metadata": {},
   "outputs": [],
   "source": [
    "corr_data = [\n",
    "    [0.25, 0.25, 0.80],\n",
    "    [0.25, 0.50, 0.78],\n",
    "    [0.25, 1.00, 0.75],\n",
    "    [1.00, 0.25, 0.78],\n",
    "    [1.00, 0.50, 0.76],\n",
    "    [1.00, 1.00, 0.74],\n",
    "]\n",
    "df_corr = pd.DataFrame(corr_data, columns=[\"EXPIRY\",\"TENOR\",\"CORR\"])\n",
    "df_corr[\"INDEX\"] = \"SOFR-1B\""
   ]
  },
  {
   "cell_type": "code",
   "execution_count": 142,
   "id": "46bb5a13",
   "metadata": {},
   "outputs": [],
   "source": [
    "bu_objs = []\n",
    "corr_pivot = (\n",
    "    df_corr\n",
    "    .pivot(index=\"EXPIRY\", columns=\"TENOR\", values=\"CORR\")\n",
    "    .sort_index(axis=0).sort_index(axis=1)\n",
    ")\n",
    "bu_objs.append(\n",
    "    Data2D.createDataObject(\"corr\", \"SOFR-1B\", corr_pivot)\n",
    ")"
   ]
  },
  {
   "cell_type": "code",
   "execution_count": 143,
   "id": "b89f5865",
   "metadata": {},
   "outputs": [],
   "source": [
    "one_bd = 1.0/252\n",
    "\n",
    "sabr_sofr_1bd = pd.DataFrame([\n",
    "    [\"SOFR-1B\", 0.25,  one_bd,  0.0095,    0.50, 0.20, -0.15],\n",
    "    [\"SOFR-1B\", 0.50,  one_bd,  0.0100,    0.50, 0.20, -0.15],\n",
    "    [\"SOFR-1B\", 1.00,  one_bd,  0.0105,    0.50, 0.20, -0.15],\n",
    "    [\"SOFR-1B\", 2.00,  one_bd,  0.0110,    0.50, 0.20, -0.15]\n",
    "], columns=[\"INDEX\",\"AXIS1\",\"AXIS2\",\"NORMALVOL\",\"BETA\",\"NU\",\"RHO\"])\n",
    "\n",
    "for idx_name, sub in df_curve.groupby(\"INDEX\"):\n",
    "    bu_objs.append(\n",
    "        Data1D.createDataObject(\"zero_rate\", idx_name, sub[[\"AXIS1\",\"VALUES\"]])\n",
    "    )\n",
    "\n",
    "for idx_name, sub in sabr_sofr_1bd.groupby(\"INDEX\"):\n",
    "    for param in [\"NORMALVOL\",\"BETA\",\"NU\",\"RHO\"]:\n",
    "        pivot = (\n",
    "            sub\n",
    "            .pivot(index=\"AXIS1\", columns=\"AXIS2\", values=param)\n",
    "            .sort_index(axis=0).sort_index(axis=1)\n",
    "        )\n",
    "        bu_objs.append(\n",
    "            Data2D.createDataObject(\n",
    "                data_type       = param.lower(),\n",
    "                data_convention = idx_name,\n",
    "                df              = pivot\n",
    "            )\n",
    "        )"
   ]
  },
  {
   "cell_type": "code",
   "execution_count": 144,
   "id": "31f40bb6",
   "metadata": {},
   "outputs": [
    {
     "name": "stdout",
     "output_type": "stream",
     "text": [
      "Bottom-up 1BD‐tenor SABR components: dict_keys(['SOFR-1B-NORMALVOL', 'SOFR-1B-BETA', 'SOFR-1B-NU', 'SOFR-1B-RHO'])\n"
     ]
    }
   ],
   "source": [
    "bottom_up_build_methods_sofr = []\n",
    "for param in (\"NORMALVOL\",\"BETA\",\"NU\",\"RHO\"):\n",
    "    bottom_up_build_methods_sofr.append({\n",
    "      \"TARGET\":          \"SOFR-1B\",\n",
    "      \"VALUES\":          param,\n",
    "      \"INTERPOLATION\":   \"LINEAR\",\n",
    "      \"SHIFT\":           0.0,\n",
    "      \"VOL_DECAY_SPEED\": 0.2\n",
    "    })\n",
    "\n",
    "dc = DataCollection(bu_objs)\n",
    "bottom_up_sofr_sabr = SabrModel.from_curve(\n",
    "    valueDate,\n",
    "    dc,\n",
    "    bottom_up_build_methods_sofr,\n",
    "    yc\n",
    ")\n",
    "print(\"Bottom-up 1BD‐tenor SABR components:\", bottom_up_sofr_sabr.components.keys())\n"
   ]
  },
  {
   "cell_type": "code",
   "execution_count": 145,
   "id": "9fcf502a",
   "metadata": {},
   "outputs": [
    {
     "name": "stdout",
     "output_type": "stream",
     "text": [
      "Overnight Caplet PV (bottom-up): ['USD', np.float64(2.0804611554277008e-32)]\n"
     ]
    }
   ],
   "source": [
    "caplet_bu = ProductOvernightCapFloorlet(\n",
    "    effectiveDate=\"2025-07-01\",\n",
    "    termOrEnd    =\"3M\",\n",
    "    index        =\"SOFR-1B\",\n",
    "    compounding  =\"COMPOUND\",\n",
    "    optionType   =\"CAP\",\n",
    "    strike       =0.018,\n",
    "    notional     =1_000_000,\n",
    "    longOrShort  =\"LONG\"\n",
    ")\n",
    "ve_bu_cap = ValuationEngineRegistry().new_valuation_engine(\n",
    "    bottom_up_sofr_sabr,\n",
    "    {\"SABR_METHOD\":\"bottom-up\", \"CORR_DF\": df_corr},\n",
    "    caplet_bu\n",
    ")\n",
    "ve_bu_cap.calculateValue()\n",
    "print(\"Overnight Caplet PV (bottom-up):\", ve_bu_cap.value)\n"
   ]
  },
  {
   "cell_type": "code",
   "execution_count": 146,
   "id": "7dd1e2c2",
   "metadata": {},
   "outputs": [
    {
     "name": "stdout",
     "output_type": "stream",
     "text": [
      "Overnight Cap PV (bottom-up): ['USD', np.float64(2.635442270532238)]\n"
     ]
    }
   ],
   "source": [
    "ois_cap = ProductOvernightCapFloor(\n",
    "    effectiveDate=\"2025-07-01\",\n",
    "    maturityDate =\"2026-07-01\",\n",
    "    frequency    =\"3M\",\n",
    "    index        =\"SOFR-1B\",\n",
    "    compounding  =\"COMPOUND\",\n",
    "    optionType   =\"CAP\",\n",
    "    strike       =0.018,\n",
    "    notional     =1_000_000,\n",
    "    longOrShort  =\"LONG\"\n",
    ")\n",
    "\n",
    "ve = ValuationEngineRegistry().new_valuation_engine(\n",
    "    bottom_up_sofr_sabr,\n",
    "    {\"SABR_METHOD\":\"bottom-up\", \"CORR_DF\": df_corr},\n",
    "    ois_cap\n",
    ")\n",
    "ve.calculateValue()\n",
    "print(\"Overnight Cap PV (bottom-up):\", ve.value)"
   ]
  }
 ],
 "metadata": {
  "kernelspec": {
   "display_name": "Python 3",
   "language": "python",
   "name": "python3"
  },
  "language_info": {
   "codemirror_mode": {
    "name": "ipython",
    "version": 3
   },
   "file_extension": ".py",
   "mimetype": "text/x-python",
   "name": "python",
   "nbconvert_exporter": "python",
   "pygments_lexer": "ipython3",
   "version": "3.12.5"
  }
 },
 "nbformat": 4,
 "nbformat_minor": 5
}

{
 "cells": [
  {
   "cell_type": "markdown",
   "id": "78821aeb",
   "metadata": {},
   "source": [
    "# Testing Non-Linear Products Valuation\n",
    "\n",
    "This notebook walks through:\n",
    "\n",
    "1. Loading historical index fixings  \n",
    "2. Building a simple two-index yield curve  \n",
    "3. Building a dummy SABR volatility surface  \n",
    "4. Valuing non-linear products:\n",
    "   - IBOR caplet  \n",
    "   - Overnight caplet  \n",
    "   - IBOR cap/floor wrapper  \n",
    "   - Overnight cap/floor wrapper  \n",
    "   - IBOR swaption  \n",
    "   - Overnight swaption  "
   ]
  },
  {
   "cell_type": "markdown",
   "id": "c1f4325d",
   "metadata": {},
   "source": [
    "# 1. Imports & Setup"
   ]
  },
  {
   "cell_type": "code",
   "execution_count": 1,
   "id": "e8777c27",
   "metadata": {},
   "outputs": [
    {
     "name": "stdout",
     "output_type": "stream",
     "text": [
      "Added to sys.path: c:\\Users\\neels\\OneDrive\\Desktop\\Capstone_Project\\FixedIncomeLib\n",
      "Setup complete.\n"
     ]
    }
   ],
   "source": [
    "import sys, os\n",
    "\n",
    "repo_root = os.path.abspath(os.path.join(os.getcwd(), \"..\"))\n",
    "if repo_root not in sys.path:\n",
    "    sys.path.insert(0, repo_root)\n",
    "\n",
    "print(\"Added to sys.path:\", repo_root)\n",
    "\n",
    "import pandas as pd\n",
    "from yield_curve import YieldCurve\n",
    "from sabr import SabrModel\n",
    "from valuation import IndexManager\n",
    "from valuation import ValuationEngineRegistry\n",
    "from product import (\n",
    "    ProductIborCapFloorlet,\n",
    "    ProductOvernightCapFloorlet,\n",
    "    ProductIborCapFloor,\n",
    "    ProductOvernightCapFloor,\n",
    "    ProductIborSwaption,\n",
    "    ProductOvernightSwaption\n",
    ")\n",
    "from analytics import SABRCalculator\n",
    "print(\"Setup complete.\")\n"
   ]
  },
  {
   "cell_type": "markdown",
   "id": "c300b3a8",
   "metadata": {},
   "source": [
    "## 2) Load Index Fixings\n",
    "\n",
    "On first call, `IndexManager.instance()` will read **`fixing/fixings.csv`** and populate its in-memory registry."
   ]
  },
  {
   "cell_type": "code",
   "execution_count": 2,
   "id": "4f1c62a0",
   "metadata": {},
   "outputs": [
    {
     "name": "stdout",
     "output_type": "stream",
     "text": [
      "Loaded indices: ['SOFR-1B', 'USD-LIBOR-3M', 'SONIA-1B']\n"
     ]
    }
   ],
   "source": [
    "mgr = IndexManager.instance()\n",
    "print(\"Loaded indices:\", list(mgr._fixings.keys()))\n"
   ]
  },
  {
   "cell_type": "markdown",
   "id": "0e18f060",
   "metadata": {},
   "source": [
    "## 3) Build Dummy Yield Curve\n",
    "\n",
    "We use two indices (SOFR-1B and USD-LIBOR-BBA-1M) with piecewise-constant interpolation.\n"
   ]
  },
  {
   "cell_type": "code",
   "execution_count": 3,
   "id": "5c95c904",
   "metadata": {},
   "outputs": [
    {
     "name": "stdout",
     "output_type": "stream",
     "text": [
      "YieldCurve built. Components: dict_keys(['SOFR-1B', 'USD-LIBOR-BBA-1M'])\n"
     ]
    }
   ],
   "source": [
    "curve_data = [\n",
    "    [\"SOFR-1B\",          \"1M\", 0.0020],\n",
    "    [\"SOFR-1B\",          \"3M\", 0.0025],\n",
    "    [\"USD-LIBOR-BBA-1M\", \"1M\", 0.0030],\n",
    "    [\"USD-LIBOR-BBA-1M\", \"3M\", 0.0035]\n",
    "]\n",
    "df_curve = pd.DataFrame(curve_data, columns=[\"INDEX\",\"AXIS1\",\"VALUES\"])\n",
    "\n",
    "build_methods_curve = [\n",
    "    {\"TARGET\":\"SOFR-1B\",           \"INTERPOLATION METHOD\":\"PIECEWISE_CONSTANT\"},\n",
    "    {\"TARGET\":\"USD-LIBOR-BBA-1M\",  \"INTERPOLATION METHOD\":\"PIECEWISE_CONSTANT\"}\n",
    "]\n",
    "\n",
    "valueDate = \"2025-06-26\"\n",
    "\n",
    "yc = YieldCurve(valueDate, df_curve, build_methods_curve)\n",
    "print(\"YieldCurve built. Components:\", yc.components.keys())\n"
   ]
  },
  {
   "cell_type": "markdown",
   "id": "7e9e9b70",
   "metadata": {},
   "source": [
    "## 4) Build Dummy SABR Model\n",
    "\n",
    "We’ll calibrate a flat SABR surface for USD-LIBOR-BBA-1M so that our caplets can be priced."
   ]
  },
  {
   "cell_type": "code",
   "execution_count": 4,
   "id": "1179a20c",
   "metadata": {},
   "outputs": [
    {
     "name": "stdout",
     "output_type": "stream",
     "text": [
      "SabrModel initialized. Components: dict_keys(['USD-LIBOR-BBA-1M-NORMALVOL', 'USD-LIBOR-BBA-1M-BETA', 'USD-LIBOR-BBA-1M-NU', 'USD-LIBOR-BBA-1M-RHO', 'SOFR-1B-NORMALVOL', 'SOFR-1B-BETA', 'SOFR-1B-NU', 'SOFR-1B-RHO'])\n"
     ]
    }
   ],
   "source": [
    "sabr_libor = pd.DataFrame([\n",
    "    [\"USD-LIBOR-BBA-1M\", 0.25, 0.25, 0.015, 0.5, 0.2, -0.3],\n",
    "    [\"USD-LIBOR-BBA-1M\", 0.25, 1.00, 0.017, 0.5, 0.2, -0.3],\n",
    "    [\"USD-LIBOR-BBA-1M\", 1.00, 0.25, 0.018, 0.5, 0.2, -0.3],\n",
    "    [\"USD-LIBOR-BBA-1M\", 1.00, 1.00, 0.020, 0.5, 0.2, -0.3],\n",
    "], columns=[\"INDEX\",\"AXIS1\",\"AXIS2\",\"NORMALVOL\",\"BETA\",\"NU\",\"RHO\"])\n",
    "\n",
    "sabr_sofr = pd.DataFrame([\n",
    "    [\"SOFR-1B\", 0.25, 0.25, 0.010, 0.5, 0.2, -0.1],\n",
    "    [\"SOFR-1B\", 0.25, 1.00, 0.012, 0.5, 0.2, -0.1],\n",
    "    [\"SOFR-1B\", 1.00, 0.25, 0.013, 0.5, 0.2, -0.1],\n",
    "    [\"SOFR-1B\", 1.00, 1.00, 0.015, 0.5, 0.2, -0.1],\n",
    "], columns=sabr_libor.columns)\n",
    "\n",
    "sabr_data = pd.concat([sabr_libor, sabr_sofr], ignore_index=True)\n",
    "\n",
    "build_methods_sabr = []\n",
    "for idx in (\"USD-LIBOR-BBA-1M\", \"SOFR-1B\"):\n",
    "    for param in (\"NORMALVOL\",\"BETA\",\"NU\",\"RHO\"):\n",
    "        build_methods_sabr.append({\n",
    "            \"TARGET\":        idx,\n",
    "            \"AXIS1\":         \"AXIS1\",\n",
    "            \"AXIS2\":         \"AXIS2\",\n",
    "            \"VALUES\":        param,\n",
    "            \"INTERPOLATION\": \"LINEAR\",\n",
    "            \"SHIFT\": 0.0,\n",
    "            \"VOL_DECAY_SPEED\":  0.2\n",
    "        })\n",
    "\n",
    "sabr = SabrModel(\n",
    "    valueDate,\n",
    "    sabr_data,\n",
    "    build_methods_sabr,\n",
    "    yc\n",
    ")\n",
    "\n",
    "print(\"SabrModel initialized. Components:\", sabr.components.keys())\n"
   ]
  },
  {
   "cell_type": "markdown",
   "id": "73db23c2",
   "metadata": {},
   "source": [
    "## 5) Valuation: IBOR Caplet\n"
   ]
  },
  {
   "cell_type": "code",
   "execution_count": 5,
   "id": "fa928ba6",
   "metadata": {},
   "outputs": [
    {
     "name": "stdout",
     "output_type": "stream",
     "text": [
      "IBOR Caplet PV: ['USD', np.float64(4.688928821898315e-06)]\n"
     ]
    }
   ],
   "source": [
    "caplet_ibor = ProductIborCapFloorlet(\n",
    "    startDate   =\"2025-07-01\",\n",
    "    endDate     =\"2025-10-01\",\n",
    "    index       =\"USD-LIBOR-BBA-1M\",\n",
    "    optionType  =\"CAP\",\n",
    "    strike      =0.02,\n",
    "    notional    =1000000,\n",
    "    longOrShort =\"LONG\"\n",
    ")\n",
    "\n",
    "ve = ValuationEngineRegistry().new_valuation_engine(\n",
    "    sabr,\n",
    "    {\"SABR_METHOD\": None},\n",
    "    caplet_ibor\n",
    ")\n",
    "ve.calculateValue()\n",
    "print(\"IBOR Caplet PV:\", ve.value)\n"
   ]
  },
  {
   "cell_type": "markdown",
   "id": "b2b7adc1",
   "metadata": {},
   "source": [
    "## 6) Valuation: Overnight Caplet\n"
   ]
  },
  {
   "cell_type": "code",
   "execution_count": 6,
   "id": "546d7e9e",
   "metadata": {},
   "outputs": [
    {
     "name": "stdout",
     "output_type": "stream",
     "text": [
      "Overnight Caplet PV: ['USD', np.float64(71.36815634520575)]\n"
     ]
    }
   ],
   "source": [
    "caplet_ois = ProductOvernightCapFloorlet(\n",
    "    effectiveDate=\"2025-07-01\",\n",
    "    termOrEnd    =\"3M\",\n",
    "    index        =\"SOFR-1B\",\n",
    "    compounding  =\"COMPOUND\",\n",
    "    optionType   =\"CAP\",\n",
    "    strike       =0.018,\n",
    "    notional     =1000000,\n",
    "    longOrShort  =\"LONG\"\n",
    ")\n",
    "\n",
    "ve = ValuationEngineRegistry().new_valuation_engine(\n",
    "    sabr,\n",
    "    {\"SABR_METHOD\": \"top-down\"},\n",
    "    caplet_ois\n",
    ")\n",
    "ve.calculateValue()\n",
    "print(\"Overnight Caplet PV:\", ve.value)\n"
   ]
  },
  {
   "cell_type": "markdown",
   "id": "a9b3764e",
   "metadata": {},
   "source": [
    "## 7) Valuation: IBOR Cap/Floor Wrapper\n"
   ]
  },
  {
   "cell_type": "code",
   "execution_count": 7,
   "id": "f12b5500",
   "metadata": {},
   "outputs": [
    {
     "name": "stdout",
     "output_type": "stream",
     "text": [
      "IBOR Cap/Floor PV: ['USD', np.float64(-31447.41769360504)]\n"
     ]
    }
   ],
   "source": [
    "cap = ProductIborCapFloor(\n",
    "    effectiveDate=\"2025-07-01\",\n",
    "    maturityDate =\"2026-07-01\",\n",
    "    frequency    =\"3M\",\n",
    "    index        =\"USD-LIBOR-BBA-1M\",\n",
    "    optionType   =\"FLOOR\",\n",
    "    strike       =0.017,\n",
    "    notional     =2_000_000,\n",
    "    longOrShort  =\"SHORT\"\n",
    ")\n",
    "\n",
    "ve = ValuationEngineRegistry().new_valuation_engine(\n",
    "    sabr,\n",
    "    {\"SABR_METHOD\": None},\n",
    "    cap\n",
    ")\n",
    "ve.calculateValue()\n",
    "print(\"IBOR Cap/Floor PV:\", ve.value)\n"
   ]
  },
  {
   "cell_type": "markdown",
   "id": "a655b7ff",
   "metadata": {},
   "source": [
    "## 8) Valuation: Overnight Cap/Floor Wrapper\n"
   ]
  },
  {
   "cell_type": "code",
   "execution_count": 8,
   "id": "c7da2e32",
   "metadata": {},
   "outputs": [
    {
     "name": "stdout",
     "output_type": "stream",
     "text": [
      "Overnight Cap/Floor PV: ['USD', np.float64(-14886.439304164971)]\n"
     ]
    }
   ],
   "source": [
    "ois_cap = ProductOvernightCapFloor(\n",
    "    effectiveDate=\"2025-07-01\",\n",
    "    maturityDate =\"2026-07-01\",\n",
    "    frequency    =\"3M\",\n",
    "    index        =\"SOFR-1B\",\n",
    "    compounding  =\"COMPOUND\",\n",
    "    optionType   =\"FLOOR\",\n",
    "    strike       =0.016,\n",
    "    notional     =1000000,\n",
    "    longOrShort  =\"SHORT\"\n",
    ")\n",
    "\n",
    "ve = ValuationEngineRegistry().new_valuation_engine(\n",
    "    sabr,\n",
    "    {\"SABR_METHOD\": None},\n",
    "    ois_cap\n",
    ")\n",
    "ve.calculateValue()\n",
    "print(\"Overnight Cap/Floor PV:\", ve.value)\n"
   ]
  },
  {
   "cell_type": "markdown",
   "id": "13db93d7",
   "metadata": {},
   "source": [
    "## 9) Valuation: IBOR Swaption\n"
   ]
  },
  {
   "cell_type": "code",
   "execution_count": 9,
   "id": "2b3b57fc",
   "metadata": {},
   "outputs": [
    {
     "name": "stdout",
     "output_type": "stream",
     "text": [
      "IBOR Swaption PV: ['USD', np.float64(17064241489.76993)]\n"
     ]
    }
   ],
   "source": [
    "swaption_ibor = ProductIborSwaption(\n",
    "    optionExpiry=\"2025-12-01\",\n",
    "    swapStart   =\"2026-01-01\",\n",
    "    swapEnd     =\"2031-01-01\",\n",
    "    frequency   =\"3M\",\n",
    "    iborIndex   =\"USD-LIBOR-BBA-1M\",\n",
    "    strikeRate  =0.0175,\n",
    "    notional    =1000000,\n",
    "    longOrShort =\"LONG\",\n",
    "    optionType  =\"PAYER\"\n",
    ")\n",
    "\n",
    "ve = ValuationEngineRegistry().new_valuation_engine(\n",
    "    sabr,\n",
    "    {\"SABR_METHOD\": None},\n",
    "    swaption_ibor\n",
    ")\n",
    "ve.calculateValue()\n",
    "print(\"IBOR Swaption PV:\", ve.value)"
   ]
  },
  {
   "cell_type": "markdown",
   "id": "eb5a25d5",
   "metadata": {},
   "source": [
    "## 10) Valuation: Overnight Swaption\n"
   ]
  },
  {
   "cell_type": "code",
   "execution_count": 10,
   "id": "8e71b1a0",
   "metadata": {},
   "outputs": [
    {
     "name": "stdout",
     "output_type": "stream",
     "text": [
      "Overnight Swaption PV: ['USD', np.float64(20316412353.452965)]\n"
     ]
    }
   ],
   "source": [
    "swaption_ois = ProductOvernightSwaption(\n",
    "    optionExpiry  =\"2025-10-01\",\n",
    "    swapStart     =\"2025-11-01\",\n",
    "    swapEnd       =\"2027-11-01\",\n",
    "    frequency     =\"1M\",\n",
    "    overnightIndex=\"SOFR-1B\",\n",
    "    strikeRate    =0.01,\n",
    "    notional      =500000,\n",
    "    longOrShort   =\"SHORT\",\n",
    "    optionType    =\"PAYER\"\n",
    ")\n",
    "\n",
    "ve = ValuationEngineRegistry().new_valuation_engine(\n",
    "    sabr,\n",
    "    {\"SABR_METHOD\": \"top-down\"},\n",
    "    swaption_ois\n",
    ")\n",
    "ve.calculateValue()\n",
    "print(\"Overnight Swaption PV:\", ve.value)\n"
   ]
  }
 ],
 "metadata": {
  "kernelspec": {
   "display_name": "Python 3",
   "language": "python",
   "name": "python3"
  },
  "language_info": {
   "codemirror_mode": {
    "name": "ipython",
    "version": 3
   },
   "file_extension": ".py",
   "mimetype": "text/x-python",
   "name": "python",
   "nbconvert_exporter": "python",
   "pygments_lexer": "ipython3",
   "version": "3.12.5"
  }
 },
 "nbformat": 4,
 "nbformat_minor": 5
}

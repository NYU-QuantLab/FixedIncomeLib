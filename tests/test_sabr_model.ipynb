{
 "cells": [
  {
   "cell_type": "markdown",
   "id": "e0f7d623",
   "metadata": {},
   "source": [
    "# FixedIncomeLib SABR Model Testing Notebook\n",
    "This notebook exercises the `SabrModel` class by:\n",
    "1. Building a dummy SABR volatility surface for a single index.\n",
    "2. Interpolating volatilities at various expiry/tenor grid points.\n",
    "---"
   ]
  },
  {
   "cell_type": "code",
   "execution_count": 21,
   "id": "e56e7b28",
   "metadata": {},
   "outputs": [
    {
     "name": "stdout",
     "output_type": "stream",
     "text": [
      "Added to sys.path: c:\\Users\\neels\\OneDrive\\Desktop\\Capstone_Project\\FixedIncomeLib\n"
     ]
    }
   ],
   "source": [
    "import sys, os\n",
    "\n",
    "# compute the parent of tests → FixedIncomeLib\n",
    "repo_root = os.path.abspath(os.path.join(os.getcwd(), \"..\"))\n",
    "if repo_root not in sys.path:\n",
    "    sys.path.insert(0, repo_root)\n",
    "\n",
    "print(\"Added to sys.path:\", repo_root)"
   ]
  },
  {
   "cell_type": "code",
   "execution_count": 22,
   "id": "b56d3448",
   "metadata": {},
   "outputs": [],
   "source": [
    "import pandas as pd\n",
    "from sabr import SabrModel\n",
    "from yield_curve import YieldCurve"
   ]
  },
  {
   "cell_type": "markdown",
   "id": "0222b931",
   "metadata": {},
   "source": [
    "2. Dummy Yield Curve for subModel (flat rates)\n",
    "We build a simple flat curve to satisfy SabrModel's subModel requirement."
   ]
  },
  {
   "cell_type": "code",
   "execution_count": 23,
   "id": "3ee62a9e",
   "metadata": {},
   "outputs": [
    {
     "name": "stdout",
     "output_type": "stream",
     "text": [
      "YieldCurve built successfully.\n"
     ]
    }
   ],
   "source": [
    "yc_data = pd.DataFrame([\n",
    "    ['SOFR-1B', '1M', 0.0020],\n",
    "    ['SOFR-1B', '3M', 0.0025],\n",
    "    ['USD-LIBOR-BBA-3M', '1M', 0.0020],\n",
    "    ['USD-LIBOR-BBA-3M', '3M', 0.0025],\n",
    "], columns=['INDEX','AXIS1','VALUES'])\n",
    "yc_build = [\n",
    "    {'TARGET': 'SOFR-1B',          'INTERPOLATION METHOD': 'PIECEWISE_CONSTANT'},\n",
    "    {'TARGET': 'USD-LIBOR-BBA-3M', 'INTERPOLATION METHOD': 'PIECEWISE_CONSTANT'},\n",
    "]\n",
    "\n",
    "valueDate = \"2025-06-26\"\n",
    "yc = YieldCurve(valueDate, yc_data, yc_build)\n",
    "print(\"YieldCurve built successfully.\")"
   ]
  },
  {
   "cell_type": "markdown",
   "id": "ce8c33e7",
   "metadata": {},
   "source": [
    "3. Dummy SABR Data\n",
    "Columns: INDEX, EXPIRY (years), TENOR (years), NORMALVOL, BETA, NU, RHO"
   ]
  },
  {
   "cell_type": "code",
   "execution_count": 24,
   "id": "ea9dc648",
   "metadata": {},
   "outputs": [],
   "source": [
    "sabr_data = pd.DataFrame([\n",
    "    ['USD-LIBOR-BBA-3M', 1.0, 0.25, 0.010, 0.5, 0.2, -0.3],\n",
    "    ['USD-LIBOR-BBA-3M', 1.0, 0.50, 0.011, 0.5, 0.2, -0.3],\n",
    "    ['USD-LIBOR-BBA-3M', 2.0, 0.25, 0.012, 0.5, 0.2, -0.3],\n",
    "    ['USD-LIBOR-BBA-3M', 2.0, 0.50, 0.013, 0.5, 0.2, -0.3],\n",
    "], columns=['INDEX','AXIS1','AXIS2','NORMALVOL','BETA','NU','RHO'])"
   ]
  },
  {
   "cell_type": "code",
   "execution_count": 25,
   "id": "2fff2bb2",
   "metadata": {},
   "outputs": [
    {
     "name": "stdout",
     "output_type": "stream",
     "text": [
      "Build methods for all SABR params set.\n"
     ]
    }
   ],
   "source": [
    "build_methods = [\n",
    "    {\n",
    "        'TARGET':       'USD-LIBOR-BBA-3M',\n",
    "        'AXIS1':        'AXIS1',\n",
    "        'AXIS2':        'AXIS2',\n",
    "        'VALUES':       'NORMALVOL',\n",
    "        'INTERPOLATION':'LINEAR',\n",
    "    },\n",
    "    {\n",
    "        'TARGET':       'USD-LIBOR-BBA-3M',\n",
    "        'AXIS1':        'AXIS1',\n",
    "        'AXIS2':        'AXIS2',\n",
    "        'VALUES':       'BETA',\n",
    "        'INTERPOLATION':'LINEAR',\n",
    "    },\n",
    "    {\n",
    "        'TARGET':       'USD-LIBOR-BBA-3M',\n",
    "        'AXIS1':        'AXIS1',\n",
    "        'AXIS2':        'AXIS2',\n",
    "        'VALUES':       'NU',\n",
    "        'INTERPOLATION':'LINEAR',\n",
    "    },\n",
    "    {\n",
    "        'TARGET':       'USD-LIBOR-BBA-3M',\n",
    "        'AXIS1':        'AXIS1',\n",
    "        'AXIS2':        'AXIS2',\n",
    "        'VALUES':       'RHO',\n",
    "        'INTERPOLATION':'LINEAR',\n",
    "    },\n",
    "]\n",
    "print(\"Build methods for all SABR params set.\")\n"
   ]
  },
  {
   "cell_type": "code",
   "execution_count": 26,
   "id": "85dc0257",
   "metadata": {},
   "outputs": [
    {
     "name": "stdout",
     "output_type": "stream",
     "text": [
      "SabrModel initialized and calibrated.\n"
     ]
    }
   ],
   "source": [
    "sabr = SabrModel(valueDate, sabr_data, build_methods, yc, shift=0.0)\n",
    "print(\"SabrModel initialized and calibrated.\")"
   ]
  },
  {
   "cell_type": "code",
   "execution_count": 27,
   "id": "c15523ef",
   "metadata": {},
   "outputs": [
    {
     "name": "stdout",
     "output_type": "stream",
     "text": [
      "Registered SABR components: ['USD-LIBOR-BBA-3M-NORMALVOL', 'USD-LIBOR-BBA-3M-BETA', 'USD-LIBOR-BBA-3M-NU', 'USD-LIBOR-BBA-3M-RHO']\n"
     ]
    }
   ],
   "source": [
    "print(\"Registered SABR components:\", list(sabr.components.keys()))"
   ]
  },
  {
   "cell_type": "code",
   "execution_count": 28,
   "id": "1cc8df18",
   "metadata": {},
   "outputs": [
    {
     "name": "stdout",
     "output_type": "stream",
     "text": [
      "--- SABR Volatility Interpolation ---\n",
      "Expiry=1.0y, Tenor=0.25y → Vol = 1.0000%\n",
      "Expiry=1.0y, Tenor=0.5y → Vol = 1.1000%\n",
      "Expiry=2.0y, Tenor=0.25y → Vol = 1.2000%\n",
      "Expiry=2.0y, Tenor=0.5y → Vol = 1.3000%\n"
     ]
    }
   ],
   "source": [
    "grid = [(1.0, 0.25), (1.0, 0.50), (2.0, 0.25), (2.0, 0.50)]\n",
    "print(\"--- SABR Volatility Interpolation ---\")\n",
    "for expiry, tenor in grid:\n",
    "    normalvol, beta, nu, rho = sabr.get_sabr_parameters(\n",
    "        \"USD-LIBOR-BBA-3M\",\n",
    "        expiry,\n",
    "        tenor\n",
    "    )\n",
    "    print(f\"Expiry={expiry}y, Tenor={tenor}y → Vol = {normalvol:.4%}\")\n"
   ]
  },
  {
   "cell_type": "code",
   "execution_count": 29,
   "id": "f442ffad",
   "metadata": {},
   "outputs": [
    {
     "name": "stdout",
     "output_type": "stream",
     "text": [
      "--- Off-Grid SABR Volatility Interpolation ---\n",
      "Expiry=1.500y, Tenor=0.250y → Vol = 1.1000%\n",
      "Expiry=1.000y, Tenor=0.375y → Vol = 1.0500%\n",
      "Expiry=1.500y, Tenor=0.375y → Vol = 1.1500%\n"
     ]
    }
   ],
   "source": [
    "print(\"--- Off-Grid SABR Volatility Interpolation ---\")\n",
    "off_grid = [\n",
    "    (1.5, 0.25),\n",
    "    (1.0, 0.375),\n",
    "    (1.5, 0.375)\n",
    "]\n",
    "target = \"USD-LIBOR-BBA-3M\"\n",
    "for expiry, tenor in off_grid:\n",
    "    normalvol, beta, nu, rho = sabr.get_sabr_parameters(target, expiry, tenor)\n",
    "    print(f\"Expiry={expiry:>4.3f}y, Tenor={tenor:>5.3f}y → Vol = {normalvol:.4%}\")"
   ]
  },
  {
   "cell_type": "code",
   "execution_count": 30,
   "id": "c1918e7f",
   "metadata": {},
   "outputs": [
    {
     "name": "stdout",
     "output_type": "stream",
     "text": [
      "=== SABR Model via from_curve (prebuilt YieldCurve) ===\n",
      "[from_curve] Expiry=1.5, Tenor=0.375 → Vol=1.1500%\n",
      "[from_curve] Expiry=2.0, Tenor=0.5 → Vol=1.3000%\n",
      "\n",
      "=== SABR Model via from_data (raw YC data & build methods) ===\n",
      "[from_data ] Expiry=1.5, Tenor=0.375 → Vol=1.1500%\n",
      "[from_data ] Expiry=2.0, Tenor=0.5 → Vol=1.3000%\n"
     ]
    }
   ],
   "source": [
    "print(\"=== SABR Model via from_curve (prebuilt YieldCurve) ===\")\n",
    "sabr_a = SabrModel.from_curve(\n",
    "    valueDate,\n",
    "    sabr_data,\n",
    "    build_methods,\n",
    "    yc,          # prebuilt YieldCurve\n",
    "    shift=0.0\n",
    ")\n",
    "for expiry, tenor in [(1.5,0.375), (2.0,0.5)]:\n",
    "    vol = sabr_a.get_sabr_parameters(\"USD-LIBOR-BBA-3M\", expiry, tenor)[0]\n",
    "    print(f\"[from_curve] Expiry={expiry}, Tenor={tenor} → Vol={vol:.4%}\")\n",
    "\n",
    "print(\"\\n=== SABR Model via from_data (raw YC data & build methods) ===\")\n",
    "sabr_b = SabrModel.from_data(\n",
    "    valueDate,\n",
    "    sabr_data,\n",
    "    build_methods,\n",
    "    yc_data,\n",
    "    yc_build,\n",
    "    shift=0.0\n",
    ")\n",
    "for expiry, tenor in [(1.5,0.375), (2.0,0.5)]:\n",
    "    vol = sabr_b.get_sabr_parameters(\"USD-LIBOR-BBA-3M\", expiry, tenor)[0]\n",
    "    print(f\"[from_data ] Expiry={expiry}, Tenor={tenor} → Vol={vol:.4%}\")\n"
   ]
  }
 ],
 "metadata": {
  "kernelspec": {
   "display_name": "Python 3",
   "language": "python",
   "name": "python3"
  },
  "language_info": {
   "codemirror_mode": {
    "name": "ipython",
    "version": 3
   },
   "file_extension": ".py",
   "mimetype": "text/x-python",
   "name": "python",
   "nbconvert_exporter": "python",
   "pygments_lexer": "ipython3",
   "version": "3.12.5"
  }
 },
 "nbformat": 4,
 "nbformat_minor": 5
}

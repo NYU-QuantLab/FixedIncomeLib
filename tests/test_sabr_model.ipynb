{
 "cells": [
  {
   "cell_type": "markdown",
   "id": "e0f7d623",
   "metadata": {},
   "source": [
    "# FixedIncomeLib SABR Model Testing Notebook\n",
    "This notebook exercises the `SabrModel` class by:\n",
    "1. Building a dummy SABR volatility surface for a single index.\n",
    "2. Interpolating volatilities at various expiry/tenor grid points.\n",
    "---"
   ]
  },
  {
   "cell_type": "code",
   "execution_count": 1,
   "id": "e56e7b28",
   "metadata": {},
   "outputs": [
    {
     "name": "stdout",
     "output_type": "stream",
     "text": [
      "Added to sys.path: c:\\Users\\neels\\OneDrive\\Desktop\\Capstone_Project\\FixedIncomeLib\n"
     ]
    }
   ],
   "source": [
    "import sys, os\n",
    "\n",
    "# compute the parent of tests → FixedIncomeLib\n",
    "repo_root = os.path.abspath(os.path.join(os.getcwd(), \"..\"))\n",
    "if repo_root not in sys.path:\n",
    "    sys.path.insert(0, repo_root)\n",
    "\n",
    "print(\"Added to sys.path:\", repo_root)"
   ]
  },
  {
   "cell_type": "code",
   "execution_count": 2,
   "id": "b56d3448",
   "metadata": {},
   "outputs": [],
   "source": [
    "import pandas as pd\n",
    "from date import Date, Period\n",
    "from market import IndexRegistry\n",
    "import numpy as np\n",
    "from data import Data1D, Data2D, DataCollection\n",
    "from sabr import SabrModel\n",
    "from yield_curve import YieldCurve"
   ]
  },
  {
   "cell_type": "markdown",
   "id": "0222b931",
   "metadata": {},
   "source": [
    "2. Dummy Yield Curve for subModel (flat rates)\n",
    "We build a simple flat curve to satisfy SabrModel's subModel requirement."
   ]
  },
  {
   "cell_type": "code",
   "execution_count": 3,
   "id": "3ee62a9e",
   "metadata": {},
   "outputs": [],
   "source": [
    "DUMMY_YC = [\n",
    "    [\"SOFR-1B\",            \"1M\",  0.0020],\n",
    "    [\"SOFR-1B\",            \"3M\",  0.0025],\n",
    "    [\"SOFR-1B\",            \"6M\",  0.0030],\n",
    "    [\"USD-LIBOR-BBA-3M\",   \"1M\",  0.0040],\n",
    "    [\"USD-LIBOR-BBA-3M\",   \"3M\",  0.00425],\n",
    "    [\"USD-LIBOR-BBA-3M\",   \"6M\",  0.00450],\n",
    "]\n",
    "df_yc = pd.DataFrame(DUMMY_YC, columns=[\"INDEX\",\"AXIS1\",\"VALUES\"])\n",
    "\n",
    "yc_build = [\n",
    "  {\n",
    "    \"TARGET\":             \"SOFR-1B\",\n",
    "    \"DATA_TYPE\":          \"ZERO_RATE\",\n",
    "    \"DATA_CONVENTION\":    \"SOFR-1B\",\n",
    "    \"INTERPOLATION_METHOD\":\"PIECEWISE_CONSTANT\"\n",
    "  },\n",
    "  {\n",
    "    \"TARGET\":             \"USD-LIBOR-BBA-3M\",\n",
    "    \"DATA_TYPE\":          \"ZERO_RATE\",\n",
    "    \"DATA_CONVENTION\":    \"USD-LIBOR-BBA-3M\",\n",
    "    \"INTERPOLATION_METHOD\":\"PIECEWISE_CONSTANT\"\n",
    "  },\n",
    "]\n",
    "\n"
   ]
  },
  {
   "cell_type": "code",
   "execution_count": 4,
   "id": "7a008240",
   "metadata": {},
   "outputs": [
    {
     "name": "stdout",
     "output_type": "stream",
     "text": [
      "Registered zero-rate curves: [('zero_rate', 'SOFR-1B'), ('zero_rate', 'USD-LIBOR-BBA-3M')]\n"
     ]
    }
   ],
   "source": [
    "dc = DataCollection()\n",
    "\n",
    "df_yc = pd.DataFrame(DUMMY_YC, columns=[\"INDEX\",\"AXIS1\",\"VALUES\"])\n",
    "\n",
    "dc.register_zero_rate_dataframe(\n",
    "    df        = df_yc,\n",
    "    value_date= \"2025-06-26\"\n",
    ")\n",
    "\n",
    "print(\"Registered zero-rate curves:\", list(dc._store.keys()))"
   ]
  },
  {
   "cell_type": "code",
   "execution_count": 5,
   "id": "ce88d8a0",
   "metadata": {},
   "outputs": [
    {
     "name": "stdout",
     "output_type": "stream",
     "text": [
      "YieldCurve components: dict_keys(['SOFR-1B', 'USD-LIBOR-BBA-3M'])\n"
     ]
    }
   ],
   "source": [
    "as_of = \"2025-06-26\"\n",
    "yc = YieldCurve(as_of, dc, yc_build)\n",
    "print(\"YieldCurve components:\", yc.components.keys())\n"
   ]
  },
  {
   "cell_type": "markdown",
   "id": "ce8c33e7",
   "metadata": {},
   "source": [
    "3. Dummy SABR Data\n",
    "Columns: INDEX, EXPIRY (years), TENOR (years), NORMALVOL, BETA, NU, RHO"
   ]
  },
  {
   "cell_type": "code",
   "execution_count": 6,
   "id": "ea9dc648",
   "metadata": {},
   "outputs": [
    {
     "name": "stdout",
     "output_type": "stream",
     "text": [
      "Registered SABR surfaces: [('zero_rate', 'SOFR-1B'), ('zero_rate', 'USD-LIBOR-BBA-3M'), ('normalvol', 'USD-LIBOR-BBA-3M'), ('beta', 'USD-LIBOR-BBA-3M'), ('nu', 'USD-LIBOR-BBA-3M'), ('rho', 'USD-LIBOR-BBA-3M')]\n"
     ]
    }
   ],
   "source": [
    "DUMMY_SABR = [\n",
    "  [\"USD-LIBOR-BBA-3M\", 1.0, 0.25, 0.010, 0.5, 0.2, -0.3],\n",
    "  [\"USD-LIBOR-BBA-3M\", 1.0, 0.50, 0.011, 0.5, 0.2, -0.3],\n",
    "  [\"USD-LIBOR-BBA-3M\", 2.0, 0.25, 0.012, 0.5, 0.2, -0.3],\n",
    "  [\"USD-LIBOR-BBA-3M\", 2.0, 0.50, 0.013, 0.5, 0.2, -0.3],\n",
    "]\n",
    "df_sabr = pd.DataFrame(\n",
    "    DUMMY_SABR,\n",
    "    columns=[\"INDEX\",\"AXIS1\",\"AXIS2\",\"NORMALVOL\",\"BETA\",\"NU\",\"RHO\"]\n",
    ")\n",
    "\n",
    "dc.register_sabr_dataframe(\n",
    "    df               = df_sabr,\n",
    "    axis1_col        = \"AXIS1\",\n",
    "    axis2_col        = \"AXIS2\",\n",
    "    param_cols       = [\"NORMALVOL\",\"BETA\",\"NU\",\"RHO\"],\n",
    "    data_convention_col = \"INDEX\"\n",
    ")\n",
    "\n",
    "print(\"Registered SABR surfaces:\", list(dc._store.keys()))\n"
   ]
  },
  {
   "cell_type": "code",
   "execution_count": 7,
   "id": "8319e15b",
   "metadata": {},
   "outputs": [],
   "source": [
    "build_methods_sabr = [\n",
    "    {\n",
    "        \"TARGET\":        \"USD-LIBOR-BBA-3M\",\n",
    "        \"VALUES\":        \"NORMALVOL\",\n",
    "        \"INTERPOLATION\": \"LINEAR\",\n",
    "    },\n",
    "    {\n",
    "        \"TARGET\":        \"USD-LIBOR-BBA-3M\",\n",
    "        \"VALUES\":        \"BETA\",\n",
    "        \"INTERPOLATION\": \"LINEAR\",\n",
    "    },\n",
    "    {\n",
    "        \"TARGET\":        \"USD-LIBOR-BBA-3M\",\n",
    "        \"VALUES\":        \"NU\",\n",
    "        \"INTERPOLATION\": \"LINEAR\",\n",
    "    },\n",
    "    {\n",
    "        \"TARGET\":        \"USD-LIBOR-BBA-3M\",\n",
    "        \"VALUES\":        \"RHO\",\n",
    "        \"INTERPOLATION\": \"LINEAR\",\n",
    "    },\n",
    "]\n"
   ]
  },
  {
   "cell_type": "code",
   "execution_count": 8,
   "id": "5d36e4cb",
   "metadata": {},
   "outputs": [
    {
     "name": "stdout",
     "output_type": "stream",
     "text": [
      "SABR components: dict_keys(['USD-LIBOR-BBA-3M-NORMALVOL', 'USD-LIBOR-BBA-3M-BETA', 'USD-LIBOR-BBA-3M-NU', 'USD-LIBOR-BBA-3M-RHO'])\n"
     ]
    }
   ],
   "source": [
    "value_date = \"2025-06-26\"\n",
    "sabr = SabrModel.from_curve(\n",
    "    valueDate              = value_date,\n",
    "    dataCollection         = dc,\n",
    "    buildMethodCollection  = build_methods_sabr,\n",
    "    ycModel                = yc\n",
    ")\n",
    "\n",
    "print(\"SABR components:\", sabr.components.keys())"
   ]
  },
  {
   "cell_type": "code",
   "execution_count": 9,
   "id": "1cc8df18",
   "metadata": {},
   "outputs": [
    {
     "name": "stdout",
     "output_type": "stream",
     "text": [
      "--- SABR Volatility Interpolation ---\n",
      "Expiry=1.0y, Tenor=0.25y → Vol = 1.0000%\n",
      "Expiry=1.0y, Tenor=0.5y → Vol = 1.1000%\n",
      "Expiry=2.0y, Tenor=0.25y → Vol = 1.2000%\n",
      "Expiry=2.0y, Tenor=0.5y → Vol = 1.3000%\n"
     ]
    }
   ],
   "source": [
    "grid = [(1.0, 0.25), (1.0, 0.50), (2.0, 0.25), (2.0, 0.50)]\n",
    "print(\"--- SABR Volatility Interpolation ---\")\n",
    "for expiry, tenor in grid:\n",
    "    normalvol, beta, nu, rho, shift, decay = sabr.get_sabr_parameters(\n",
    "        \"USD-LIBOR-BBA-3M\",\n",
    "        expiry,\n",
    "        tenor\n",
    "    )\n",
    "    print(f\"Expiry={expiry}y, Tenor={tenor}y → Vol = {normalvol:.4%}\")\n"
   ]
  },
  {
   "cell_type": "code",
   "execution_count": 10,
   "id": "f442ffad",
   "metadata": {},
   "outputs": [
    {
     "name": "stdout",
     "output_type": "stream",
     "text": [
      "--- Off-Grid SABR Volatility Interpolation ---\n",
      "Expiry=1.500y, Tenor=0.250y → Vol = 1.1000%\n",
      "Expiry=1.000y, Tenor=0.375y → Vol = 1.0500%\n",
      "Expiry=1.500y, Tenor=0.375y → Vol = 1.1500%\n"
     ]
    }
   ],
   "source": [
    "print(\"--- Off-Grid SABR Volatility Interpolation ---\")\n",
    "off_grid = [\n",
    "    (1.5, 0.25),\n",
    "    (1.0, 0.375),\n",
    "    (1.5, 0.375)\n",
    "]\n",
    "target = \"USD-LIBOR-BBA-3M\"\n",
    "for expiry, tenor in off_grid:\n",
    "    normalvol, beta, nu, rho, shift, decay = sabr.get_sabr_parameters(target, expiry, tenor)\n",
    "    print(f\"Expiry={expiry:>4.3f}y, Tenor={tenor:>5.3f}y → Vol = {normalvol:.4%}\")"
   ]
  },
  {
   "cell_type": "code",
   "execution_count": 11,
   "id": "c1918e7f",
   "metadata": {},
   "outputs": [
    {
     "name": "stdout",
     "output_type": "stream",
     "text": [
      "=== SABR Model via from_curve (prebuilt YieldCurve) ===\n",
      "SABR components: dict_keys(['USD-LIBOR-BBA-3M-NORMALVOL', 'USD-LIBOR-BBA-3M-BETA', 'USD-LIBOR-BBA-3M-NU', 'USD-LIBOR-BBA-3M-RHO'])\n",
      "[from_curve] Expiry=1.5, Tenor=0.375 → Vol=1.1500%\n",
      "[from_curve] Expiry=2.0, Tenor=0.5 → Vol=1.3000%\n",
      "\n",
      "=== SABR Model via from_data (raw YC data & build methods) ===\n",
      "SABR components: dict_keys(['USD-LIBOR-BBA-3M-NORMALVOL', 'USD-LIBOR-BBA-3M-BETA', 'USD-LIBOR-BBA-3M-NU', 'USD-LIBOR-BBA-3M-RHO'])\n",
      "[from_data ] Expiry=1.5, Tenor=0.375 → Vol=1.1500%\n",
      "[from_data ] Expiry=2.0, Tenor=0.5 → Vol=1.3000%\n"
     ]
    }
   ],
   "source": [
    "print(\"=== SABR Model via from_curve (prebuilt YieldCurve) ===\")\n",
    "\n",
    "sabr_a = SabrModel.from_curve(\n",
    "    valueDate             = value_date,           \n",
    "    dataCollection        = dc,                   \n",
    "    buildMethodCollection = build_methods_sabr,  \n",
    "    ycModel               = yc                  \n",
    ")\n",
    "\n",
    "print(\"SABR components:\", sabr_a.components.keys())\n",
    "for expiry, tenor in [(1.5,0.375), (2.0,0.5)]:\n",
    "    normalvol, beta, nu, rho, shift, decay = sabr_a.get_sabr_parameters(\n",
    "        \"USD-LIBOR-BBA-3M\", expiry, tenor\n",
    "    )\n",
    "    print(f\"[from_curve] Expiry={expiry}, Tenor={tenor} → Vol={normalvol:.4%}\")\n",
    "\n",
    "print(\"\\n=== SABR Model via from_data (raw YC data & build methods) ===\")\n",
    "\n",
    "sabr_b = SabrModel.from_data(\n",
    "    valueDate             = value_date,           \n",
    "    dataCollection        = dc,                   \n",
    "    buildMethodCollection = build_methods_sabr,  \n",
    "    ycData                 = df_yc,               \n",
    "    ycBuildMethods         = yc_build             \n",
    ")\n",
    "print(\"SABR components:\", sabr_b.components.keys())\n",
    "for expiry, tenor in [(1.5,0.375), (2.0,0.5)]:\n",
    "    normalvol, beta, nu, rho, shift, decay = sabr_b.get_sabr_parameters(\n",
    "        \"USD-LIBOR-BBA-3M\", expiry, tenor\n",
    "    )\n",
    "    print(f\"[from_data ] Expiry={expiry}, Tenor={tenor} → Vol={normalvol:.4%}\")\n"
   ]
  }
 ],
 "metadata": {
  "kernelspec": {
   "display_name": "Python 3",
   "language": "python",
   "name": "python3"
  },
  "language_info": {
   "codemirror_mode": {
    "name": "ipython",
    "version": 3
   },
   "file_extension": ".py",
   "mimetype": "text/x-python",
   "name": "python",
   "nbconvert_exporter": "python",
   "pygments_lexer": "ipython3",
   "version": "3.12.5"
  }
 },
 "nbformat": 4,
 "nbformat_minor": 5
}

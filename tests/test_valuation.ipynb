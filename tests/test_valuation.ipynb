{
 "cells": [
  {
   "cell_type": "markdown",
   "id": "f3afdb13",
   "metadata": {},
   "source": [
    "# Test Valuation Engines\n",
    "\n",
    "This notebook walks through:\n",
    "\n",
    "1. Loading historical SOFR fixings\n",
    "2. Building a simple two-index yield curve\n",
    "3. Valuing various products (bullet, IBOR cashflow, OIS cashflow, futures, swaps)\n",
    "\n",
    "---"
   ]
  },
  {
   "cell_type": "markdown",
   "id": "5906bcce",
   "metadata": {},
   "source": [
    "## 1. Imports & Setup"
   ]
  },
  {
   "cell_type": "code",
   "execution_count": 1,
   "id": "6b871334",
   "metadata": {},
   "outputs": [
    {
     "name": "stdout",
     "output_type": "stream",
     "text": [
      "Added to sys.path: c:\\Users\\neels\\OneDrive\\Desktop\\Capstone_Project\\FixedIncomeLib\n"
     ]
    }
   ],
   "source": [
    "import sys, os\n",
    "\n",
    "# compute the parent of tests → FixedIncomeLib\n",
    "repo_root = os.path.abspath(os.path.join(os.getcwd(), \"..\"))\n",
    "if repo_root not in sys.path:\n",
    "    sys.path.insert(0, repo_root)\n",
    "\n",
    "print(\"Added to sys.path:\", repo_root)"
   ]
  },
  {
   "cell_type": "code",
   "execution_count": 2,
   "id": "1a70b19e",
   "metadata": {},
   "outputs": [],
   "source": [
    "import pandas as pd\n",
    "from data import DataCollection, Data1D, build_yc_data_collection\n",
    "from date import Date\n",
    "from yield_curve import YieldCurve\n",
    "from valuation import IndexManager\n",
    "from valuation import ValuationEngineRegistry\n",
    "from product import (\n",
    "    ProductBulletCashflow,\n",
    "    ProductIborCashflow,\n",
    "    ProductOvernightIndexCashflow,\n",
    "    ProductFuture,\n",
    "    ProductRfrFuture,\n",
    "    ProductIborSwap,\n",
    "    ProductOvernightSwap,\n",
    "    ProductPortfolio )\n",
    "from builders import create_products_from_data1d\n",
    "from builders import build_yc_calibration_basket\n",
    "from product.product_display_visitor import RfrFutureVisitor, OvernightSwapVisitor"
   ]
  },
  {
   "cell_type": "markdown",
   "id": "2784cc5a",
   "metadata": {},
   "source": [
    "## 2. Load SOFR Fixings"
   ]
  },
  {
   "cell_type": "code",
   "execution_count": 3,
   "id": "baa8d46f",
   "metadata": {},
   "outputs": [
    {
     "data": {
      "text/plain": [
       "<valuation.index_fixing_registry.IndexManager at 0x1ab7f697aa0>"
      ]
     },
     "execution_count": 3,
     "metadata": {},
     "output_type": "execute_result"
    }
   ],
   "source": [
    "IndexManager.instance()"
   ]
  },
  {
   "cell_type": "markdown",
   "id": "198c2da2",
   "metadata": {},
   "source": [
    "## 3. Build Dummy Yield Curve"
   ]
  },
  {
   "cell_type": "code",
   "execution_count": 4,
   "id": "9ba26aee",
   "metadata": {},
   "outputs": [],
   "source": [
    "MARKET_DF = pd.DataFrame(\n",
    "    [\n",
    "        [\"RFR FUTURE\",\"SOFR-FUTURE-3M\",\"2025-09-24 x 2025-12-24\", 95.70],\n",
    "        [\"RFR FUTURE\",\"SOFR-FUTURE-3M\",\"2025-12-24 x 2026-03-24\", 95.80],  \n",
    "        [\"RFR FUTURE\",\"SOFR-FUTURE-3M\",\"2026-03-24 x 2026-06-24\", 95.90],  \n",
    "        [\"RFR FUTURE\",\"SOFR-FUTURE-3M\",\"2026-06-24 x 2026-09-24\", 96.00],  \n",
    "        [\"RFR FUTURE\",\"SOFR-FUTURE-3M\",\"2026-09-24 x 2026-12-24\", 96.08],  \n",
    "        [\"RFR FUTURE\",\"SOFR-FUTURE-3M\",\"2026-12-24 x 2027-03-24\", 96.16],  \n",
    "        [\"RFR FUTURE\",\"SOFR-FUTURE-3M\",\"2027-03-24 x 2027-06-24\", 96.24],  \n",
    "        [\"RFR FUTURE\",\"SOFR-FUTURE-3M\",\"2027-06-24 x 2027-09-24\", 96.32],  \n",
    "        [\"RFR FUTURE\",\"SOFR-FUTURE-3M\",\"2027-09-24 x 2027-12-24\", 96.38],  \n",
    "        [\"RFR FUTURE\",\"SOFR-FUTURE-3M\",\"2027-12-24 x 2028-03-24\", 96.44], \n",
    "        [\"RFR FUTURE\",\"SOFR-FUTURE-3M\",\"2028-03-24 x 2028-06-24\", 96.50],  \n",
    "        [\"RFR FUTURE\",\"SOFR-FUTURE-3M\",\"2028-06-24 x 2028-09-24\", 96.55],  \n",
    "        \n",
    "        [\"RFR SWAP\",\"USD-SOFR-OIS\",\"1Y\",  0.0395],\n",
    "        [\"RFR SWAP\",\"USD-SOFR-OIS\",\"2Y\",  0.0380],\n",
    "        [\"RFR SWAP\",\"USD-SOFR-OIS\",\"3Y\",  0.0372],\n",
    "        [\"RFR SWAP\",\"USD-SOFR-OIS\",\"4Y\",  0.0368],\n",
    "        [\"RFR SWAP\",\"USD-SOFR-OIS\",\"5Y\",  0.0365],\n",
    "        [\"RFR SWAP\",\"USD-SOFR-OIS\",\"6Y\",  0.0371],\n",
    "        [\"RFR SWAP\",\"USD-SOFR-OIS\",\"7Y\",  0.0374],\n",
    "        [\"RFR SWAP\",\"USD-SOFR-OIS\",\"8Y\",  0.0380],\n",
    "        [\"RFR SWAP\",\"USD-SOFR-OIS\",\"9Y\",  0.0383],\n",
    "        [\"RFR SWAP\",\"USD-SOFR-OIS\",\"10Y\", 0.0386],  \n",
    "        [\"RFR SWAP\",\"USD-SOFR-OIS\",\"15Y\", 0.0395],\n",
    "        [\"RFR SWAP\",\"USD-SOFR-OIS\",\"20Y\", 0.0405],\n",
    "        [\"RFR SWAP\",\"USD-SOFR-OIS\",\"25Y\", 0.0412],\n",
    "        [\"RFR SWAP\",\"USD-SOFR-OIS\",\"30Y\", 0.0419],  \n",
    "        [\"RFR SWAP\",\"USD-SOFR-OIS\",\"40Y\", 0.0423],\n",
    "        [\"RFR SWAP\",\"USD-SOFR-OIS\",\"50Y\", 0.0428],\n",
    "        [\"RFR SWAP\",\"USD-SOFR-OIS\",\"60Y\", 0.0432],\n",
    "    ],\n",
    "    columns=[\"DATA TYPE\",\"DATA CONVENTION\",\"AXIS\",\"VALUE\"],\n",
    ")\n"
   ]
  },
  {
   "cell_type": "code",
   "execution_count": 5,
   "id": "e63faaa8",
   "metadata": {},
   "outputs": [],
   "source": [
    "data_objs, dc = build_yc_data_collection(MARKET_DF)"
   ]
  },
  {
   "cell_type": "code",
   "execution_count": 6,
   "id": "199380c0",
   "metadata": {},
   "outputs": [],
   "source": [
    "build_methods = [{\n",
    "    \"TARGET\": \"SOFR-1B\",\n",
    "    \"REFERENCE\": None,\n",
    "    \"INSTRUMENTS\": [\"SOFR-FUTURE-3M\", \"USD-SOFR-OIS\"],\n",
    "    \"INTERPOLATION METHOD\": \"PIECEWISE_CONSTANT\",\n",
    "    \"DEBUG\": True\n",
    "}]\n"
   ]
  },
  {
   "cell_type": "code",
   "execution_count": 7,
   "id": "ebc90c11",
   "metadata": {},
   "outputs": [
    {
     "name": "stdout",
     "output_type": "stream",
     "text": [
      "\n",
      "[YC DEBUG] Calibrated IFRs at pillars\n",
      "idx  pillar           t (yrs)      theta*         ∫θ du         DF(t)\n",
      "---------------------------------------------------------------------\n",
      "  0  2025-12-24    0.2500000000  0.04324308  0.0108107691  0.9892474572\n",
      "  1  2026-03-24    0.5000000000  0.04178092  0.0212559994  0.9789683172\n",
      "  2  2026-06-24    0.7500000000  0.04169295  0.0316792369  0.9688172930\n",
      "  3  2026-09-24    1.0000000000  0.04068120  0.0418495368  0.9590140660\n",
      "  4  2026-12-24    1.2500000000  0.03944042  0.0517096428  0.9496045514\n",
      "  5  2027-03-24    1.5000000000  0.03821681  0.0612638448  0.9405750412\n",
      "  6  2027-06-24    1.7500000000  0.03825202  0.0708268506  0.9316231881\n",
      "  7  2027-09-24    2.0000000000  0.03744195  0.0801873373  0.9229434284\n",
      "  8  2027-12-27    2.2583333333  0.03643576  0.0895999078  0.9142969152\n",
      "  9  2028-03-24    2.5000000000  0.03581382  0.0982549132  0.9064178165\n",
      " 10  2028-06-26    2.7555555556  0.03561871  0.1073574711  0.8982045334\n",
      " 11  2028-09-25    3.0027777778  0.03510058  0.1160351143  0.8904439555\n",
      " 12  2029-09-24    4.0000000000  0.02999650  0.1459482933  0.8642023871\n",
      " 13  2030-09-24    5.0000000000  0.03505846  0.1810067521  0.8344297246\n",
      " 14  2031-09-24    6.0000000000  0.04019478  0.2212015290  0.8015551274\n",
      " 15  2032-09-24    7.0000000000  0.03930498  0.2605065084  0.7706611406\n",
      " 16  2033-09-26    8.0055555556  0.04258954  0.3033326567  0.7383534373\n",
      " 17  2034-09-25    9.0027777778  0.04089208  0.3441111432  0.7088501398\n",
      " 18  2035-09-24    10.0000000000  0.04160839  0.3856039509  0.6800398015\n",
      " 19  2040-09-24    15.0000000000  0.04169123  0.5940601153  0.5520812148\n",
      " 20  2045-09-25    20.0027777778  0.04475485  0.8179587075  0.4413316226\n",
      " 21  2050-09-26    25.0055555556  0.04574004  1.0467859613  0.3510642720\n",
      " 22  2055-09-24    30.0000000000  0.04856233  1.2893278218  0.2754558763\n",
      " 23  2065-09-24    40.0000000000  0.04507768  1.7401046437  0.1755020345\n",
      " 24  2075-09-24    50.0000000000  0.04939063  2.2340109399  0.1070980038\n",
      " 25  2085-09-24    60.0000000000  0.05271929  2.7612038097  0.0632156230\n",
      "Curve components: dict_keys(['SOFR-1B'])\n"
     ]
    }
   ],
   "source": [
    "yc = YieldCurve(\"2025-09-24\", dc, build_methods)\n",
    "print(\"Curve components:\", yc.components.keys())"
   ]
  },
  {
   "cell_type": "markdown",
   "id": "acd22392",
   "metadata": {},
   "source": [
    "\n",
    "## 4. Value Bullet Cashflow\n"
   ]
  },
  {
   "cell_type": "code",
   "execution_count": 29,
   "id": "9308d8e3",
   "metadata": {},
   "outputs": [
    {
     "name": "stdout",
     "output_type": "stream",
     "text": [
      "Bullet CF PV: ['USD', np.float64(890530.779407151)]\n"
     ]
    }
   ],
   "source": [
    "# Bullet cashflow PV\n",
    "bullet = ProductBulletCashflow(\"2028-09-24\", \"USD\", 1000000, \"LONG\")\n",
    "ve = ValuationEngineRegistry().new_valuation_engine(\n",
    "    yc,\n",
    "    {\"FUNDING INDEX\": \"SOFR-1B\"},\n",
    "    bullet\n",
    ")\n",
    "ve.calculateValue()\n",
    "print(\"Bullet CF PV:\", ve.value)"
   ]
  },
  {
   "cell_type": "markdown",
   "id": "c3d30e6f",
   "metadata": {},
   "source": [
    "## 5. Value IBOR Cashflow"
   ]
  },
  {
   "cell_type": "code",
   "execution_count": null,
   "id": "67eee95c",
   "metadata": {},
   "outputs": [
    {
     "ename": "AttributeError",
     "evalue": "'NoneType' object has no attribute 'isOvernightIndex'",
     "output_type": "error",
     "traceback": [
      "\u001b[1;31m---------------------------------------------------------------------------\u001b[0m",
      "\u001b[1;31mAttributeError\u001b[0m                            Traceback (most recent call last)",
      "Cell \u001b[1;32mIn[9], line 10\u001b[0m\n\u001b[0;32m      1\u001b[0m ibor_cf \u001b[38;5;241m=\u001b[39m ProductIborCashflow(\n\u001b[0;32m      2\u001b[0m     startDate\u001b[38;5;241m=\u001b[39m\u001b[38;5;124m\"\u001b[39m\u001b[38;5;124m2025-09-27\u001b[39m\u001b[38;5;124m\"\u001b[39m,\n\u001b[0;32m      3\u001b[0m     endDate\u001b[38;5;241m=\u001b[39m\u001b[38;5;124m\"\u001b[39m\u001b[38;5;124m2025-12-27\u001b[39m\u001b[38;5;124m\"\u001b[39m,\n\u001b[1;32m   (...)\u001b[0m\n\u001b[0;32m      7\u001b[0m     longOrShort\u001b[38;5;241m=\u001b[39m\u001b[38;5;124m\"\u001b[39m\u001b[38;5;124mSHORT\u001b[39m\u001b[38;5;124m\"\u001b[39m\n\u001b[0;32m      8\u001b[0m )\n\u001b[0;32m      9\u001b[0m ve \u001b[38;5;241m=\u001b[39m ValuationEngineRegistry()\u001b[38;5;241m.\u001b[39mnew_valuation_engine(yc, {}, ibor_cf)\n\u001b[1;32m---> 10\u001b[0m \u001b[43mve\u001b[49m\u001b[38;5;241;43m.\u001b[39;49m\u001b[43mcalculateValue\u001b[49m\u001b[43m(\u001b[49m\u001b[43m)\u001b[49m\n\u001b[0;32m     11\u001b[0m \u001b[38;5;28mprint\u001b[39m(\u001b[38;5;124m\"\u001b[39m\u001b[38;5;124mIbor CF PV:\u001b[39m\u001b[38;5;124m\"\u001b[39m, ve\u001b[38;5;241m.\u001b[39mvalue)\n",
      "File \u001b[1;32mc:\\Users\\neels\\OneDrive\\Desktop\\Capstone_Project\\FixedIncomeLib\\yield_curve\\valuation_engine_yc.py:47\u001b[0m, in \u001b[0;36mValuationEngineProductIborCashflow.calculateValue\u001b[1;34m(self)\u001b[0m\n\u001b[0;32m     46\u001b[0m \u001b[38;5;28;01mdef\u001b[39;00m\u001b[38;5;250m \u001b[39m\u001b[38;5;21mcalculateValue\u001b[39m(\u001b[38;5;28mself\u001b[39m):\n\u001b[1;32m---> 47\u001b[0m     forward_rate   \u001b[38;5;241m=\u001b[39m \u001b[38;5;28;43mself\u001b[39;49m\u001b[38;5;241;43m.\u001b[39;49m\u001b[43mmodel\u001b[49m\u001b[38;5;241;43m.\u001b[39;49m\u001b[43mforward\u001b[49m\u001b[43m(\u001b[49m\u001b[38;5;28;43mself\u001b[39;49m\u001b[38;5;241;43m.\u001b[39;49m\u001b[43mindex_name\u001b[49m\u001b[43m,\u001b[49m\u001b[43m \u001b[49m\u001b[38;5;28;43mself\u001b[39;49m\u001b[38;5;241;43m.\u001b[39;49m\u001b[43mstart_date\u001b[49m\u001b[43m,\u001b[49m\u001b[43m \u001b[49m\u001b[38;5;28;43mself\u001b[39;49m\u001b[38;5;241;43m.\u001b[39;49m\u001b[43mend_date\u001b[49m\u001b[43m)\u001b[49m\n\u001b[0;32m     48\u001b[0m     pnl            \u001b[38;5;241m=\u001b[39m forward_rate \u001b[38;5;241m*\u001b[39m \u001b[38;5;28mself\u001b[39m\u001b[38;5;241m.\u001b[39maccrualFactor \u001b[38;5;241m*\u001b[39m\u001b[38;5;28mself\u001b[39m\u001b[38;5;241m.\u001b[39mnotional \u001b[38;5;241m*\u001b[39m \u001b[38;5;28mself\u001b[39m\u001b[38;5;241m.\u001b[39mdirection\n\u001b[0;32m     49\u001b[0m     \u001b[38;5;28mself\u001b[39m\u001b[38;5;241m.\u001b[39mvalue_    \u001b[38;5;241m=\u001b[39m [\u001b[38;5;28mself\u001b[39m\u001b[38;5;241m.\u001b[39mcurrency\u001b[38;5;241m.\u001b[39mvalue\u001b[38;5;241m.\u001b[39mcode(), pnl]\n",
      "File \u001b[1;32mc:\\Users\\neels\\OneDrive\\Desktop\\Capstone_Project\\FixedIncomeLib\\yield_curve\\yield_curve_model.py:41\u001b[0m, in \u001b[0;36mYieldCurve.forward\u001b[1;34m(self, index, effectiveDate, termOrTerminationDate)\u001b[0m\n\u001b[0;32m     39\u001b[0m \u001b[38;5;28;01mdef\u001b[39;00m\u001b[38;5;250m \u001b[39m\u001b[38;5;21mforward\u001b[39m(\u001b[38;5;28mself\u001b[39m, index : \u001b[38;5;28mstr\u001b[39m, effectiveDate : Union[Date, \u001b[38;5;28mstr\u001b[39m], termOrTerminationDate : Optional[Union[\u001b[38;5;28mstr\u001b[39m, TermOrTerminationDate]]\u001b[38;5;241m=\u001b[39m\u001b[38;5;124m'\u001b[39m\u001b[38;5;124m'\u001b[39m):\n\u001b[0;32m     40\u001b[0m     component \u001b[38;5;241m=\u001b[39m \u001b[38;5;28mself\u001b[39m\u001b[38;5;241m.\u001b[39mretrieveComponent(index)\n\u001b[1;32m---> 41\u001b[0m     isOIS \u001b[38;5;241m=\u001b[39m \u001b[43mcomponent\u001b[49m\u001b[38;5;241;43m.\u001b[39;49m\u001b[43misOvernightIndex\u001b[49m\n\u001b[0;32m     42\u001b[0m     \u001b[38;5;28;01mif\u001b[39;00m isOIS:\n\u001b[0;32m     43\u001b[0m         \u001b[38;5;28;01mif\u001b[39;00m \u001b[38;5;28misinstance\u001b[39m(termOrTerminationDate, \u001b[38;5;28mstr\u001b[39m) \u001b[38;5;129;01mand\u001b[39;00m termOrTerminationDate \u001b[38;5;241m==\u001b[39m \u001b[38;5;124m'\u001b[39m\u001b[38;5;124m'\u001b[39m:\n",
      "\u001b[1;31mAttributeError\u001b[0m: 'NoneType' object has no attribute 'isOvernightIndex'"
     ]
    }
   ],
   "source": [
    "ibor_cf = ProductIborCashflow(\n",
    "    startDate=\"2025-09-27\",\n",
    "    endDate=\"2025-12-27\",\n",
    "    index=\"USD-LIBOR-BBA-3M\",\n",
    "    spread=0.0,\n",
    "    notional=1000000,\n",
    "    longOrShort=\"SHORT\"\n",
    ")\n",
    "ve = ValuationEngineRegistry().new_valuation_engine(yc, {}, ibor_cf)\n",
    "ve.calculateValue()\n",
    "print(\"Ibor CF PV:\", ve.value)"
   ]
  },
  {
   "cell_type": "markdown",
   "id": "5c7fa069",
   "metadata": {},
   "source": [
    "## 6. Value OIS Cashflow"
   ]
  },
  {
   "cell_type": "code",
   "execution_count": 34,
   "id": "22adc754",
   "metadata": {},
   "outputs": [
    {
     "name": "stdout",
     "output_type": "stream",
     "text": [
      "OIS CF PV: ['USD', np.float64(21364.82389100669)]\n"
     ]
    }
   ],
   "source": [
    "ois_cf = ProductOvernightIndexCashflow(\n",
    "    effectiveDate=\"2025-09-24\",\n",
    "    termOrEnd=\"6M\",\n",
    "    index=\"SOFR-1B\",\n",
    "    compounding=\"COMPOUND\",\n",
    "    spread=0.0,\n",
    "    notional=1000000,\n",
    "    longOrShort=\"LONG\"\n",
    ")\n",
    "ve = ValuationEngineRegistry().new_valuation_engine(\n",
    "    yc,\n",
    "    {},\n",
    "    ois_cf\n",
    ")\n",
    "ve.calculateValue()\n",
    "print(\"OIS CF PV:\", ve.value)"
   ]
  },
  {
   "cell_type": "markdown",
   "id": "2a849170",
   "metadata": {},
   "source": [
    "## 7. Value Futures"
   ]
  },
  {
   "cell_type": "code",
   "execution_count": null,
   "id": "f0ae0b67",
   "metadata": {},
   "outputs": [
    {
     "ename": "AttributeError",
     "evalue": "'NoneType' object has no attribute 'isOvernightIndex'",
     "output_type": "error",
     "traceback": [
      "\u001b[1;31m---------------------------------------------------------------------------\u001b[0m",
      "\u001b[1;31mAttributeError\u001b[0m                            Traceback (most recent call last)",
      "Cell \u001b[1;32mIn[11], line 10\u001b[0m\n\u001b[0;32m      2\u001b[0m future \u001b[38;5;241m=\u001b[39m ProductFuture(\n\u001b[0;32m      3\u001b[0m     effectiveDate\u001b[38;5;241m=\u001b[39m\u001b[38;5;124m\"\u001b[39m\u001b[38;5;124m2025-06-27\u001b[39m\u001b[38;5;124m\"\u001b[39m,\n\u001b[0;32m      4\u001b[0m     index\u001b[38;5;241m=\u001b[39m\u001b[38;5;124m\"\u001b[39m\u001b[38;5;124mUSD-LIBOR-BBA-3M\u001b[39m\u001b[38;5;124m\"\u001b[39m,\n\u001b[1;32m   (...)\u001b[0m\n\u001b[0;32m      7\u001b[0m     longOrShort\u001b[38;5;241m=\u001b[39m\u001b[38;5;124m\"\u001b[39m\u001b[38;5;124mLONG\u001b[39m\u001b[38;5;124m\"\u001b[39m\n\u001b[0;32m      8\u001b[0m )\n\u001b[0;32m      9\u001b[0m ve \u001b[38;5;241m=\u001b[39m ValuationEngineRegistry()\u001b[38;5;241m.\u001b[39mnew_valuation_engine(yc, {}, future)\n\u001b[1;32m---> 10\u001b[0m \u001b[43mve\u001b[49m\u001b[38;5;241;43m.\u001b[39;49m\u001b[43mcalculateValue\u001b[49m\u001b[43m(\u001b[49m\u001b[43m)\u001b[49m\n\u001b[0;32m     11\u001b[0m \u001b[38;5;28mprint\u001b[39m(\u001b[38;5;124m\"\u001b[39m\u001b[38;5;124mFuture PV:\u001b[39m\u001b[38;5;124m\"\u001b[39m, ve\u001b[38;5;241m.\u001b[39mvalue)\n",
      "File \u001b[1;32mc:\\Users\\neels\\OneDrive\\Desktop\\Capstone_Project\\FixedIncomeLib\\yield_curve\\valuation_engine_yc.py:169\u001b[0m, in \u001b[0;36mValuationEngineProductFuture.calculateValue\u001b[1;34m(self)\u001b[0m\n\u001b[0;32m    167\u001b[0m \u001b[38;5;28;01mdef\u001b[39;00m\u001b[38;5;250m \u001b[39m\u001b[38;5;21mcalculateValue\u001b[39m(\u001b[38;5;28mself\u001b[39m):\n\u001b[1;32m--> 169\u001b[0m     \u001b[38;5;28;43mself\u001b[39;49m\u001b[38;5;241;43m.\u001b[39;49m\u001b[43m_ibor_engine\u001b[49m\u001b[38;5;241;43m.\u001b[39;49m\u001b[43mcalculateValue\u001b[49m\u001b[43m(\u001b[49m\u001b[43m)\u001b[49m\n\u001b[0;32m    170\u001b[0m     _, pv_unit \u001b[38;5;241m=\u001b[39m \u001b[38;5;28mself\u001b[39m\u001b[38;5;241m.\u001b[39m_ibor_engine\u001b[38;5;241m.\u001b[39mvalue_\n\u001b[0;32m    171\u001b[0m     forward_rate \u001b[38;5;241m=\u001b[39m pv_unit \u001b[38;5;241m/\u001b[39m \u001b[38;5;28mself\u001b[39m\u001b[38;5;241m.\u001b[39m_accrualFactor\n",
      "File \u001b[1;32mc:\\Users\\neels\\OneDrive\\Desktop\\Capstone_Project\\FixedIncomeLib\\yield_curve\\valuation_engine_yc.py:49\u001b[0m, in \u001b[0;36mValuationEngineProductIborCashflow.calculateValue\u001b[1;34m(self)\u001b[0m\n\u001b[0;32m     48\u001b[0m \u001b[38;5;28;01mdef\u001b[39;00m\u001b[38;5;250m \u001b[39m\u001b[38;5;21mcalculateValue\u001b[39m(\u001b[38;5;28mself\u001b[39m):\n\u001b[1;32m---> 49\u001b[0m     forward_rate   \u001b[38;5;241m=\u001b[39m \u001b[38;5;28;43mself\u001b[39;49m\u001b[38;5;241;43m.\u001b[39;49m\u001b[43mmodel\u001b[49m\u001b[38;5;241;43m.\u001b[39;49m\u001b[43mforward\u001b[49m\u001b[43m(\u001b[49m\u001b[38;5;28;43mself\u001b[39;49m\u001b[38;5;241;43m.\u001b[39;49m\u001b[43mindex_name\u001b[49m\u001b[43m,\u001b[49m\u001b[43m \u001b[49m\u001b[38;5;28;43mself\u001b[39;49m\u001b[38;5;241;43m.\u001b[39;49m\u001b[43mstart_date\u001b[49m\u001b[43m,\u001b[49m\u001b[43m \u001b[49m\u001b[38;5;28;43mself\u001b[39;49m\u001b[38;5;241;43m.\u001b[39;49m\u001b[43mend_date\u001b[49m\u001b[43m)\u001b[49m\n\u001b[0;32m     50\u001b[0m     coupon       \u001b[38;5;241m=\u001b[39m forward_rate \u001b[38;5;241m*\u001b[39m \u001b[38;5;28mself\u001b[39m\u001b[38;5;241m.\u001b[39maccrualFactor \u001b[38;5;241m*\u001b[39m \u001b[38;5;28mself\u001b[39m\u001b[38;5;241m.\u001b[39mnotional \u001b[38;5;241m*\u001b[39m \u001b[38;5;28mself\u001b[39m\u001b[38;5;241m.\u001b[39mdirection\n\u001b[0;32m     51\u001b[0m     \u001b[38;5;28;01mif\u001b[39;00m \u001b[38;5;28mself\u001b[39m\u001b[38;5;241m.\u001b[39mleg_mode \u001b[38;5;241m==\u001b[39m \u001b[38;5;124m\"\u001b[39m\u001b[38;5;124mINDEX\u001b[39m\u001b[38;5;124m\"\u001b[39m:\n",
      "File \u001b[1;32mc:\\Users\\neels\\OneDrive\\Desktop\\Capstone_Project\\FixedIncomeLib\\yield_curve\\yield_curve_model.py:41\u001b[0m, in \u001b[0;36mYieldCurve.forward\u001b[1;34m(self, index, effectiveDate, termOrTerminationDate)\u001b[0m\n\u001b[0;32m     39\u001b[0m \u001b[38;5;28;01mdef\u001b[39;00m\u001b[38;5;250m \u001b[39m\u001b[38;5;21mforward\u001b[39m(\u001b[38;5;28mself\u001b[39m, index : \u001b[38;5;28mstr\u001b[39m, effectiveDate : Union[Date, \u001b[38;5;28mstr\u001b[39m], termOrTerminationDate : Optional[Union[\u001b[38;5;28mstr\u001b[39m, TermOrTerminationDate]]\u001b[38;5;241m=\u001b[39m\u001b[38;5;124m'\u001b[39m\u001b[38;5;124m'\u001b[39m):\n\u001b[0;32m     40\u001b[0m     component \u001b[38;5;241m=\u001b[39m \u001b[38;5;28mself\u001b[39m\u001b[38;5;241m.\u001b[39mretrieveComponent(index)\n\u001b[1;32m---> 41\u001b[0m     isOIS \u001b[38;5;241m=\u001b[39m \u001b[43mcomponent\u001b[49m\u001b[38;5;241;43m.\u001b[39;49m\u001b[43misOvernightIndex\u001b[49m\n\u001b[0;32m     42\u001b[0m     \u001b[38;5;28;01mif\u001b[39;00m isOIS:\n\u001b[0;32m     43\u001b[0m         \u001b[38;5;28;01mif\u001b[39;00m \u001b[38;5;28misinstance\u001b[39m(termOrTerminationDate, \u001b[38;5;28mstr\u001b[39m) \u001b[38;5;129;01mand\u001b[39;00m termOrTerminationDate \u001b[38;5;241m==\u001b[39m \u001b[38;5;124m'\u001b[39m\u001b[38;5;124m'\u001b[39m:\n",
      "\u001b[1;31mAttributeError\u001b[0m: 'NoneType' object has no attribute 'isOvernightIndex'"
     ]
    }
   ],
   "source": [
    "# IBOR Future PV\n",
    "future = ProductFuture(\n",
    "    effectiveDate=\"2025-06-27\",\n",
    "    index=\"USD-LIBOR-BBA-3M\",\n",
    "    strike=99.5,\n",
    "    notional=1_000_000,\n",
    "    longOrShort=\"LONG\"\n",
    ")\n",
    "ve = ValuationEngineRegistry().new_valuation_engine(yc, {}, future)\n",
    "ve.calculateValue()\n",
    "print(\"Future PV:\", ve.value)"
   ]
  },
  {
   "cell_type": "code",
   "execution_count": 35,
   "id": "0ac7eafe",
   "metadata": {},
   "outputs": [
    {
     "name": "stdout",
     "output_type": "stream",
     "text": [
      "RFR Future PV: ['USD', np.float64(199988.99220539103)]\n"
     ]
    }
   ],
   "source": [
    "# RFR Future PV\n",
    "rfr_future = ProductRfrFuture(\n",
    "    effectiveDate=\"2025-09-24\",\n",
    "    termOrEnd=\"3M\",\n",
    "    index=\"SOFR-1B\",\n",
    "    compounding=\"AVERAGE\",\n",
    "    strike=95.9,\n",
    "    notional=1000000,\n",
    "    longOrShort=\"SHORT\"\n",
    ")\n",
    "ve = ValuationEngineRegistry().new_valuation_engine(\n",
    "    yc,\n",
    "    {},\n",
    "    rfr_future\n",
    ")\n",
    "ve.calculateValue()\n",
    "print(\"RFR Future PV:\", ve.value)"
   ]
  },
  {
   "cell_type": "markdown",
   "id": "2160ef05",
   "metadata": {},
   "source": [
    "## 8. Value a Portfolio"
   ]
  },
  {
   "cell_type": "code",
   "execution_count": 36,
   "id": "20a9303b",
   "metadata": {},
   "outputs": [
    {
     "name": "stdout",
     "output_type": "stream",
     "text": [
      "Portfolio PV: ['USD', np.float64(911895.6032981577)]\n"
     ]
    }
   ],
   "source": [
    "# Simple portfolio of bullet + IBOR CF\n",
    "portfolio = ProductPortfolio([bullet, ois_cf], weights=[0.5, 0.5])\n",
    "ve = ValuationEngineRegistry().new_valuation_engine(\n",
    "    yc,\n",
    "    {\"FUNDING INDEX\": \"SOFR-1B\"},\n",
    "    portfolio\n",
    ")\n",
    "ve.calculateValue()\n",
    "print(\"Portfolio PV:\", ve.value)"
   ]
  },
  {
   "cell_type": "markdown",
   "id": "98ad90d0",
   "metadata": {},
   "source": [
    "## 9. Value Swaps (IBOR & OIS)"
   ]
  },
  {
   "cell_type": "code",
   "execution_count": null,
   "id": "d68971ec",
   "metadata": {},
   "outputs": [
    {
     "ename": "AttributeError",
     "evalue": "'NoneType' object has no attribute 'isOvernightIndex'",
     "output_type": "error",
     "traceback": [
      "\u001b[1;31m---------------------------------------------------------------------------\u001b[0m",
      "\u001b[1;31mAttributeError\u001b[0m                            Traceback (most recent call last)",
      "Cell \u001b[1;32mIn[36], line 15\u001b[0m\n\u001b[0;32m      2\u001b[0m ibor_swap \u001b[38;5;241m=\u001b[39m ProductIborSwap(\n\u001b[0;32m      3\u001b[0m     effectiveDate\u001b[38;5;241m=\u001b[39m\u001b[38;5;124m\"\u001b[39m\u001b[38;5;124m2025-06-27\u001b[39m\u001b[38;5;124m\"\u001b[39m,\n\u001b[0;32m      4\u001b[0m     maturityDate\u001b[38;5;241m=\u001b[39m\u001b[38;5;124m\"\u001b[39m\u001b[38;5;124m2026-06-27\u001b[39m\u001b[38;5;124m\"\u001b[39m,\n\u001b[1;32m   (...)\u001b[0m\n\u001b[0;32m     10\u001b[0m     position\u001b[38;5;241m=\u001b[39m\u001b[38;5;124m\"\u001b[39m\u001b[38;5;124mSHORT\u001b[39m\u001b[38;5;124m\"\u001b[39m\n\u001b[0;32m     11\u001b[0m )\n\u001b[0;32m     12\u001b[0m ve \u001b[38;5;241m=\u001b[39m ValuationEngineRegistry()\u001b[38;5;241m.\u001b[39mnew_valuation_engine(\n\u001b[0;32m     13\u001b[0m     yc, {\u001b[38;5;124m\"\u001b[39m\u001b[38;5;124mFUNDING INDEX\u001b[39m\u001b[38;5;124m\"\u001b[39m: \u001b[38;5;124m\"\u001b[39m\u001b[38;5;124mSOFR-1B\u001b[39m\u001b[38;5;124m\"\u001b[39m}, ibor_swap\n\u001b[0;32m     14\u001b[0m )\n\u001b[1;32m---> 15\u001b[0m \u001b[43mve\u001b[49m\u001b[38;5;241;43m.\u001b[39;49m\u001b[43mcalculateValue\u001b[49m\u001b[43m(\u001b[49m\u001b[43m)\u001b[49m\n\u001b[0;32m     16\u001b[0m \u001b[38;5;28mprint\u001b[39m(\u001b[38;5;124m\"\u001b[39m\u001b[38;5;124mIBOR Swap PV:\u001b[39m\u001b[38;5;124m\"\u001b[39m, ve\u001b[38;5;241m.\u001b[39mvalue, \u001b[38;5;124m\"\u001b[39m\u001b[38;5;124mPar Rate:\u001b[39m\u001b[38;5;124m\"\u001b[39m, ve\u001b[38;5;241m.\u001b[39mparRateOrSpread())\n",
      "File \u001b[1;32mc:\\Users\\neels\\OneDrive\\Desktop\\Capstone_Project\\FixedIncomeLib\\yield_curve\\valuation_engine_yc.py:253\u001b[0m, in \u001b[0;36mValuationEngineInterestRateStream.calculateValue\u001b[1;34m(self)\u001b[0m\n\u001b[0;32m    252\u001b[0m \u001b[38;5;28;01mdef\u001b[39;00m\u001b[38;5;250m \u001b[39m\u001b[38;5;21mcalculateValue\u001b[39m(\u001b[38;5;28mself\u001b[39m):\n\u001b[1;32m--> 253\u001b[0m     \u001b[38;5;28;43mself\u001b[39;49m\u001b[38;5;241;43m.\u001b[39;49m\u001b[43m_float_engine\u001b[49m\u001b[38;5;241;43m.\u001b[39;49m\u001b[43mcalculateValue\u001b[49m\u001b[43m(\u001b[49m\u001b[43m)\u001b[49m\n\u001b[0;32m    254\u001b[0m     currency, pv_float \u001b[38;5;241m=\u001b[39m \u001b[38;5;28mself\u001b[39m\u001b[38;5;241m.\u001b[39m_float_engine\u001b[38;5;241m.\u001b[39mvalue_\n\u001b[0;32m    255\u001b[0m     \u001b[38;5;28mself\u001b[39m\u001b[38;5;241m.\u001b[39m_fixed_engine\u001b[38;5;241m.\u001b[39mcalculateValue()\n",
      "File \u001b[1;32mc:\\Users\\neels\\OneDrive\\Desktop\\Capstone_Project\\FixedIncomeLib\\yield_curve\\valuation_engine_yc.py:222\u001b[0m, in \u001b[0;36mValuationEngineProductPortfolio.calculateValue\u001b[1;34m(self)\u001b[0m\n\u001b[0;32m    219\u001b[0m currency \u001b[38;5;241m=\u001b[39m \u001b[38;5;28;01mNone\u001b[39;00m\n\u001b[0;32m    221\u001b[0m \u001b[38;5;28;01mfor\u001b[39;00m eng \u001b[38;5;129;01min\u001b[39;00m \u001b[38;5;28mself\u001b[39m\u001b[38;5;241m.\u001b[39m_engines:\n\u001b[1;32m--> 222\u001b[0m     \u001b[43meng\u001b[49m\u001b[38;5;241;43m.\u001b[39;49m\u001b[43mcalculateValue\u001b[49m\u001b[43m(\u001b[49m\u001b[43m)\u001b[49m\n\u001b[0;32m    223\u001b[0m     currency, pv \u001b[38;5;241m=\u001b[39m eng\u001b[38;5;241m.\u001b[39mvalue_\n\u001b[0;32m    224\u001b[0m     total_pv \u001b[38;5;241m+\u001b[39m\u001b[38;5;241m=\u001b[39m pv\n",
      "File \u001b[1;32mc:\\Users\\neels\\OneDrive\\Desktop\\Capstone_Project\\FixedIncomeLib\\yield_curve\\valuation_engine_yc.py:46\u001b[0m, in \u001b[0;36mValuationEngineProductIborCashflow.calculateValue\u001b[1;34m(self)\u001b[0m\n\u001b[0;32m     45\u001b[0m \u001b[38;5;28;01mdef\u001b[39;00m\u001b[38;5;250m \u001b[39m\u001b[38;5;21mcalculateValue\u001b[39m(\u001b[38;5;28mself\u001b[39m):\n\u001b[1;32m---> 46\u001b[0m     forward_rate   \u001b[38;5;241m=\u001b[39m \u001b[38;5;28;43mself\u001b[39;49m\u001b[38;5;241;43m.\u001b[39;49m\u001b[43mmodel\u001b[49m\u001b[38;5;241;43m.\u001b[39;49m\u001b[43mforward\u001b[49m\u001b[43m(\u001b[49m\u001b[38;5;28;43mself\u001b[39;49m\u001b[38;5;241;43m.\u001b[39;49m\u001b[43mindex_name\u001b[49m\u001b[43m,\u001b[49m\u001b[43m \u001b[49m\u001b[38;5;28;43mself\u001b[39;49m\u001b[38;5;241;43m.\u001b[39;49m\u001b[43mstart_date\u001b[49m\u001b[43m,\u001b[49m\u001b[43m \u001b[49m\u001b[38;5;28;43mself\u001b[39;49m\u001b[38;5;241;43m.\u001b[39;49m\u001b[43mend_date\u001b[49m\u001b[43m)\u001b[49m\n\u001b[0;32m     47\u001b[0m     pnl            \u001b[38;5;241m=\u001b[39m forward_rate \u001b[38;5;241m*\u001b[39m \u001b[38;5;28mself\u001b[39m\u001b[38;5;241m.\u001b[39maccrualFactor \u001b[38;5;241m*\u001b[39m \u001b[38;5;28mself\u001b[39m\u001b[38;5;241m.\u001b[39mnotional \u001b[38;5;241m*\u001b[39m \u001b[38;5;28mself\u001b[39m\u001b[38;5;241m.\u001b[39mdirection\n\u001b[0;32m     48\u001b[0m     \u001b[38;5;28mself\u001b[39m\u001b[38;5;241m.\u001b[39mvalue_    \u001b[38;5;241m=\u001b[39m [\u001b[38;5;28mself\u001b[39m\u001b[38;5;241m.\u001b[39mcurrency\u001b[38;5;241m.\u001b[39mvalue\u001b[38;5;241m.\u001b[39mcode(), pnl]\n",
      "File \u001b[1;32mc:\\Users\\neels\\OneDrive\\Desktop\\Capstone_Project\\FixedIncomeLib\\yield_curve\\yield_curve_model.py:41\u001b[0m, in \u001b[0;36mYieldCurve.forward\u001b[1;34m(self, index, effectiveDate, termOrTerminationDate)\u001b[0m\n\u001b[0;32m     39\u001b[0m \u001b[38;5;28;01mdef\u001b[39;00m\u001b[38;5;250m \u001b[39m\u001b[38;5;21mforward\u001b[39m(\u001b[38;5;28mself\u001b[39m, index : \u001b[38;5;28mstr\u001b[39m, effectiveDate : Union[Date, \u001b[38;5;28mstr\u001b[39m], termOrTerminationDate : Optional[Union[\u001b[38;5;28mstr\u001b[39m, TermOrTerminationDate]]\u001b[38;5;241m=\u001b[39m\u001b[38;5;124m'\u001b[39m\u001b[38;5;124m'\u001b[39m):\n\u001b[0;32m     40\u001b[0m     component \u001b[38;5;241m=\u001b[39m \u001b[38;5;28mself\u001b[39m\u001b[38;5;241m.\u001b[39mretrieveComponent(index)\n\u001b[1;32m---> 41\u001b[0m     isOIS \u001b[38;5;241m=\u001b[39m \u001b[43mcomponent\u001b[49m\u001b[38;5;241;43m.\u001b[39;49m\u001b[43misOvernightIndex\u001b[49m\n\u001b[0;32m     42\u001b[0m     \u001b[38;5;28;01mif\u001b[39;00m isOIS:\n\u001b[0;32m     43\u001b[0m         \u001b[38;5;28;01mif\u001b[39;00m \u001b[38;5;28misinstance\u001b[39m(termOrTerminationDate, \u001b[38;5;28mstr\u001b[39m) \u001b[38;5;129;01mand\u001b[39;00m termOrTerminationDate \u001b[38;5;241m==\u001b[39m \u001b[38;5;124m'\u001b[39m\u001b[38;5;124m'\u001b[39m:\n",
      "\u001b[1;31mAttributeError\u001b[0m: 'NoneType' object has no attribute 'isOvernightIndex'"
     ]
    }
   ],
   "source": [
    "# IBOR Swap\n",
    "ibor_swap = ProductIborSwap(\n",
    "    effectiveDate=\"2025-06-27\",\n",
    "    maturityDate=\"2026-06-27\",\n",
    "    frequency=\"6M\",\n",
    "    iborIndex=\"USD-LIBOR-BBA-3M\",\n",
    "    spread=0.0,\n",
    "    fixedRate=0.015,\n",
    "    notional=1_000_000,\n",
    "    position=\"SHORT\"\n",
    ")\n",
    "ve = ValuationEngineRegistry().new_valuation_engine(\n",
    "    yc, {\"FUNDING INDEX\": \"SOFR-1B\"}, ibor_swap\n",
    ")\n",
    "ve.calculateValue()\n",
    "print(\"IBOR Swap PV:\", ve.value, \"Par Rate:\", ve.parRateOrSpread())\n",
    "\n"
   ]
  },
  {
   "cell_type": "code",
   "execution_count": 15,
   "id": "54c66a9b",
   "metadata": {},
   "outputs": [
    {
     "name": "stdout",
     "output_type": "stream",
     "text": [
      "OIS Swap PV: ['USD', np.float64(3168.6548769419023)] Par Rate: 0.04172994460177388\n"
     ]
    }
   ],
   "source": [
    "# OIS Swap\n",
    "ois_swap = ProductOvernightSwap(\n",
    "    effectiveDate=\"2025-09-24\",\n",
    "    maturityDate=\"2026-09-24\",\n",
    "    frequency=\"6M\",\n",
    "    overnightIndex=\"SOFR-1B\",\n",
    "    spread=0.0,\n",
    "    fixedRate=0.045,\n",
    "    notional=1000000,\n",
    "    position=\"LONG\"\n",
    ")\n",
    "ve = ValuationEngineRegistry().new_valuation_engine(\n",
    "    yc, {\"FUNDING INDEX\": \"SOFR-1B\"}, ois_swap\n",
    ")\n",
    "ve.calculateValue()\n",
    "print(\"OIS Swap PV:\", ve.value, \"Par Rate:\", ve.parRateOrSpread())"
   ]
  }
 ],
 "metadata": {
  "kernelspec": {
   "display_name": "Python 3",
   "language": "python",
   "name": "python3"
  },
  "language_info": {
   "codemirror_mode": {
    "name": "ipython",
    "version": 3
   },
   "file_extension": ".py",
   "mimetype": "text/x-python",
   "name": "python",
   "nbconvert_exporter": "python",
   "pygments_lexer": "ipython3",
   "version": "3.12.5"
  }
 },
 "nbformat": 4,
 "nbformat_minor": 5
}

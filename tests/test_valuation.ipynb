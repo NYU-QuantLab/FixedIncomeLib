{
 "cells": [
  {
   "cell_type": "markdown",
   "id": "f3afdb13",
   "metadata": {},
   "source": [
    "# Test Valuation Engines\n",
    "\n",
    "This notebook walks through:\n",
    "\n",
    "1. Loading historical SOFR fixings\n",
    "2. Building a simple two-index yield curve\n",
    "3. Valuing various products (bullet, IBOR cashflow, OIS cashflow, futures, swaps)\n",
    "\n",
    "---"
   ]
  },
  {
   "cell_type": "markdown",
   "id": "5906bcce",
   "metadata": {},
   "source": [
    "## 1. Imports & Setup"
   ]
  },
  {
   "cell_type": "code",
   "execution_count": 1,
   "id": "6b871334",
   "metadata": {},
   "outputs": [
    {
     "name": "stdout",
     "output_type": "stream",
     "text": [
      "Added to sys.path: c:\\Users\\neels\\OneDrive\\Desktop\\Capstone_Project\\FixedIncomeLib\n"
     ]
    }
   ],
   "source": [
    "import sys, os\n",
    "\n",
    "# compute the parent of tests → FixedIncomeLib\n",
    "repo_root = os.path.abspath(os.path.join(os.getcwd(), \"..\"))\n",
    "if repo_root not in sys.path:\n",
    "    sys.path.insert(0, repo_root)\n",
    "\n",
    "print(\"Added to sys.path:\", repo_root)"
   ]
  },
  {
   "cell_type": "code",
   "execution_count": 2,
   "id": "1a70b19e",
   "metadata": {},
   "outputs": [],
   "source": [
    "import pandas as pd\n",
    "from date import Date\n",
    "from yield_curve import YieldCurve\n",
    "from valuation import IndexManager\n",
    "from valuation import ValuationEngineRegistry\n",
    "from product import (\n",
    "    ProductBulletCashflow,\n",
    "    ProductIborCashflow,\n",
    "    ProductOvernightIndexCashflow,\n",
    "    ProductFuture,\n",
    "    ProductRfrFuture,\n",
    "    ProductIborSwap,\n",
    "    ProductOvernightSwap,\n",
    "    ProductPortfolio )"
   ]
  },
  {
   "cell_type": "markdown",
   "id": "2784cc5a",
   "metadata": {},
   "source": [
    "## 2. Load SOFR Fixings"
   ]
  },
  {
   "cell_type": "code",
   "execution_count": 3,
   "id": "baa8d46f",
   "metadata": {},
   "outputs": [
    {
     "data": {
      "text/plain": [
       "<valuation.index_fixing_registry.IndexManager at 0x23964719550>"
      ]
     },
     "execution_count": 3,
     "metadata": {},
     "output_type": "execute_result"
    }
   ],
   "source": [
    "IndexManager.instance()"
   ]
  },
  {
   "cell_type": "markdown",
   "id": "198c2da2",
   "metadata": {},
   "source": [
    "## 3. Build Dummy Yield Curve"
   ]
  },
  {
   "cell_type": "code",
   "execution_count": 4,
   "id": "18f50f5f",
   "metadata": {},
   "outputs": [
    {
     "name": "stdout",
     "output_type": "stream",
     "text": [
      "Curve components: dict_keys(['SOFR-1B', 'USD-LIBOR-BBA-3M'])\n"
     ]
    }
   ],
   "source": [
    "DUMMY_DATA = [\n",
    "    [\"SOFR-1B\",            \"1M\",  0.0020],\n",
    "    [\"SOFR-1B\",            \"3M\",  0.0025],\n",
    "    [\"SOFR-1B\",            \"6M\",  0.0030],\n",
    "    [\"USD-LIBOR-BBA-3M\",   \"1M\",  0.0040],\n",
    "    [\"USD-LIBOR-BBA-3M\",   \"3M\",  0.00425],\n",
    "    [\"USD-LIBOR-BBA-3M\",   \"6M\",  0.00450],\n",
    "]\n",
    "build_methods = [\n",
    "    {\"TARGET\": \"SOFR-1B\",          \"INTERPOLATION METHOD\": \"PIECEWISE_CONSTANT\"},\n",
    "    {\"TARGET\": \"USD-LIBOR-BBA-3M\", \"INTERPOLATION METHOD\": \"PIECEWISE_CONSTANT\"},\n",
    "]\n",
    "# Construct DataFrame and YieldCurve as of 2025-06-27\n",
    "df_curve = pd.DataFrame(DUMMY_DATA, columns=[\"INDEX\", \"AXIS1\", \"VALUES\"])\n",
    "yc = YieldCurve(\"2025-06-27\", df_curve, build_methods)\n",
    "print(\"Curve components:\", yc.components.keys())"
   ]
  },
  {
   "cell_type": "markdown",
   "id": "acd22392",
   "metadata": {},
   "source": [
    "\n",
    "## 4. Value Bullet Cashflow\n"
   ]
  },
  {
   "cell_type": "code",
   "execution_count": 5,
   "id": "9308d8e3",
   "metadata": {},
   "outputs": [
    {
     "name": "stdout",
     "output_type": "stream",
     "text": [
      "Bullet CF PV: ['USD', np.float64(991474.0537980911)]\n"
     ]
    }
   ],
   "source": [
    "# Bullet cashflow PV\n",
    "bullet = ProductBulletCashflow(\"2028-05-25\", \"USD\", 1_000_000, \"LONG\")\n",
    "ve = ValuationEngineRegistry().new_valuation_engine(\n",
    "    yc,\n",
    "    {\"FUNDING INDEX\": \"SOFR-1B\"},\n",
    "    bullet\n",
    ")\n",
    "ve.calculateValue()\n",
    "print(\"Bullet CF PV:\", ve.value)"
   ]
  },
  {
   "cell_type": "markdown",
   "id": "c3d30e6f",
   "metadata": {},
   "source": [
    "## 5. Value IBOR Cashflow"
   ]
  },
  {
   "cell_type": "code",
   "execution_count": 6,
   "id": "67eee95c",
   "metadata": {},
   "outputs": [
    {
     "name": "stdout",
     "output_type": "stream",
     "text": [
      "Ibor CF PV: ['USD', np.float64(-1019.824662745844)]\n"
     ]
    }
   ],
   "source": [
    "ibor_cf = ProductIborCashflow(\n",
    "    startDate=\"2025-06-27\",\n",
    "    endDate=\"2025-09-27\",\n",
    "    index=\"USD-LIBOR-BBA-3M\",\n",
    "    spread=0.0,\n",
    "    notional=1_000_000,\n",
    "    longOrShort=\"SHORT\"\n",
    ")\n",
    "ve = ValuationEngineRegistry().new_valuation_engine(yc, {}, ibor_cf)\n",
    "ve.calculateValue()\n",
    "print(\"Ibor CF PV:\", ve.value)"
   ]
  },
  {
   "cell_type": "markdown",
   "id": "5c7fa069",
   "metadata": {},
   "source": [
    "## 6. Value OIS Cashflow"
   ]
  },
  {
   "cell_type": "code",
   "execution_count": 7,
   "id": "22adc754",
   "metadata": {},
   "outputs": [
    {
     "name": "stdout",
     "output_type": "stream",
     "text": [
      "OIS CF PV: ['USD', np.float64(561.0250872598588)]\n"
     ]
    }
   ],
   "source": [
    "ois_cf = ProductOvernightIndexCashflow(\n",
    "    effectiveDate=\"2025-06-27\",\n",
    "    termOrEnd=\"3M\",\n",
    "    index=\"SOFR-1B\",\n",
    "    compounding=\"COMPOUND\",\n",
    "    spread=0.0,\n",
    "    notional=1_000_000,\n",
    "    longOrShort=\"LONG\"\n",
    ")\n",
    "ve = ValuationEngineRegistry().new_valuation_engine(\n",
    "    yc,\n",
    "    {\"valuation_date\": Date(\"2025-07-01\")},\n",
    "    ois_cf\n",
    ")\n",
    "ve.calculateValue()\n",
    "print(\"OIS CF PV:\", ve.value)"
   ]
  },
  {
   "cell_type": "markdown",
   "id": "2a849170",
   "metadata": {},
   "source": [
    "## 7. Value Futures"
   ]
  },
  {
   "cell_type": "code",
   "execution_count": 8,
   "id": "f0ae0b67",
   "metadata": {},
   "outputs": [
    {
     "name": "stdout",
     "output_type": "stream",
     "text": [
      "Future PV: ['USD', np.float64(92070.13490166105)]\n"
     ]
    }
   ],
   "source": [
    "# IBOR Future PV\n",
    "future = ProductFuture(\n",
    "    effectiveDate=\"2025-06-27\",\n",
    "    index=\"USD-LIBOR-BBA-3M\",\n",
    "    strike=99.5,\n",
    "    notional=1_000_000,\n",
    "    longOrShort=\"LONG\"\n",
    ")\n",
    "ve = ValuationEngineRegistry().new_valuation_engine(yc, {}, future)\n",
    "ve.calculateValue()\n",
    "print(\"Future PV:\", ve.value)"
   ]
  },
  {
   "cell_type": "code",
   "execution_count": 9,
   "id": "0ac7eafe",
   "metadata": {},
   "outputs": [
    {
     "name": "stdout",
     "output_type": "stream",
     "text": [
      "RFR Future PV: ['USD', np.float64(-243897.49127401217)]\n"
     ]
    }
   ],
   "source": [
    "# RFR Future PV\n",
    "rfr_future = ProductRfrFuture(\n",
    "    effectiveDate=\"2025-06-27\",\n",
    "    termOrEnd=\"3M\",\n",
    "    index=\"SOFR-1B\",\n",
    "    compounding=\"AVERAGE\",\n",
    "    strike=99.7,\n",
    "    notional=1_000_000,\n",
    "    longOrShort=\"SHORT\"\n",
    ")\n",
    "ve = ValuationEngineRegistry().new_valuation_engine(\n",
    "    yc,\n",
    "    {\"valuation_date\": Date(\"2025-07-01\")},\n",
    "    rfr_future\n",
    ")\n",
    "ve.calculateValue()\n",
    "print(\"RFR Future PV:\", ve.value)"
   ]
  },
  {
   "cell_type": "markdown",
   "id": "2160ef05",
   "metadata": {},
   "source": [
    "## 8. Value a Portfolio"
   ]
  },
  {
   "cell_type": "code",
   "execution_count": 10,
   "id": "20a9303b",
   "metadata": {},
   "outputs": [
    {
     "name": "stdout",
     "output_type": "stream",
     "text": [
      "Portfolio PV: ['USD', np.float64(990454.2291353453)]\n"
     ]
    }
   ],
   "source": [
    "# Simple portfolio of bullet + IBOR CF\n",
    "portfolio = ProductPortfolio([bullet, ibor_cf], weights=[0.5, 0.5])\n",
    "ve = ValuationEngineRegistry().new_valuation_engine(\n",
    "    yc,\n",
    "    {\"FUNDING INDEX\": \"SOFR-1B\", \"valuation_date\": Date(\"2025-07-01\")},\n",
    "    portfolio\n",
    ")\n",
    "ve.calculateValue()\n",
    "print(\"Portfolio PV:\", ve.value)"
   ]
  },
  {
   "cell_type": "markdown",
   "id": "98ad90d0",
   "metadata": {},
   "source": [
    "## 9. Value Swaps (IBOR & OIS)"
   ]
  },
  {
   "cell_type": "code",
   "execution_count": 11,
   "id": "d68971ec",
   "metadata": {},
   "outputs": [
    {
     "name": "stdout",
     "output_type": "stream",
     "text": [
      "IBOR Swap PV: ['USD', np.float64(-2000126.8763746223)] Par Rate: 32.41980827800543\n"
     ]
    }
   ],
   "source": [
    "# IBOR Swap\n",
    "ibor_swap = ProductIborSwap(\n",
    "    effectiveDate=\"2025-06-27\",\n",
    "    maturityDate=\"2026-06-27\",\n",
    "    frequency=\"6M\",\n",
    "    iborIndex=\"USD-LIBOR-BBA-3M\",\n",
    "    spread=0.0,\n",
    "    fixedRate=0.015,\n",
    "    notional=1_000_000,\n",
    "    position=\"SHORT\"\n",
    ")\n",
    "ve = ValuationEngineRegistry().new_valuation_engine(\n",
    "    yc, {\"FUNDING INDEX\": \"SOFR-1B\"}, ibor_swap\n",
    ")\n",
    "ve.calculateValue()\n",
    "print(\"IBOR Swap PV:\", ve.value, \"Par Rate:\", ve.parRate())"
   ]
  },
  {
   "cell_type": "code",
   "execution_count": 12,
   "id": "54c66a9b",
   "metadata": {},
   "outputs": [
    {
     "name": "stdout",
     "output_type": "stream",
     "text": [
      "OIS Swap PV: ['USD', np.float64(1999949.24423121)] Par Rate: 31.084772494647435\n"
     ]
    }
   ],
   "source": [
    "# OIS Swap\n",
    "ois_swap = ProductOvernightSwap(\n",
    "    effectiveDate=\"2025-06-27\",\n",
    "    maturityDate=\"2026-06-27\",\n",
    "    frequency=\"6M\",\n",
    "    overnightIndex=\"SOFR-1B\",\n",
    "    spread=0.0,\n",
    "    fixedRate=0.015,\n",
    "    notional=1_000_000,\n",
    "    position=\"LONG\"\n",
    ")\n",
    "ve = ValuationEngineRegistry().new_valuation_engine(\n",
    "    yc, {\"FUNDING INDEX\": \"SOFR-1B\"}, ois_swap\n",
    ")\n",
    "ve.calculateValue()\n",
    "print(\"OIS Swap PV:\", ve.value, \"Par Rate:\", ve.parRate())"
   ]
  }
 ],
 "metadata": {
  "kernelspec": {
   "display_name": "Python 3",
   "language": "python",
   "name": "python3"
  },
  "language_info": {
   "codemirror_mode": {
    "name": "ipython",
    "version": 3
   },
   "file_extension": ".py",
   "mimetype": "text/x-python",
   "name": "python",
   "nbconvert_exporter": "python",
   "pygments_lexer": "ipython3",
   "version": "3.12.5"
  }
 },
 "nbformat": 4,
 "nbformat_minor": 5
}

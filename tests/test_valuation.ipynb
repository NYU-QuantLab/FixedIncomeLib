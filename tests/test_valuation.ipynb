{
 "cells": [
  {
   "cell_type": "markdown",
   "id": "f3afdb13",
   "metadata": {},
   "source": [
    "# Test Valuation Engines\n",
    "\n",
    "This notebook walks through:\n",
    "\n",
    "1. Loading historical SOFR fixings\n",
    "2. Building a simple two-index yield curve\n",
    "3. Valuing various products (bullet, IBOR cashflow, OIS cashflow, futures, swaps)\n",
    "\n",
    "---"
   ]
  },
  {
   "cell_type": "markdown",
   "id": "5906bcce",
   "metadata": {},
   "source": [
    "## 1. Imports & Setup"
   ]
  },
  {
   "cell_type": "code",
   "execution_count": 1,
   "id": "6b871334",
   "metadata": {},
   "outputs": [
    {
     "name": "stdout",
     "output_type": "stream",
     "text": [
      "Added to sys.path: c:\\Users\\neels\\OneDrive\\Desktop\\Capstone_Project\\FixedIncomeLib\n"
     ]
    }
   ],
   "source": [
    "import sys, os\n",
    "\n",
    "# compute the parent of tests → FixedIncomeLib\n",
    "repo_root = os.path.abspath(os.path.join(os.getcwd(), \"..\"))\n",
    "if repo_root not in sys.path:\n",
    "    sys.path.insert(0, repo_root)\n",
    "\n",
    "print(\"Added to sys.path:\", repo_root)"
   ]
  },
  {
   "cell_type": "code",
   "execution_count": null,
   "id": "1a70b19e",
   "metadata": {},
   "outputs": [
    {
     "ename": "NameError",
     "evalue": "name 'Iterable' is not defined",
     "output_type": "error",
     "traceback": [
      "\u001b[1;31m---------------------------------------------------------------------------\u001b[0m",
      "\u001b[1;31mNameError\u001b[0m                                 Traceback (most recent call last)",
      "Cell \u001b[1;32mIn[2], line 16\u001b[0m\n\u001b[0;32m      6\u001b[0m \u001b[38;5;28;01mfrom\u001b[39;00m\u001b[38;5;250m \u001b[39m\u001b[38;5;21;01mvaluation\u001b[39;00m\u001b[38;5;250m \u001b[39m\u001b[38;5;28;01mimport\u001b[39;00m ValuationEngineRegistry\n\u001b[0;32m      7\u001b[0m \u001b[38;5;28;01mfrom\u001b[39;00m\u001b[38;5;250m \u001b[39m\u001b[38;5;21;01mproduct\u001b[39;00m\u001b[38;5;250m \u001b[39m\u001b[38;5;28;01mimport\u001b[39;00m (\n\u001b[0;32m      8\u001b[0m     ProductBulletCashflow,\n\u001b[0;32m      9\u001b[0m     ProductIborCashflow,\n\u001b[1;32m   (...)\u001b[0m\n\u001b[0;32m     14\u001b[0m     ProductOvernightSwap,\n\u001b[0;32m     15\u001b[0m     ProductPortfolio )\n\u001b[1;32m---> 16\u001b[0m \u001b[38;5;28;01mfrom\u001b[39;00m\u001b[38;5;250m \u001b[39m\u001b[38;5;21;01mbuilders\u001b[39;00m\u001b[38;5;250m \u001b[39m\u001b[38;5;28;01mimport\u001b[39;00m create_products_from_data1d\n\u001b[0;32m     17\u001b[0m \u001b[38;5;28;01mfrom\u001b[39;00m\u001b[38;5;250m \u001b[39m\u001b[38;5;21;01mbuilders\u001b[39;00m\u001b[38;5;250m \u001b[39m\u001b[38;5;28;01mimport\u001b[39;00m build_yc_calibration_basket\n\u001b[0;32m     18\u001b[0m \u001b[38;5;28;01mfrom\u001b[39;00m\u001b[38;5;250m \u001b[39m\u001b[38;5;21;01mproduct\u001b[39;00m\u001b[38;5;21;01m.\u001b[39;00m\u001b[38;5;21;01mproduct_display_visitor\u001b[39;00m\u001b[38;5;250m \u001b[39m\u001b[38;5;28;01mimport\u001b[39;00m RfrFutureVisitor, OvernightSwapVisitor\n",
      "File \u001b[1;32mc:\\Users\\neels\\OneDrive\\Desktop\\Capstone_Project\\FixedIncomeLib\\builders\\__init__.py:4\u001b[0m\n\u001b[0;32m      2\u001b[0m \u001b[38;5;28;01mfrom\u001b[39;00m\u001b[38;5;250m \u001b[39m\u001b[38;5;21;01m.\u001b[39;00m\u001b[38;5;21;01mproduct_builder_registry\u001b[39;00m\u001b[38;5;250m \u001b[39m\u001b[38;5;28;01mimport\u001b[39;00m ProductBuilderRegistry\n\u001b[0;32m      3\u001b[0m \u001b[38;5;28;01mfrom\u001b[39;00m\u001b[38;5;250m \u001b[39m\u001b[38;5;21;01m.\u001b[39;00m\u001b[38;5;21;01minstrument_builders\u001b[39;00m\u001b[38;5;250m \u001b[39m\u001b[38;5;28;01mimport\u001b[39;00m create_products_from_data1d\n\u001b[1;32m----> 4\u001b[0m \u001b[38;5;28;01mfrom\u001b[39;00m\u001b[38;5;250m \u001b[39m\u001b[38;5;21;01m.\u001b[39;00m\u001b[38;5;21;01mbasket_builders\u001b[39;00m\u001b[38;5;250m \u001b[39m\u001b[38;5;28;01mimport\u001b[39;00m build_yc_calibration_basket\n\u001b[0;32m      6\u001b[0m __all__ \u001b[38;5;241m=\u001b[39m [\u001b[38;5;124m\"\u001b[39m\u001b[38;5;124mProductBuilderRegistry\u001b[39m\u001b[38;5;124m\"\u001b[39m, \u001b[38;5;124m\"\u001b[39m\u001b[38;5;124mcreate_products_from_data1d\u001b[39m\u001b[38;5;124m\"\u001b[39m, \u001b[38;5;124m\"\u001b[39m\u001b[38;5;124mbuild_yc_calibration_basket\u001b[39m\u001b[38;5;124m\"\u001b[39m]\n",
      "File \u001b[1;32mc:\\Users\\neels\\OneDrive\\Desktop\\Capstone_Project\\FixedIncomeLib\\builders\\basket_builders.py:3\u001b[0m\n\u001b[0;32m      1\u001b[0m \u001b[38;5;28;01mfrom\u001b[39;00m\u001b[38;5;250m \u001b[39m\u001b[38;5;21;01m.\u001b[39;00m\u001b[38;5;21;01mproduct_builder_registry\u001b[39;00m\u001b[38;5;250m \u001b[39m\u001b[38;5;28;01mimport\u001b[39;00m ProductBuilderRegistry\n\u001b[1;32m----> 3\u001b[0m \u001b[38;5;28;01mdef\u001b[39;00m\u001b[38;5;250m \u001b[39m\u001b[38;5;21mbuild_yc_calibration_basket\u001b[39m(\u001b[38;5;241m*\u001b[39m, value_date: \u001b[38;5;28mstr\u001b[39m, data_objs: \u001b[43mIterable\u001b[49m) \u001b[38;5;241m-\u001b[39m\u001b[38;5;241m>\u001b[39m CalibrationBasket:\n\u001b[0;32m      4\u001b[0m     basket \u001b[38;5;241m=\u001b[39m CalibrationBasket()\n\u001b[0;32m      5\u001b[0m     reg \u001b[38;5;241m=\u001b[39m ProductBuilderRegistry()\n",
      "\u001b[1;31mNameError\u001b[0m: name 'Iterable' is not defined"
     ]
    }
   ],
   "source": [
    "import pandas as pd\n",
    "from data import DataCollection, Data1D, build_yc_data_collection\n",
    "from date import Date\n",
    "from yield_curve import YieldCurve\n",
    "from valuation import IndexManager\n",
    "from valuation import ValuationEngineRegistry\n",
    "from product import (\n",
    "    ProductBulletCashflow,\n",
    "    ProductIborCashflow,\n",
    "    ProductOvernightIndexCashflow,\n",
    "    ProductFuture,\n",
    "    ProductRfrFuture,\n",
    "    ProductIborSwap,\n",
    "    ProductOvernightSwap,\n",
    "    ProductPortfolio )\n",
    "from builders import create_products_from_data1d\n",
    "from builders import build_yc_calibration_basket\n",
    "from product.product_display_visitor import RfrFutureVisitor, OvernightSwapVisitor"
   ]
  },
  {
   "cell_type": "markdown",
   "id": "2784cc5a",
   "metadata": {},
   "source": [
    "## 2. Load SOFR Fixings"
   ]
  },
  {
   "cell_type": "code",
   "execution_count": null,
   "id": "baa8d46f",
   "metadata": {},
   "outputs": [
    {
     "data": {
      "text/plain": [
       "<valuation.index_fixing_registry.IndexManager at 0x231eb351550>"
      ]
     },
     "execution_count": 16,
     "metadata": {},
     "output_type": "execute_result"
    }
   ],
   "source": [
    "IndexManager.instance()"
   ]
  },
  {
   "cell_type": "markdown",
   "id": "198c2da2",
   "metadata": {},
   "source": [
    "## 3. Build Dummy Yield Curve"
   ]
  },
  {
   "cell_type": "code",
   "execution_count": null,
   "id": "18f50f5f",
   "metadata": {},
   "outputs": [],
   "source": [
    "MARKET_DF = pd.DataFrame(\n",
    "    [\n",
    "        [\"RFR FUTURE\", \"SOFR-FUTURE-3M\", \"2025-05-05 x 2025-08-05\", 97.25],\n",
    "        [\"RFR FUTURE\", \"SOFR-FUTURE-3M\", \"2025-08-05 x 2025-11-05\", 97.40],\n",
    "        [\"RFR FUTURE\", \"SOFR-FUTURE-3M\", \"2025-11-05 x 2026-02-05\", 97.55],\n",
    "\n",
    "        [\"RFR SWAP\", \"USD-SOFR-OIS\", \"1Y\",  0.0450],\n",
    "        [\"RFR SWAP\", \"USD-SOFR-OIS\", \"2Y\",  0.0425],\n",
    "        [\"RFR SWAP\", \"USD-SOFR-OIS\", \"5Y\",  0.0370],\n",
    "        [\"RFR SWAP\", \"USD-SOFR-OIS\", \"10Y\", 0.0350],\n",
    "    ],\n",
    "    columns=[\"DATA TYPE\", \"DATA CONVENTION\", \"AXIS\", \"VALUE\"],\n",
    ")"
   ]
  },
  {
   "cell_type": "code",
   "execution_count": null,
   "id": "e63faaa8",
   "metadata": {},
   "outputs": [],
   "source": [
    "data_objs, dc = build_yc_data_collection(MARKET_DF)"
   ]
  },
  {
   "cell_type": "code",
   "execution_count": null,
   "id": "c59a4c9f",
   "metadata": {},
   "outputs": [],
   "source": [
    "def createproductfromdata(value_date: str, data_objs):\n",
    "    products = []\n",
    "    for d in data_objs:  \n",
    "        products.extend(create_products_from_data1d(value_date=value_date, data1d=d))\n",
    "    return products\n",
    "\n",
    "value_date = \"2025-01-02\"\n",
    "all_products = createproductfromdata(value_date, data_objs)\n"
   ]
  },
  {
   "cell_type": "code",
   "execution_count": null,
   "id": "70e3556d",
   "metadata": {},
   "outputs": [
    {
     "name": "stdout",
     "output_type": "stream",
     "text": [
      "\n",
      "[1] ProductRfrFuture\n",
      "         Attribute       Value\n",
      "0     MaturityDate  2025-08-05\n",
      "1    EffectiveDate  2025-05-05\n",
      "2  TerminationDate  2025-08-05\n",
      "3    AccrualFactor        0.25\n",
      "4      Compounding    COMPOUND\n",
      "5            Index     SOFR-1B\n",
      "6           Strike      0.0275\n",
      "7         Notional         1.0\n",
      "8         Currency         USD\n",
      "9      LongOrShort        LONG\n",
      "\n",
      "[2] ProductRfrFuture\n",
      "         Attribute       Value\n",
      "0     MaturityDate  2025-11-05\n",
      "1    EffectiveDate  2025-08-05\n",
      "2  TerminationDate  2025-11-05\n",
      "3    AccrualFactor        0.25\n",
      "4      Compounding    COMPOUND\n",
      "5            Index     SOFR-1B\n",
      "6           Strike       0.026\n",
      "7         Notional         1.0\n",
      "8         Currency         USD\n",
      "9      LongOrShort        LONG\n",
      "\n",
      "[3] ProductRfrFuture\n",
      "         Attribute       Value\n",
      "0     MaturityDate  2026-02-05\n",
      "1    EffectiveDate  2025-11-05\n",
      "2  TerminationDate  2026-02-05\n",
      "3    AccrualFactor        0.25\n",
      "4      Compounding    COMPOUND\n",
      "5            Index     SOFR-1B\n",
      "6           Strike      0.0245\n",
      "7         Notional         1.0\n",
      "8         Currency         USD\n",
      "9      LongOrShort        LONG\n",
      "\n",
      "[4] ProductOvernightSwap\n",
      "       Attribute       Value\n",
      "0  EffectiveDate  2025-01-06\n",
      "1   MaturityDate  2026-01-06\n",
      "2      FixedRate       0.045\n",
      "3          Index     SOFR-1B\n",
      "4       PayFixed       False\n",
      "5       Notional         1.0\n",
      "6       Currency         USD\n",
      "7    LongOrShort        LONG\n",
      "\n",
      "[5] ProductOvernightSwap\n",
      "       Attribute       Value\n",
      "0  EffectiveDate  2025-01-06\n",
      "1   MaturityDate  2027-01-06\n",
      "2      FixedRate      0.0425\n",
      "3          Index     SOFR-1B\n",
      "4       PayFixed       False\n",
      "5       Notional         1.0\n",
      "6       Currency         USD\n",
      "7    LongOrShort        LONG\n",
      "\n",
      "[6] ProductOvernightSwap\n",
      "       Attribute       Value\n",
      "0  EffectiveDate  2025-01-06\n",
      "1   MaturityDate  2030-01-07\n",
      "2      FixedRate       0.037\n",
      "3          Index     SOFR-1B\n",
      "4       PayFixed       False\n",
      "5       Notional         1.0\n",
      "6       Currency         USD\n",
      "7    LongOrShort        LONG\n",
      "\n",
      "[7] ProductOvernightSwap\n",
      "       Attribute       Value\n",
      "0  EffectiveDate  2025-01-06\n",
      "1   MaturityDate  2035-01-08\n",
      "2      FixedRate       0.035\n",
      "3          Index     SOFR-1B\n",
      "4       PayFixed       False\n",
      "5       Notional         1.0\n",
      "6       Currency         USD\n",
      "7    LongOrShort        LONG\n"
     ]
    }
   ],
   "source": [
    "for i, p in enumerate(all_products, 1):\n",
    "    if isinstance(p, ProductRfrFuture):\n",
    "        print(f\"\\n[{i}] ProductRfrFuture\")\n",
    "        print(p.accept(RfrFutureVisitor()))\n",
    "    elif isinstance(p, ProductOvernightSwap):\n",
    "        print(f\"\\n[{i}] ProductOvernightSwap\")\n",
    "        print(p.accept(OvernightSwapVisitor()))\n",
    "    else:\n",
    "        print(f\"\\n[{i}] {type(p).__name__}\")\n",
    "        try:\n",
    "            print(p.accept())\n",
    "        except Exception:\n",
    "            print(vars(p))\n"
   ]
  },
  {
   "cell_type": "code",
   "execution_count": null,
   "id": "a7be6511",
   "metadata": {},
   "outputs": [
    {
     "name": "stdout",
     "output_type": "stream",
     "text": [
      "Basket size: 7\n",
      "\n",
      "[1] RFR FUTURE  SOFR-FUTURE-3M  AXIS=('2025-05-05', '2025-08-05')  QUOTE=97.25\n",
      "         Attribute       Value\n",
      "0     MaturityDate  2025-08-05\n",
      "1    EffectiveDate  2025-05-05\n",
      "2  TerminationDate  2025-08-05\n",
      "3    AccrualFactor        0.25\n",
      "4      Compounding    COMPOUND\n",
      "5            Index     SOFR-1B\n",
      "6           Strike      0.0275\n",
      "7         Notional         1.0\n",
      "8         Currency         USD\n",
      "9      LongOrShort        LONG\n",
      "\n",
      "[2] RFR FUTURE  SOFR-FUTURE-3M  AXIS=('2025-08-05', '2025-11-05')  QUOTE=97.4\n",
      "         Attribute       Value\n",
      "0     MaturityDate  2025-11-05\n",
      "1    EffectiveDate  2025-08-05\n",
      "2  TerminationDate  2025-11-05\n",
      "3    AccrualFactor        0.25\n",
      "4      Compounding    COMPOUND\n",
      "5            Index     SOFR-1B\n",
      "6           Strike       0.026\n",
      "7         Notional         1.0\n",
      "8         Currency         USD\n",
      "9      LongOrShort        LONG\n",
      "\n",
      "[3] RFR FUTURE  SOFR-FUTURE-3M  AXIS=('2025-11-05', '2026-02-05')  QUOTE=97.55\n",
      "         Attribute       Value\n",
      "0     MaturityDate  2026-02-05\n",
      "1    EffectiveDate  2025-11-05\n",
      "2  TerminationDate  2026-02-05\n",
      "3    AccrualFactor        0.25\n",
      "4      Compounding    COMPOUND\n",
      "5            Index     SOFR-1B\n",
      "6           Strike      0.0245\n",
      "7         Notional         1.0\n",
      "8         Currency         USD\n",
      "9      LongOrShort        LONG\n",
      "\n",
      "[4] RFR SWAP  USD-SOFR-OIS  AXIS=1Y  QUOTE=0.045\n",
      "       Attribute       Value\n",
      "0  EffectiveDate  2025-01-06\n",
      "1   MaturityDate  2026-01-06\n",
      "2      FixedRate       0.045\n",
      "3          Index     SOFR-1B\n",
      "4       PayFixed       False\n",
      "5       Notional         1.0\n",
      "6       Currency         USD\n",
      "7    LongOrShort        LONG\n",
      "\n",
      "[5] RFR SWAP  USD-SOFR-OIS  AXIS=2Y  QUOTE=0.0425\n",
      "       Attribute       Value\n",
      "0  EffectiveDate  2025-01-06\n",
      "1   MaturityDate  2027-01-06\n",
      "2      FixedRate      0.0425\n",
      "3          Index     SOFR-1B\n",
      "4       PayFixed       False\n",
      "5       Notional         1.0\n",
      "6       Currency         USD\n",
      "7    LongOrShort        LONG\n",
      "\n",
      "[6] RFR SWAP  USD-SOFR-OIS  AXIS=5Y  QUOTE=0.037\n",
      "       Attribute       Value\n",
      "0  EffectiveDate  2025-01-06\n",
      "1   MaturityDate  2030-01-07\n",
      "2      FixedRate       0.037\n",
      "3          Index     SOFR-1B\n",
      "4       PayFixed       False\n",
      "5       Notional         1.0\n",
      "6       Currency         USD\n",
      "7    LongOrShort        LONG\n",
      "\n",
      "[7] RFR SWAP  USD-SOFR-OIS  AXIS=10Y  QUOTE=0.035\n",
      "       Attribute       Value\n",
      "0  EffectiveDate  2025-01-06\n",
      "1   MaturityDate  2035-01-08\n",
      "2      FixedRate       0.035\n",
      "3          Index     SOFR-1B\n",
      "4       PayFixed       False\n",
      "5       Notional         1.0\n",
      "6       Currency         USD\n",
      "7    LongOrShort        LONG\n"
     ]
    }
   ],
   "source": [
    "basket = build_yc_calibration_basket(value_date=\"2025-01-02\", data_objs=data_objs)\n",
    "for item in basket:\n",
    "    prod = item.product\n",
    "    quote = item.quote\n",
    "\n",
    "print(f\"Basket size: {len(basket)}\")\n",
    "for i, it in enumerate(basket, 1):\n",
    "    p = it.product\n",
    "    print(f\"\\n[{i}] {it.data_type}  {it.data_convention}  AXIS={it.axis}  QUOTE={it.quote}\")\n",
    "    if isinstance(p, ProductRfrFuture):\n",
    "        print(p.accept(RfrFutureVisitor()))\n",
    "    elif isinstance(p, ProductOvernightSwap):\n",
    "        print(p.accept(OvernightSwapVisitor()))\n",
    "    else:\n",
    "        print(type(p).__name__)\n",
    "        print(vars(p))"
   ]
  },
  {
   "cell_type": "code",
   "execution_count": null,
   "id": "199380c0",
   "metadata": {},
   "outputs": [],
   "source": [
    "build_methods = [\n",
    "    {\n",
    "      'TARGET':             'SOFR-1B',\n",
    "      'DATA_TYPE':          'ZERO_RATE',\n",
    "      'DATA_CONVENTION':    'SOFR-1B',\n",
    "      'INTERPOLATION_METHOD':'PIECEWISE_CONSTANT'\n",
    "    },\n",
    "    {\n",
    "      'TARGET':             'USD-LIBOR-BBA-3M',\n",
    "      'DATA_TYPE':          'ZERO_RATE',\n",
    "      'DATA_CONVENTION':    'USD-LIBOR-BBA-3M',\n",
    "      'INTERPOLATION_METHOD':'PIECEWISE_CONSTANT'\n",
    "    },\n",
    "]\n"
   ]
  },
  {
   "cell_type": "code",
   "execution_count": null,
   "id": "ebc90c11",
   "metadata": {},
   "outputs": [
    {
     "ename": "KeyError",
     "evalue": "\"No data for key ('zero_rate', 'SOFR-1B')\"",
     "output_type": "error",
     "traceback": [
      "\u001b[1;31m---------------------------------------------------------------------------\u001b[0m",
      "\u001b[1;31mKeyError\u001b[0m                                  Traceback (most recent call last)",
      "Cell \u001b[1;32mIn[23], line 1\u001b[0m\n\u001b[1;32m----> 1\u001b[0m yc \u001b[38;5;241m=\u001b[39m \u001b[43mYieldCurve\u001b[49m\u001b[43m(\u001b[49m\u001b[38;5;124;43m\"\u001b[39;49m\u001b[38;5;124;43m2025-06-27\u001b[39;49m\u001b[38;5;124;43m\"\u001b[39;49m\u001b[43m,\u001b[49m\u001b[43m \u001b[49m\u001b[43mdc\u001b[49m\u001b[43m,\u001b[49m\u001b[43m \u001b[49m\u001b[43mbuild_methods\u001b[49m\u001b[43m)\u001b[49m\n\u001b[0;32m      2\u001b[0m \u001b[38;5;28mprint\u001b[39m(\u001b[38;5;124m\"\u001b[39m\u001b[38;5;124mCurve components:\u001b[39m\u001b[38;5;124m\"\u001b[39m, yc\u001b[38;5;241m.\u001b[39mcomponents\u001b[38;5;241m.\u001b[39mkeys())\n",
      "File \u001b[1;32mc:\\Users\\neels\\OneDrive\\Desktop\\Capstone_Project\\FixedIncomeLib\\yield_curve\\yield_curve_model.py:19\u001b[0m, in \u001b[0;36mYieldCurve.__init__\u001b[1;34m(self, valueDate, dataCollection, buildMethodCollection)\u001b[0m\n\u001b[0;32m     18\u001b[0m \u001b[38;5;28;01mdef\u001b[39;00m\u001b[38;5;250m \u001b[39m\u001b[38;5;21m__init__\u001b[39m(\u001b[38;5;28mself\u001b[39m, valueDate: \u001b[38;5;28mstr\u001b[39m, dataCollection: DataCollection, buildMethodCollection: \u001b[38;5;28mlist\u001b[39m) \u001b[38;5;241m-\u001b[39m\u001b[38;5;241m>\u001b[39m \u001b[38;5;28;01mNone\u001b[39;00m:\n\u001b[1;32m---> 19\u001b[0m     \u001b[38;5;28;43msuper\u001b[39;49m\u001b[43m(\u001b[49m\u001b[43m)\u001b[49m\u001b[38;5;241;43m.\u001b[39;49m\u001b[38;5;21;43m__init__\u001b[39;49m\u001b[43m(\u001b[49m\u001b[43mvalueDate\u001b[49m\u001b[43m,\u001b[49m\u001b[43m \u001b[49m\u001b[38;5;124;43m'\u001b[39;49m\u001b[38;5;124;43mYIELD_CURVE\u001b[39;49m\u001b[38;5;124;43m'\u001b[39;49m\u001b[43m,\u001b[49m\u001b[43m \u001b[49m\u001b[43mdataCollection\u001b[49m\u001b[43m,\u001b[49m\u001b[43m \u001b[49m\u001b[43mbuildMethodCollection\u001b[49m\u001b[43m)\u001b[49m\n",
      "File \u001b[1;32mc:\\Users\\neels\\OneDrive\\Desktop\\Capstone_Project\\FixedIncomeLib\\model\\model.py:63\u001b[0m, in \u001b[0;36mModel.__init__\u001b[1;34m(self, valueDate, modelType, dataCollection, buildMethodCollection)\u001b[0m\n\u001b[0;32m     60\u001b[0m \u001b[38;5;28;01mif\u001b[39;00m prod:\n\u001b[0;32m     61\u001b[0m     key \u001b[38;5;241m=\u001b[39m \u001b[38;5;124mf\u001b[39m\u001b[38;5;124m\"\u001b[39m\u001b[38;5;132;01m{\u001b[39;00mkey\u001b[38;5;132;01m}\u001b[39;00m\u001b[38;5;124m-\u001b[39m\u001b[38;5;132;01m{\u001b[39;00mprod\u001b[38;5;132;01m}\u001b[39;00m\u001b[38;5;124m\"\u001b[39m\u001b[38;5;241m.\u001b[39mupper()\n\u001b[1;32m---> 63\u001b[0m \u001b[38;5;28mself\u001b[39m\u001b[38;5;241m.\u001b[39mcomponents[key] \u001b[38;5;241m=\u001b[39m \u001b[38;5;28;43mself\u001b[39;49m\u001b[38;5;241;43m.\u001b[39;49m\u001b[43mnewModelComponent\u001b[49m\u001b[43m(\u001b[49m\u001b[43mthis_bm\u001b[49m\u001b[43m)\u001b[49m\n",
      "File \u001b[1;32mc:\\Users\\neels\\OneDrive\\Desktop\\Capstone_Project\\FixedIncomeLib\\yield_curve\\yield_curve_model.py:22\u001b[0m, in \u001b[0;36mYieldCurve.newModelComponent\u001b[1;34m(self, buildMethod)\u001b[0m\n\u001b[0;32m     21\u001b[0m \u001b[38;5;28;01mdef\u001b[39;00m\u001b[38;5;250m \u001b[39m\u001b[38;5;21mnewModelComponent\u001b[39m(\u001b[38;5;28mself\u001b[39m, buildMethod: \u001b[38;5;28mdict\u001b[39m):\n\u001b[1;32m---> 22\u001b[0m     \u001b[38;5;28;01mreturn\u001b[39;00m \u001b[43mYieldCurveModelComponent\u001b[49m\u001b[43m(\u001b[49m\u001b[38;5;28;43mself\u001b[39;49m\u001b[38;5;241;43m.\u001b[39;49m\u001b[43mvalueDate\u001b[49m\u001b[43m,\u001b[49m\u001b[43m \u001b[49m\u001b[38;5;28;43mself\u001b[39;49m\u001b[38;5;241;43m.\u001b[39;49m\u001b[43mdataCollection\u001b[49m\u001b[43m,\u001b[49m\u001b[43m \u001b[49m\u001b[43mbuildMethod\u001b[49m\u001b[43m)\u001b[49m\n",
      "File \u001b[1;32mc:\\Users\\neels\\OneDrive\\Desktop\\Capstone_Project\\FixedIncomeLib\\yield_curve\\yield_curve_model.py:102\u001b[0m, in \u001b[0;36mYieldCurveModelComponent.__init__\u001b[1;34m(self, valueDate, dataCollection, buildMethod)\u001b[0m\n\u001b[0;32m    100\u001b[0m     tenor \u001b[38;5;241m=\u001b[39m tokenizedIndex[\u001b[38;5;241m-\u001b[39m\u001b[38;5;241m1\u001b[39m]\n\u001b[0;32m    101\u001b[0m     \u001b[38;5;28mself\u001b[39m\u001b[38;5;241m.\u001b[39mtargetIndex_ \u001b[38;5;241m=\u001b[39m IndexRegistry()\u001b[38;5;241m.\u001b[39m_instance\u001b[38;5;241m.\u001b[39mget(\u001b[38;5;124m'\u001b[39m\u001b[38;5;124m-\u001b[39m\u001b[38;5;124m'\u001b[39m\u001b[38;5;241m.\u001b[39mjoin(tokenizedIndex[:\u001b[38;5;241m-\u001b[39m\u001b[38;5;241m1\u001b[39m]), tenor)\n\u001b[1;32m--> 102\u001b[0m \u001b[38;5;28;43mself\u001b[39;49m\u001b[38;5;241;43m.\u001b[39;49m\u001b[43mcalibrate\u001b[49m\u001b[43m(\u001b[49m\u001b[43m)\u001b[49m\n",
      "File \u001b[1;32mc:\\Users\\neels\\OneDrive\\Desktop\\Capstone_Project\\FixedIncomeLib\\yield_curve\\yield_curve_model.py:106\u001b[0m, in \u001b[0;36mYieldCurveModelComponent.calibrate\u001b[1;34m(self)\u001b[0m\n\u001b[0;32m    104\u001b[0m \u001b[38;5;28;01mdef\u001b[39;00m\u001b[38;5;250m \u001b[39m\u001b[38;5;21mcalibrate\u001b[39m(\u001b[38;5;28mself\u001b[39m):\n\u001b[0;32m    105\u001b[0m     \u001b[38;5;66;03m### TODO: calibration to market instruments instead of directly feeding ifr\u001b[39;00m\n\u001b[1;32m--> 106\u001b[0m     md \u001b[38;5;241m=\u001b[39m \u001b[38;5;28;43mself\u001b[39;49m\u001b[38;5;241;43m.\u001b[39;49m\u001b[43mdataCollection\u001b[49m\u001b[38;5;241;43m.\u001b[39;49m\u001b[43mget\u001b[49m\u001b[43m(\u001b[49m\u001b[38;5;124;43m'\u001b[39;49m\u001b[38;5;124;43mzero_rate\u001b[39;49m\u001b[38;5;124;43m'\u001b[39;49m\u001b[43m,\u001b[49m\u001b[43m \u001b[49m\u001b[38;5;28;43mself\u001b[39;49m\u001b[38;5;241;43m.\u001b[39;49m\u001b[43mtarget\u001b[49m\u001b[43m)\u001b[49m\n\u001b[0;32m    107\u001b[0m     \u001b[38;5;28;01massert\u001b[39;00m \u001b[38;5;28misinstance\u001b[39m(md, Data1D)\n\u001b[0;32m    108\u001b[0m     \u001b[38;5;66;03m### TODO: axis1 can be a combination of dates and tenors\u001b[39;00m\n\u001b[0;32m    109\u001b[0m     \u001b[38;5;66;03m###       for now, i assume they're all tenor based\u001b[39;00m\n",
      "File \u001b[1;32mc:\\Users\\neels\\OneDrive\\Desktop\\Capstone_Project\\FixedIncomeLib\\data\\data_collection.py:22\u001b[0m, in \u001b[0;36mDataCollection.getDataFromDataCollection\u001b[1;34m(self, data_type, data_convention)\u001b[0m\n\u001b[0;32m     20\u001b[0m key \u001b[38;5;241m=\u001b[39m (data_type, data_convention)\n\u001b[0;32m     21\u001b[0m \u001b[38;5;28;01mif\u001b[39;00m key \u001b[38;5;129;01mnot\u001b[39;00m \u001b[38;5;129;01min\u001b[39;00m \u001b[38;5;28mself\u001b[39m\u001b[38;5;241m.\u001b[39mdataMap:\n\u001b[1;32m---> 22\u001b[0m     \u001b[38;5;28;01mraise\u001b[39;00m \u001b[38;5;167;01mKeyError\u001b[39;00m(\u001b[38;5;124mf\u001b[39m\u001b[38;5;124m\"\u001b[39m\u001b[38;5;124mNo data for key \u001b[39m\u001b[38;5;132;01m{\u001b[39;00mkey\u001b[38;5;132;01m}\u001b[39;00m\u001b[38;5;124m\"\u001b[39m)\n\u001b[0;32m     23\u001b[0m \u001b[38;5;28;01mreturn\u001b[39;00m \u001b[38;5;28mself\u001b[39m\u001b[38;5;241m.\u001b[39mdataMap[key]\n",
      "\u001b[1;31mKeyError\u001b[0m: \"No data for key ('zero_rate', 'SOFR-1B')\""
     ]
    }
   ],
   "source": [
    "yc = YieldCurve(\"2025-06-27\", dc, build_methods)\n",
    "print(\"Curve components:\", yc.components.keys())"
   ]
  },
  {
   "cell_type": "markdown",
   "id": "acd22392",
   "metadata": {},
   "source": [
    "\n",
    "## 4. Value Bullet Cashflow\n"
   ]
  },
  {
   "cell_type": "code",
   "execution_count": null,
   "id": "9308d8e3",
   "metadata": {},
   "outputs": [
    {
     "name": "stdout",
     "output_type": "stream",
     "text": [
      "Bullet CF PV: ['USD', np.float64(991474.0537980911)]\n"
     ]
    }
   ],
   "source": [
    "# Bullet cashflow PV\n",
    "bullet = ProductBulletCashflow(\"2028-05-25\", \"USD\", 1_000_000, \"LONG\")\n",
    "ve = ValuationEngineRegistry().new_valuation_engine(\n",
    "    yc,\n",
    "    {\"FUNDING INDEX\": \"SOFR-1B\"},\n",
    "    bullet\n",
    ")\n",
    "ve.calculateValue()\n",
    "print(\"Bullet CF PV:\", ve.value)"
   ]
  },
  {
   "cell_type": "markdown",
   "id": "c3d30e6f",
   "metadata": {},
   "source": [
    "## 5. Value IBOR Cashflow"
   ]
  },
  {
   "cell_type": "code",
   "execution_count": null,
   "id": "67eee95c",
   "metadata": {},
   "outputs": [
    {
     "name": "stdout",
     "output_type": "stream",
     "text": [
      "Ibor CF PV: ['USD', np.float64(-1019.824662745844)]\n"
     ]
    }
   ],
   "source": [
    "ibor_cf = ProductIborCashflow(\n",
    "    startDate=\"2025-06-27\",\n",
    "    endDate=\"2025-09-27\",\n",
    "    index=\"USD-LIBOR-BBA-3M\",\n",
    "    spread=0.0,\n",
    "    notional=1_000_000,\n",
    "    longOrShort=\"SHORT\"\n",
    ")\n",
    "ve = ValuationEngineRegistry().new_valuation_engine(yc, {}, ibor_cf)\n",
    "ve.calculateValue()\n",
    "print(\"Ibor CF PV:\", ve.value)"
   ]
  },
  {
   "cell_type": "markdown",
   "id": "5c7fa069",
   "metadata": {},
   "source": [
    "## 6. Value OIS Cashflow"
   ]
  },
  {
   "cell_type": "code",
   "execution_count": null,
   "id": "22adc754",
   "metadata": {},
   "outputs": [
    {
     "name": "stdout",
     "output_type": "stream",
     "text": [
      "OIS CF PV: ['USD', np.float64(561.0250872598588)]\n"
     ]
    }
   ],
   "source": [
    "ois_cf = ProductOvernightIndexCashflow(\n",
    "    effectiveDate=\"2025-06-27\",\n",
    "    termOrEnd=\"3M\",\n",
    "    index=\"SOFR-1B\",\n",
    "    compounding=\"COMPOUND\",\n",
    "    spread=0.0,\n",
    "    notional=1_000_000,\n",
    "    longOrShort=\"LONG\"\n",
    ")\n",
    "ve = ValuationEngineRegistry().new_valuation_engine(\n",
    "    yc,\n",
    "    {\"valuation_date\": Date(\"2025-07-01\")},\n",
    "    ois_cf\n",
    ")\n",
    "ve.calculateValue()\n",
    "print(\"OIS CF PV:\", ve.value)"
   ]
  },
  {
   "cell_type": "markdown",
   "id": "2a849170",
   "metadata": {},
   "source": [
    "## 7. Value Futures"
   ]
  },
  {
   "cell_type": "code",
   "execution_count": null,
   "id": "f0ae0b67",
   "metadata": {},
   "outputs": [
    {
     "name": "stdout",
     "output_type": "stream",
     "text": [
      "Future PV: ['USD', np.float64(92070.13490166105)]\n"
     ]
    }
   ],
   "source": [
    "# IBOR Future PV\n",
    "future = ProductFuture(\n",
    "    effectiveDate=\"2025-06-27\",\n",
    "    index=\"USD-LIBOR-BBA-3M\",\n",
    "    strike=99.5,\n",
    "    notional=1_000_000,\n",
    "    longOrShort=\"LONG\"\n",
    ")\n",
    "ve = ValuationEngineRegistry().new_valuation_engine(yc, {}, future)\n",
    "ve.calculateValue()\n",
    "print(\"Future PV:\", ve.value)"
   ]
  },
  {
   "cell_type": "code",
   "execution_count": null,
   "id": "0ac7eafe",
   "metadata": {},
   "outputs": [
    {
     "name": "stdout",
     "output_type": "stream",
     "text": [
      "RFR Future PV: ['USD', np.float64(-243897.49127401217)]\n"
     ]
    }
   ],
   "source": [
    "# RFR Future PV\n",
    "rfr_future = ProductRfrFuture(\n",
    "    effectiveDate=\"2025-06-27\",\n",
    "    termOrEnd=\"3M\",\n",
    "    index=\"SOFR-1B\",\n",
    "    compounding=\"AVERAGE\",\n",
    "    strike=99.7,\n",
    "    notional=1_000_000,\n",
    "    longOrShort=\"SHORT\"\n",
    ")\n",
    "ve = ValuationEngineRegistry().new_valuation_engine(\n",
    "    yc,\n",
    "    {\"valuation_date\": Date(\"2025-07-01\")},\n",
    "    rfr_future\n",
    ")\n",
    "ve.calculateValue()\n",
    "print(\"RFR Future PV:\", ve.value)"
   ]
  },
  {
   "cell_type": "markdown",
   "id": "2160ef05",
   "metadata": {},
   "source": [
    "## 8. Value a Portfolio"
   ]
  },
  {
   "cell_type": "code",
   "execution_count": null,
   "id": "20a9303b",
   "metadata": {},
   "outputs": [
    {
     "name": "stdout",
     "output_type": "stream",
     "text": [
      "Portfolio PV: ['USD', np.float64(990454.2291353453)]\n"
     ]
    }
   ],
   "source": [
    "# Simple portfolio of bullet + IBOR CF\n",
    "portfolio = ProductPortfolio([bullet, ibor_cf], weights=[0.5, 0.5])\n",
    "ve = ValuationEngineRegistry().new_valuation_engine(\n",
    "    yc,\n",
    "    {\"FUNDING INDEX\": \"SOFR-1B\", \"valuation_date\": Date(\"2025-07-01\")},\n",
    "    portfolio\n",
    ")\n",
    "ve.calculateValue()\n",
    "print(\"Portfolio PV:\", ve.value)"
   ]
  },
  {
   "cell_type": "markdown",
   "id": "98ad90d0",
   "metadata": {},
   "source": [
    "## 9. Value Swaps (IBOR & OIS)"
   ]
  },
  {
   "cell_type": "code",
   "execution_count": null,
   "id": "d68971ec",
   "metadata": {},
   "outputs": [
    {
     "name": "stdout",
     "output_type": "stream",
     "text": [
      "IBOR Swap PV: ['USD', np.float64(-2000126.8763746223)] Par Rate: 32.41980827800543\n"
     ]
    }
   ],
   "source": [
    "# IBOR Swap\n",
    "ibor_swap = ProductIborSwap(\n",
    "    effectiveDate=\"2025-06-27\",\n",
    "    maturityDate=\"2026-06-27\",\n",
    "    frequency=\"6M\",\n",
    "    iborIndex=\"USD-LIBOR-BBA-3M\",\n",
    "    spread=0.0,\n",
    "    fixedRate=0.015,\n",
    "    notional=1_000_000,\n",
    "    position=\"SHORT\"\n",
    ")\n",
    "ve = ValuationEngineRegistry().new_valuation_engine(\n",
    "    yc, {\"FUNDING INDEX\": \"SOFR-1B\"}, ibor_swap\n",
    ")\n",
    "ve.calculateValue()\n",
    "print(\"IBOR Swap PV:\", ve.value, \"Par Rate:\", ve.parRate())"
   ]
  },
  {
   "cell_type": "code",
   "execution_count": null,
   "id": "54c66a9b",
   "metadata": {},
   "outputs": [
    {
     "name": "stdout",
     "output_type": "stream",
     "text": [
      "OIS Swap PV: ['USD', np.float64(1999949.24423121)] Par Rate: 31.084772494647435\n"
     ]
    }
   ],
   "source": [
    "# OIS Swap\n",
    "ois_swap = ProductOvernightSwap(\n",
    "    effectiveDate=\"2025-06-27\",\n",
    "    maturityDate=\"2026-06-27\",\n",
    "    frequency=\"6M\",\n",
    "    overnightIndex=\"SOFR-1B\",\n",
    "    spread=0.0,\n",
    "    fixedRate=0.015,\n",
    "    notional=1_000_000,\n",
    "    position=\"LONG\"\n",
    ")\n",
    "ve = ValuationEngineRegistry().new_valuation_engine(\n",
    "    yc, {\"FUNDING INDEX\": \"SOFR-1B\"}, ois_swap\n",
    ")\n",
    "ve.calculateValue()\n",
    "print(\"OIS Swap PV:\", ve.value, \"Par Rate:\", ve.parRate())"
   ]
  }
 ],
 "metadata": {
  "kernelspec": {
   "display_name": "Python 3",
   "language": "python",
   "name": "python3"
  },
  "language_info": {
   "codemirror_mode": {
    "name": "ipython",
    "version": 3
   },
   "file_extension": ".py",
   "mimetype": "text/x-python",
   "name": "python",
   "nbconvert_exporter": "python",
   "pygments_lexer": "ipython3",
   "version": "3.12.5"
  }
 },
 "nbformat": 4,
 "nbformat_minor": 5
}

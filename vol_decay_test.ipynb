{
 "cells": [
  {
   "cell_type": "code",
   "execution_count": 7,
   "id": "61f381d3",
   "metadata": {},
   "outputs": [],
   "source": [
    "import numpy as np\n",
    "import matplotlib.pyplot as plt\n",
    "from analytics.sabr import TimeDecayLognormalSABR\n",
    "from pysabr.models.hagan_2002_lognormal_sabr import Hagan2002LognormalSABR\n",
    "from pysabr.black import shifted_lognormal_call, normal_call\n",
    "from analytics.basics import one_third_rule"
   ]
  },
  {
   "cell_type": "markdown",
   "id": "b6798a27",
   "metadata": {},
   "source": [
    "No-decay sanity check"
   ]
  },
  {
   "cell_type": "code",
   "execution_count": 8,
   "id": "f1644dca",
   "metadata": {},
   "outputs": [],
   "source": [
    "f, shift, t = 0.03, 0.0, 2.0\n",
    "atm_n, beta, rho, nu = 0.01, 0.5, -0.3, 0.4\n",
    "q = 1.234\n",
    "decay_start = t\n",
    "\n",
    "vanilla = Hagan2002LognormalSABR(f, shift, t, atm_n, beta, rho, nu)\n",
    "decay   = TimeDecayLognormalSABR(f, shift, t, atm_n, beta, rho, nu, q, decay_start)\n",
    "\n",
    "ks = np.linspace(0.01, 0.06, 5)\n",
    "v_van = np.array([vanilla.lognormal_vol(k) for k in ks])\n",
    "v_dec = np.array([decay.lognormal_vol(k)   for k in ks])\n",
    "\n",
    "assert np.allclose(v_van, v_dec, atol=1e-8)\n"
   ]
  },
  {
   "cell_type": "markdown",
   "id": "03fffc5e",
   "metadata": {},
   "source": [
    "One-Third Rule"
   ]
  },
  {
   "cell_type": "code",
   "execution_count": 9,
   "id": "390757a9",
   "metadata": {},
   "outputs": [
    {
     "name": "stdout",
     "output_type": "stream",
     "text": [
      "Model LN vol = 0.231475, 1/3 rule = 0.020000\n"
     ]
    }
   ],
   "source": [
    "f, shift, t = 0.05, 0.0, 1.0\n",
    "atm_n = 0.02\n",
    "beta, rho, nu = 0.0, 0.0, 0.0\n",
    "q = 1.0\n",
    "decay_start = 0  # half‐way into the life\n",
    "\n",
    "decay_rule = TimeDecayLognormalSABR(f, shift, t,\n",
    "                                    atm_n, beta, rho, nu,\n",
    "                                    q, decay_start)\n",
    "\n",
    "# model‐implied lognormal vol at the money:\n",
    "sigma_ln    = decay_rule.lognormal_vol(f)\n",
    "# one‐third‐rule approximation:\n",
    "sigma_guess = one_third_rule(atm_n, decay_start, t)\n",
    "\n",
    "print(f\"Model LN vol = {sigma_ln:.6f}, 1/3 rule = {sigma_guess:.6f}\")"
   ]
  }
 ],
 "metadata": {
  "kernelspec": {
   "display_name": "Python 3",
   "language": "python",
   "name": "python3"
  },
  "language_info": {
   "codemirror_mode": {
    "name": "ipython",
    "version": 3
   },
   "file_extension": ".py",
   "mimetype": "text/x-python",
   "name": "python",
   "nbconvert_exporter": "python",
   "pygments_lexer": "ipython3",
   "version": "3.12.5"
  }
 },
 "nbformat": 4,
 "nbformat_minor": 5
}
